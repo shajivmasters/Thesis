{
 "cells": [
  {
   "cell_type": "code",
   "execution_count": 9,
   "id": "fad924a8",
   "metadata": {},
   "outputs": [],
   "source": [
    "import pandas as pd\n",
    "from sklearn.model_selection import train_test_split\n",
    "import time\n",
    "from transformers import BertTokenizer, BertForSequenceClassification, Trainer, TrainingArguments\n",
    "from sklearn.metrics import accuracy_score, precision_score, recall_score, f1_score\n",
    "from sklearn.preprocessing import LabelEncoder\n",
    "import torch\n",
    "import numpy as np\n",
    "\n",
    "\n",
    "import warnings\n",
    "\n",
    "# Suppress specific warnings\n",
    "warnings.filterwarnings(\"ignore\", message=\"Some weights of BertForSequenceClassification were not initialized from the model\")\n",
    "warnings.filterwarnings(\"ignore\", message=\"You should probably TRAIN this model on a down-stream task\")\n",
    "\n",
    "# Your code here\n",
    "# Example:\n",
    "# from transformers import BertForSequenceClassification\n",
    "# model = BertForSequenceClassification.from_pretrained('bert-base-uncased')\n",
    "\n",
    "# Reset the warnings to default behavior after executing the code\n",
    "warnings.resetwarnings()"
   ]
  },
  {
   "cell_type": "code",
   "execution_count": 2,
   "id": "894c5fb6",
   "metadata": {},
   "outputs": [],
   "source": [
    "def run_experiment(layer_name, layers_to_skip, num_samples, dataset_path=\"customer_support_tickets.csv\"):\n",
    "    print(f\"\\nRunning experiment: {layer_name}\")\n",
    "    \n",
    "    # Load the dataset\n",
    "    print(\"Loading dataset...\")\n",
    "    data = pd.read_csv(dataset_path)\n",
    "    data = data.dropna(subset=['Ticket Description'])\n",
    "    data = data[['Ticket Description', 'Ticket Type']]\n",
    "    \n",
    "    # Sample data if not using the full dataset\n",
    "    if num_samples == \"full\":\n",
    "        data_subset = data\n",
    "    else:\n",
    "        data_subset = data.sample(n=num_samples, random_state=42)\n",
    "    \n",
    "    # Split the data into train and test sets\n",
    "    print(\"Splitting data into train and test sets...\")\n",
    "    train_texts, test_texts, train_labels, test_labels = train_test_split(data_subset['Ticket Description'], data_subset['Ticket Type'], test_size=0.2, random_state=42)\n",
    "    \n",
    "    # Encode labels\n",
    "    print(\"Encoding labels...\")\n",
    "    label_encoder = LabelEncoder()\n",
    "    train_labels_encoded = label_encoder.fit_transform(train_labels)\n",
    "    test_labels_encoded = label_encoder.transform(test_labels)\n",
    "\n",
    "    # Tokenization\n",
    "    print(\"Tokenizing data...\")\n",
    "    tokenizer = BertTokenizer.from_pretrained('bert-base-uncased')\n",
    "    train_encodings = tokenizer(list(train_texts), truncation=True, padding=True)\n",
    "    test_encodings = tokenizer(list(test_texts), truncation=True, padding=True)\n",
    "\n",
    "    # Convert encodings to a format suitable for the trainer\n",
    "    print(\"Converting encodings to PyTorch Dataset format...\")\n",
    "    class MyDataset(torch.utils.data.Dataset):\n",
    "        def __init__(self, encodings, labels):\n",
    "            self.encodings = encodings\n",
    "            self.labels = labels\n",
    "\n",
    "        def __getitem__(self, idx):\n",
    "            item = {key: torch.tensor(val[idx]) for key, val in self.encodings.items()}\n",
    "            item['labels'] = torch.tensor(self.labels[idx])\n",
    "            return item\n",
    "\n",
    "        def __len__(self):\n",
    "            return len(self.labels)\n",
    "\n",
    "    train_dataset = MyDataset(train_encodings, train_labels_encoded)\n",
    "    eval_dataset = MyDataset(test_encodings, test_labels_encoded)\n",
    "\n",
    "    # Define BERT model\n",
    "    print(\"Loading BERT model...\")\n",
    "    model_finetuned = BertForSequenceClassification.from_pretrained('bert-base-uncased', num_labels=len(label_encoder.classes_))\n",
    "\n",
    "    # Fine-tune by skipping intermediate layers\n",
    "    if layers_to_skip == 'full':\n",
    "        print(\"Not skipping any layers (training with all layers)...\")\n",
    "        model_pretrained = BertForSequenceClassification.from_pretrained('bert-base-uncased', num_labels=len(label_encoder.classes_))\n",
    "    else:    \n",
    "        print(\"Skipping specified layers...\")\n",
    "        encoder_layers = model_finetuned.bert.encoder.layer\n",
    "        model_finetuned.bert.encoder.layer = torch.nn.ModuleList([layer for i, layer in enumerate(encoder_layers) if i in layers_to_skip])\n",
    "\n",
    "        \n",
    "    # Define training arguments\n",
    "    print(\"Defining training arguments...\")\n",
    "    training_args = TrainingArguments(\n",
    "        output_dir='./results_finetuned',\n",
    "        per_device_train_batch_size=8,\n",
    "        per_device_eval_batch_size=8,\n",
    "        evaluation_strategy='epoch',\n",
    "        logging_dir='./logs_finetuned',\n",
    "        num_train_epochs=3,\n",
    "        learning_rate=2e-5,\n",
    "        save_strategy='epoch',\n",
    "        load_best_model_at_end=True\n",
    "    )\n",
    "\n",
    "    # Define trainer\n",
    "    print(\"Initializing trainer...\")\n",
    "    trainer = Trainer(\n",
    "        model=model_finetuned,\n",
    "        args=training_args,\n",
    "        train_dataset=train_dataset,\n",
    "        eval_dataset=eval_dataset\n",
    "    )\n",
    "\n",
    "    # Train and evaluate model\n",
    "    print(\"Training and evaluating model...\")\n",
    "    start_time = time.time()\n",
    "    trainer.train()\n",
    "    preds = trainer.predict(eval_dataset)\n",
    "    processing_time = time.time() - start_time\n",
    "\n",
    "    # Calculate metrics\n",
    "    print(\"Calculating metrics...\")\n",
    "    accuracy = accuracy_score(test_labels_encoded, preds.predictions.argmax(axis=1))\n",
    "    precision = precision_score(test_labels_encoded, preds.predictions.argmax(axis=1), average='weighted')\n",
    "    recall = recall_score(test_labels_encoded, preds.predictions.argmax(axis=1), average='weighted')\n",
    "    f1 = f1_score(test_labels_encoded, preds.predictions.argmax(axis=1), average='weighted')\n",
    "\n",
    "    # Print results\n",
    "    print(\"Results for Layer:\", layer_name)\n",
    "    results_df = pd.DataFrame({'Layer Name': [layer_name], 'Accuracy': [accuracy], 'Precision': [precision], 'Recall': [recall], 'F1': [f1], 'Processing Time': [processing_time]})\n",
    "    display(results_df)\n",
    "\n",
    "    return results_df\n"
   ]
  },
  {
   "cell_type": "code",
   "execution_count": 22,
   "id": "5809f63c",
   "metadata": {
    "scrolled": false
   },
   "outputs": [
    {
     "data": {
      "text/plain": [
       "[array([10,  9,  0,  8,  5,  2]),\n",
       " array([10,  9,  0,  8,  6,  3]),\n",
       " array([ 7,  4, 10,  3,  1,  6]),\n",
       " [1, 3, 5, 7, 9, 11],\n",
       " [0, 2, 4, 6, 8, 10],\n",
       " []]"
      ]
     },
     "metadata": {},
     "output_type": "display_data"
    },
    {
     "data": {
      "text/plain": [
       "[[0, 2, 5, 8, 9, 10],\n",
       " [0, 3, 6, 8, 9, 10],\n",
       " [1, 3, 4, 6, 7, 10],\n",
       " [1, 3, 5, 7, 9, 11],\n",
       " [0, 2, 4, 6, 8, 10],\n",
       " []]"
      ]
     },
     "metadata": {},
     "output_type": "display_data"
    },
    {
     "name": "stdout",
     "output_type": "stream",
     "text": [
      "\n",
      "Running experiment: Layer_0_2_5_8_9_10_Skipped\n",
      "Loading dataset...\n",
      "Splitting data into train and test sets...\n",
      "Encoding labels...\n",
      "Tokenizing data...\n",
      "Converting encodings to PyTorch Dataset format...\n",
      "Loading BERT model...\n"
     ]
    },
    {
     "name": "stderr",
     "output_type": "stream",
     "text": [
      "Some weights of BertForSequenceClassification were not initialized from the model checkpoint at bert-base-uncased and are newly initialized: ['classifier.bias', 'classifier.weight']\n",
      "You should probably TRAIN this model on a down-stream task to be able to use it for predictions and inference.\n",
      "/Users/monu/opt/anaconda3/lib/python3.9/site-packages/accelerate/accelerator.py:432: FutureWarning: Passing the following arguments to `Accelerator` is deprecated and will be removed in version 1.0 of Accelerate: dict_keys(['dispatch_batches', 'split_batches']). Please pass an `accelerate.DataLoaderConfiguration` instead: \n",
      "dataloader_config = DataLoaderConfiguration(dispatch_batches=None, split_batches=False)\n",
      "  warnings.warn(\n"
     ]
    },
    {
     "name": "stdout",
     "output_type": "stream",
     "text": [
      "Skipping specified layers...\n",
      "Defining training arguments...\n",
      "Initializing trainer...\n",
      "Training and evaluating model...\n"
     ]
    },
    {
     "data": {
      "text/html": [
       "\n",
       "    <div>\n",
       "      \n",
       "      <progress value='2541' max='2541' style='width:300px; height:20px; vertical-align: middle;'></progress>\n",
       "      [2541/2541 1:46:51, Epoch 3/3]\n",
       "    </div>\n",
       "    <table border=\"1\" class=\"dataframe\">\n",
       "  <thead>\n",
       " <tr style=\"text-align: left;\">\n",
       "      <th>Epoch</th>\n",
       "      <th>Training Loss</th>\n",
       "      <th>Validation Loss</th>\n",
       "    </tr>\n",
       "  </thead>\n",
       "  <tbody>\n",
       "    <tr>\n",
       "      <td>1</td>\n",
       "      <td>1.627600</td>\n",
       "      <td>1.614062</td>\n",
       "    </tr>\n",
       "    <tr>\n",
       "      <td>2</td>\n",
       "      <td>1.617300</td>\n",
       "      <td>1.610647</td>\n",
       "    </tr>\n",
       "    <tr>\n",
       "      <td>3</td>\n",
       "      <td>1.605200</td>\n",
       "      <td>1.612540</td>\n",
       "    </tr>\n",
       "  </tbody>\n",
       "</table><p>"
      ],
      "text/plain": [
       "<IPython.core.display.HTML object>"
      ]
     },
     "metadata": {},
     "output_type": "display_data"
    },
    {
     "name": "stderr",
     "output_type": "stream",
     "text": [
      "Checkpoint destination directory ./results_finetuned/checkpoint-847 already exists and is non-empty.Saving will proceed but saved results may be invalid.\n",
      "Checkpoint destination directory ./results_finetuned/checkpoint-1694 already exists and is non-empty.Saving will proceed but saved results may be invalid.\n",
      "Checkpoint destination directory ./results_finetuned/checkpoint-2541 already exists and is non-empty.Saving will proceed but saved results may be invalid.\n"
     ]
    },
    {
     "data": {
      "text/html": [],
      "text/plain": [
       "<IPython.core.display.HTML object>"
      ]
     },
     "metadata": {},
     "output_type": "display_data"
    },
    {
     "name": "stdout",
     "output_type": "stream",
     "text": [
      "Calculating metrics...\n",
      "Results for Layer: Layer_0_2_5_8_9_10_Skipped\n"
     ]
    },
    {
     "name": "stderr",
     "output_type": "stream",
     "text": [
      "/Users/monu/opt/anaconda3/lib/python3.9/site-packages/sklearn/metrics/_classification.py:1344: UndefinedMetricWarning: Precision is ill-defined and being set to 0.0 in labels with no predicted samples. Use `zero_division` parameter to control this behavior.\n",
      "  _warn_prf(average, modifier, msg_start, len(result))\n"
     ]
    },
    {
     "data": {
      "text/html": [
       "<div>\n",
       "<style scoped>\n",
       "    .dataframe tbody tr th:only-of-type {\n",
       "        vertical-align: middle;\n",
       "    }\n",
       "\n",
       "    .dataframe tbody tr th {\n",
       "        vertical-align: top;\n",
       "    }\n",
       "\n",
       "    .dataframe thead th {\n",
       "        text-align: right;\n",
       "    }\n",
       "</style>\n",
       "<table border=\"1\" class=\"dataframe\">\n",
       "  <thead>\n",
       "    <tr style=\"text-align: right;\">\n",
       "      <th></th>\n",
       "      <th>Layer Name</th>\n",
       "      <th>Accuracy</th>\n",
       "      <th>Precision</th>\n",
       "      <th>Recall</th>\n",
       "      <th>F1</th>\n",
       "      <th>Processing Time</th>\n",
       "    </tr>\n",
       "  </thead>\n",
       "  <tbody>\n",
       "    <tr>\n",
       "      <th>0</th>\n",
       "      <td>Layer_0_2_5_8_9_10_Skipped</td>\n",
       "      <td>0.200708</td>\n",
       "      <td>0.187591</td>\n",
       "      <td>0.200708</td>\n",
       "      <td>0.138863</td>\n",
       "      <td>6678.06081</td>\n",
       "    </tr>\n",
       "  </tbody>\n",
       "</table>\n",
       "</div>"
      ],
      "text/plain": [
       "                   Layer Name  Accuracy  Precision    Recall        F1  \\\n",
       "0  Layer_0_2_5_8_9_10_Skipped  0.200708   0.187591  0.200708  0.138863   \n",
       "\n",
       "   Processing Time  \n",
       "0       6678.06081  "
      ]
     },
     "metadata": {},
     "output_type": "display_data"
    },
    {
     "name": "stdout",
     "output_type": "stream",
     "text": [
      "\n",
      "Running experiment: Layer_0_3_6_8_9_10_Skipped\n",
      "Loading dataset...\n",
      "Splitting data into train and test sets...\n",
      "Encoding labels...\n",
      "Tokenizing data...\n",
      "Converting encodings to PyTorch Dataset format...\n",
      "Loading BERT model...\n"
     ]
    },
    {
     "name": "stderr",
     "output_type": "stream",
     "text": [
      "Some weights of BertForSequenceClassification were not initialized from the model checkpoint at bert-base-uncased and are newly initialized: ['classifier.bias', 'classifier.weight']\n",
      "You should probably TRAIN this model on a down-stream task to be able to use it for predictions and inference.\n",
      "/Users/monu/opt/anaconda3/lib/python3.9/site-packages/accelerate/accelerator.py:432: FutureWarning: Passing the following arguments to `Accelerator` is deprecated and will be removed in version 1.0 of Accelerate: dict_keys(['dispatch_batches', 'split_batches']). Please pass an `accelerate.DataLoaderConfiguration` instead: \n",
      "dataloader_config = DataLoaderConfiguration(dispatch_batches=None, split_batches=False)\n",
      "  warnings.warn(\n"
     ]
    },
    {
     "name": "stdout",
     "output_type": "stream",
     "text": [
      "Skipping specified layers...\n",
      "Defining training arguments...\n",
      "Initializing trainer...\n",
      "Training and evaluating model...\n"
     ]
    },
    {
     "data": {
      "text/html": [
       "\n",
       "    <div>\n",
       "      \n",
       "      <progress value='2541' max='2541' style='width:300px; height:20px; vertical-align: middle;'></progress>\n",
       "      [2541/2541 1:47:29, Epoch 3/3]\n",
       "    </div>\n",
       "    <table border=\"1\" class=\"dataframe\">\n",
       "  <thead>\n",
       " <tr style=\"text-align: left;\">\n",
       "      <th>Epoch</th>\n",
       "      <th>Training Loss</th>\n",
       "      <th>Validation Loss</th>\n",
       "    </tr>\n",
       "  </thead>\n",
       "  <tbody>\n",
       "    <tr>\n",
       "      <td>1</td>\n",
       "      <td>1.626800</td>\n",
       "      <td>1.613622</td>\n",
       "    </tr>\n",
       "    <tr>\n",
       "      <td>2</td>\n",
       "      <td>1.618000</td>\n",
       "      <td>1.611240</td>\n",
       "    </tr>\n",
       "    <tr>\n",
       "      <td>3</td>\n",
       "      <td>1.609300</td>\n",
       "      <td>1.612937</td>\n",
       "    </tr>\n",
       "  </tbody>\n",
       "</table><p>"
      ],
      "text/plain": [
       "<IPython.core.display.HTML object>"
      ]
     },
     "metadata": {},
     "output_type": "display_data"
    },
    {
     "name": "stderr",
     "output_type": "stream",
     "text": [
      "Checkpoint destination directory ./results_finetuned/checkpoint-847 already exists and is non-empty.Saving will proceed but saved results may be invalid.\n",
      "Checkpoint destination directory ./results_finetuned/checkpoint-1694 already exists and is non-empty.Saving will proceed but saved results may be invalid.\n",
      "Checkpoint destination directory ./results_finetuned/checkpoint-2541 already exists and is non-empty.Saving will proceed but saved results may be invalid.\n"
     ]
    },
    {
     "data": {
      "text/html": [],
      "text/plain": [
       "<IPython.core.display.HTML object>"
      ]
     },
     "metadata": {},
     "output_type": "display_data"
    },
    {
     "name": "stdout",
     "output_type": "stream",
     "text": [
      "Calculating metrics...\n",
      "Results for Layer: Layer_0_3_6_8_9_10_Skipped\n"
     ]
    },
    {
     "name": "stderr",
     "output_type": "stream",
     "text": [
      "/Users/monu/opt/anaconda3/lib/python3.9/site-packages/sklearn/metrics/_classification.py:1344: UndefinedMetricWarning: Precision is ill-defined and being set to 0.0 in labels with no predicted samples. Use `zero_division` parameter to control this behavior.\n",
      "  _warn_prf(average, modifier, msg_start, len(result))\n"
     ]
    },
    {
     "data": {
      "text/html": [
       "<div>\n",
       "<style scoped>\n",
       "    .dataframe tbody tr th:only-of-type {\n",
       "        vertical-align: middle;\n",
       "    }\n",
       "\n",
       "    .dataframe tbody tr th {\n",
       "        vertical-align: top;\n",
       "    }\n",
       "\n",
       "    .dataframe thead th {\n",
       "        text-align: right;\n",
       "    }\n",
       "</style>\n",
       "<table border=\"1\" class=\"dataframe\">\n",
       "  <thead>\n",
       "    <tr style=\"text-align: right;\">\n",
       "      <th></th>\n",
       "      <th>Layer Name</th>\n",
       "      <th>Accuracy</th>\n",
       "      <th>Precision</th>\n",
       "      <th>Recall</th>\n",
       "      <th>F1</th>\n",
       "      <th>Processing Time</th>\n",
       "    </tr>\n",
       "  </thead>\n",
       "  <tbody>\n",
       "    <tr>\n",
       "      <th>0</th>\n",
       "      <td>Layer_0_3_6_8_9_10_Skipped</td>\n",
       "      <td>0.201299</td>\n",
       "      <td>0.096439</td>\n",
       "      <td>0.201299</td>\n",
       "      <td>0.117623</td>\n",
       "      <td>6710.654392</td>\n",
       "    </tr>\n",
       "  </tbody>\n",
       "</table>\n",
       "</div>"
      ],
      "text/plain": [
       "                   Layer Name  Accuracy  Precision    Recall        F1  \\\n",
       "0  Layer_0_3_6_8_9_10_Skipped  0.201299   0.096439  0.201299  0.117623   \n",
       "\n",
       "   Processing Time  \n",
       "0      6710.654392  "
      ]
     },
     "metadata": {},
     "output_type": "display_data"
    },
    {
     "name": "stdout",
     "output_type": "stream",
     "text": [
      "\n",
      "Running experiment: Layer_1_3_4_6_7_10_Skipped\n",
      "Loading dataset...\n",
      "Splitting data into train and test sets...\n",
      "Encoding labels...\n",
      "Tokenizing data...\n",
      "Converting encodings to PyTorch Dataset format...\n",
      "Loading BERT model...\n"
     ]
    },
    {
     "name": "stderr",
     "output_type": "stream",
     "text": [
      "Some weights of BertForSequenceClassification were not initialized from the model checkpoint at bert-base-uncased and are newly initialized: ['classifier.bias', 'classifier.weight']\n",
      "You should probably TRAIN this model on a down-stream task to be able to use it for predictions and inference.\n",
      "/Users/monu/opt/anaconda3/lib/python3.9/site-packages/accelerate/accelerator.py:432: FutureWarning: Passing the following arguments to `Accelerator` is deprecated and will be removed in version 1.0 of Accelerate: dict_keys(['dispatch_batches', 'split_batches']). Please pass an `accelerate.DataLoaderConfiguration` instead: \n",
      "dataloader_config = DataLoaderConfiguration(dispatch_batches=None, split_batches=False)\n",
      "  warnings.warn(\n"
     ]
    },
    {
     "name": "stdout",
     "output_type": "stream",
     "text": [
      "Skipping specified layers...\n",
      "Defining training arguments...\n",
      "Initializing trainer...\n",
      "Training and evaluating model...\n"
     ]
    },
    {
     "data": {
      "text/html": [
       "\n",
       "    <div>\n",
       "      \n",
       "      <progress value='2541' max='2541' style='width:300px; height:20px; vertical-align: middle;'></progress>\n",
       "      [2541/2541 1:47:17, Epoch 3/3]\n",
       "    </div>\n",
       "    <table border=\"1\" class=\"dataframe\">\n",
       "  <thead>\n",
       " <tr style=\"text-align: left;\">\n",
       "      <th>Epoch</th>\n",
       "      <th>Training Loss</th>\n",
       "      <th>Validation Loss</th>\n",
       "    </tr>\n",
       "  </thead>\n",
       "  <tbody>\n",
       "    <tr>\n",
       "      <td>1</td>\n",
       "      <td>1.623000</td>\n",
       "      <td>1.610842</td>\n",
       "    </tr>\n",
       "    <tr>\n",
       "      <td>2</td>\n",
       "      <td>1.611800</td>\n",
       "      <td>1.610921</td>\n",
       "    </tr>\n",
       "    <tr>\n",
       "      <td>3</td>\n",
       "      <td>1.608300</td>\n",
       "      <td>1.610199</td>\n",
       "    </tr>\n",
       "  </tbody>\n",
       "</table><p>"
      ],
      "text/plain": [
       "<IPython.core.display.HTML object>"
      ]
     },
     "metadata": {},
     "output_type": "display_data"
    },
    {
     "name": "stderr",
     "output_type": "stream",
     "text": [
      "Checkpoint destination directory ./results_finetuned/checkpoint-847 already exists and is non-empty.Saving will proceed but saved results may be invalid.\n",
      "Checkpoint destination directory ./results_finetuned/checkpoint-1694 already exists and is non-empty.Saving will proceed but saved results may be invalid.\n",
      "Checkpoint destination directory ./results_finetuned/checkpoint-2541 already exists and is non-empty.Saving will proceed but saved results may be invalid.\n"
     ]
    },
    {
     "data": {
      "text/html": [],
      "text/plain": [
       "<IPython.core.display.HTML object>"
      ]
     },
     "metadata": {},
     "output_type": "display_data"
    },
    {
     "name": "stdout",
     "output_type": "stream",
     "text": [
      "Calculating metrics...\n",
      "Results for Layer: Layer_1_3_4_6_7_10_Skipped\n"
     ]
    },
    {
     "name": "stderr",
     "output_type": "stream",
     "text": [
      "/Users/monu/opt/anaconda3/lib/python3.9/site-packages/sklearn/metrics/_classification.py:1344: UndefinedMetricWarning: Precision is ill-defined and being set to 0.0 in labels with no predicted samples. Use `zero_division` parameter to control this behavior.\n",
      "  _warn_prf(average, modifier, msg_start, len(result))\n"
     ]
    },
    {
     "data": {
      "text/html": [
       "<div>\n",
       "<style scoped>\n",
       "    .dataframe tbody tr th:only-of-type {\n",
       "        vertical-align: middle;\n",
       "    }\n",
       "\n",
       "    .dataframe tbody tr th {\n",
       "        vertical-align: top;\n",
       "    }\n",
       "\n",
       "    .dataframe thead th {\n",
       "        text-align: right;\n",
       "    }\n",
       "</style>\n",
       "<table border=\"1\" class=\"dataframe\">\n",
       "  <thead>\n",
       "    <tr style=\"text-align: right;\">\n",
       "      <th></th>\n",
       "      <th>Layer Name</th>\n",
       "      <th>Accuracy</th>\n",
       "      <th>Precision</th>\n",
       "      <th>Recall</th>\n",
       "      <th>F1</th>\n",
       "      <th>Processing Time</th>\n",
       "    </tr>\n",
       "  </thead>\n",
       "  <tbody>\n",
       "    <tr>\n",
       "      <th>0</th>\n",
       "      <td>Layer_1_3_4_6_7_10_Skipped</td>\n",
       "      <td>0.20366</td>\n",
       "      <td>0.084385</td>\n",
       "      <td>0.20366</td>\n",
       "      <td>0.074252</td>\n",
       "      <td>6697.790006</td>\n",
       "    </tr>\n",
       "  </tbody>\n",
       "</table>\n",
       "</div>"
      ],
      "text/plain": [
       "                   Layer Name  Accuracy  Precision   Recall        F1  \\\n",
       "0  Layer_1_3_4_6_7_10_Skipped   0.20366   0.084385  0.20366  0.074252   \n",
       "\n",
       "   Processing Time  \n",
       "0      6697.790006  "
      ]
     },
     "metadata": {},
     "output_type": "display_data"
    },
    {
     "name": "stdout",
     "output_type": "stream",
     "text": [
      "\n",
      "Running experiment: Layer_1_3_5_7_9_11_Skipped\n",
      "Loading dataset...\n",
      "Splitting data into train and test sets...\n",
      "Encoding labels...\n",
      "Tokenizing data...\n",
      "Converting encodings to PyTorch Dataset format...\n",
      "Loading BERT model...\n"
     ]
    },
    {
     "name": "stderr",
     "output_type": "stream",
     "text": [
      "Some weights of BertForSequenceClassification were not initialized from the model checkpoint at bert-base-uncased and are newly initialized: ['classifier.bias', 'classifier.weight']\n",
      "You should probably TRAIN this model on a down-stream task to be able to use it for predictions and inference.\n",
      "/Users/monu/opt/anaconda3/lib/python3.9/site-packages/accelerate/accelerator.py:432: FutureWarning: Passing the following arguments to `Accelerator` is deprecated and will be removed in version 1.0 of Accelerate: dict_keys(['dispatch_batches', 'split_batches']). Please pass an `accelerate.DataLoaderConfiguration` instead: \n",
      "dataloader_config = DataLoaderConfiguration(dispatch_batches=None, split_batches=False)\n",
      "  warnings.warn(\n"
     ]
    },
    {
     "name": "stdout",
     "output_type": "stream",
     "text": [
      "Skipping specified layers...\n",
      "Defining training arguments...\n",
      "Initializing trainer...\n",
      "Training and evaluating model...\n"
     ]
    },
    {
     "data": {
      "text/html": [
       "\n",
       "    <div>\n",
       "      \n",
       "      <progress value='2541' max='2541' style='width:300px; height:20px; vertical-align: middle;'></progress>\n",
       "      [2541/2541 1:47:21, Epoch 3/3]\n",
       "    </div>\n",
       "    <table border=\"1\" class=\"dataframe\">\n",
       "  <thead>\n",
       " <tr style=\"text-align: left;\">\n",
       "      <th>Epoch</th>\n",
       "      <th>Training Loss</th>\n",
       "      <th>Validation Loss</th>\n",
       "    </tr>\n",
       "  </thead>\n",
       "  <tbody>\n",
       "    <tr>\n",
       "      <td>1</td>\n",
       "      <td>1.620100</td>\n",
       "      <td>1.610638</td>\n",
       "    </tr>\n",
       "    <tr>\n",
       "      <td>2</td>\n",
       "      <td>1.613300</td>\n",
       "      <td>1.611135</td>\n",
       "    </tr>\n",
       "    <tr>\n",
       "      <td>3</td>\n",
       "      <td>1.604800</td>\n",
       "      <td>1.611037</td>\n",
       "    </tr>\n",
       "  </tbody>\n",
       "</table><p>"
      ],
      "text/plain": [
       "<IPython.core.display.HTML object>"
      ]
     },
     "metadata": {},
     "output_type": "display_data"
    },
    {
     "name": "stderr",
     "output_type": "stream",
     "text": [
      "Checkpoint destination directory ./results_finetuned/checkpoint-847 already exists and is non-empty.Saving will proceed but saved results may be invalid.\n",
      "Checkpoint destination directory ./results_finetuned/checkpoint-1694 already exists and is non-empty.Saving will proceed but saved results may be invalid.\n",
      "Checkpoint destination directory ./results_finetuned/checkpoint-2541 already exists and is non-empty.Saving will proceed but saved results may be invalid.\n"
     ]
    },
    {
     "data": {
      "text/html": [],
      "text/plain": [
       "<IPython.core.display.HTML object>"
      ]
     },
     "metadata": {},
     "output_type": "display_data"
    },
    {
     "name": "stdout",
     "output_type": "stream",
     "text": [
      "Calculating metrics...\n",
      "Results for Layer: Layer_1_3_5_7_9_11_Skipped\n"
     ]
    },
    {
     "name": "stderr",
     "output_type": "stream",
     "text": [
      "/Users/monu/opt/anaconda3/lib/python3.9/site-packages/sklearn/metrics/_classification.py:1344: UndefinedMetricWarning: Precision is ill-defined and being set to 0.0 in labels with no predicted samples. Use `zero_division` parameter to control this behavior.\n",
      "  _warn_prf(average, modifier, msg_start, len(result))\n"
     ]
    },
    {
     "data": {
      "text/html": [
       "<div>\n",
       "<style scoped>\n",
       "    .dataframe tbody tr th:only-of-type {\n",
       "        vertical-align: middle;\n",
       "    }\n",
       "\n",
       "    .dataframe tbody tr th {\n",
       "        vertical-align: top;\n",
       "    }\n",
       "\n",
       "    .dataframe thead th {\n",
       "        text-align: right;\n",
       "    }\n",
       "</style>\n",
       "<table border=\"1\" class=\"dataframe\">\n",
       "  <thead>\n",
       "    <tr style=\"text-align: right;\">\n",
       "      <th></th>\n",
       "      <th>Layer Name</th>\n",
       "      <th>Accuracy</th>\n",
       "      <th>Precision</th>\n",
       "      <th>Recall</th>\n",
       "      <th>F1</th>\n",
       "      <th>Processing Time</th>\n",
       "    </tr>\n",
       "  </thead>\n",
       "  <tbody>\n",
       "    <tr>\n",
       "      <th>0</th>\n",
       "      <td>Layer_1_3_5_7_9_11_Skipped</td>\n",
       "      <td>0.20366</td>\n",
       "      <td>0.041477</td>\n",
       "      <td>0.20366</td>\n",
       "      <td>0.068919</td>\n",
       "      <td>6702.326757</td>\n",
       "    </tr>\n",
       "  </tbody>\n",
       "</table>\n",
       "</div>"
      ],
      "text/plain": [
       "                   Layer Name  Accuracy  Precision   Recall        F1  \\\n",
       "0  Layer_1_3_5_7_9_11_Skipped   0.20366   0.041477  0.20366  0.068919   \n",
       "\n",
       "   Processing Time  \n",
       "0      6702.326757  "
      ]
     },
     "metadata": {},
     "output_type": "display_data"
    },
    {
     "name": "stdout",
     "output_type": "stream",
     "text": [
      "\n",
      "Running experiment: Layer_0_2_4_6_8_10_Skipped\n",
      "Loading dataset...\n",
      "Splitting data into train and test sets...\n",
      "Encoding labels...\n",
      "Tokenizing data...\n",
      "Converting encodings to PyTorch Dataset format...\n",
      "Loading BERT model...\n"
     ]
    },
    {
     "name": "stderr",
     "output_type": "stream",
     "text": [
      "Some weights of BertForSequenceClassification were not initialized from the model checkpoint at bert-base-uncased and are newly initialized: ['classifier.bias', 'classifier.weight']\n",
      "You should probably TRAIN this model on a down-stream task to be able to use it for predictions and inference.\n",
      "/Users/monu/opt/anaconda3/lib/python3.9/site-packages/accelerate/accelerator.py:432: FutureWarning: Passing the following arguments to `Accelerator` is deprecated and will be removed in version 1.0 of Accelerate: dict_keys(['dispatch_batches', 'split_batches']). Please pass an `accelerate.DataLoaderConfiguration` instead: \n",
      "dataloader_config = DataLoaderConfiguration(dispatch_batches=None, split_batches=False)\n",
      "  warnings.warn(\n"
     ]
    },
    {
     "name": "stdout",
     "output_type": "stream",
     "text": [
      "Skipping specified layers...\n",
      "Defining training arguments...\n",
      "Initializing trainer...\n",
      "Training and evaluating model...\n"
     ]
    },
    {
     "data": {
      "text/html": [
       "\n",
       "    <div>\n",
       "      \n",
       "      <progress value='2541' max='2541' style='width:300px; height:20px; vertical-align: middle;'></progress>\n",
       "      [2541/2541 1:46:52, Epoch 3/3]\n",
       "    </div>\n",
       "    <table border=\"1\" class=\"dataframe\">\n",
       "  <thead>\n",
       " <tr style=\"text-align: left;\">\n",
       "      <th>Epoch</th>\n",
       "      <th>Training Loss</th>\n",
       "      <th>Validation Loss</th>\n",
       "    </tr>\n",
       "  </thead>\n",
       "  <tbody>\n",
       "    <tr>\n",
       "      <td>1</td>\n",
       "      <td>1.625800</td>\n",
       "      <td>1.613784</td>\n",
       "    </tr>\n",
       "    <tr>\n",
       "      <td>2</td>\n",
       "      <td>1.617800</td>\n",
       "      <td>1.611159</td>\n",
       "    </tr>\n",
       "    <tr>\n",
       "      <td>3</td>\n",
       "      <td>1.609600</td>\n",
       "      <td>1.613153</td>\n",
       "    </tr>\n",
       "  </tbody>\n",
       "</table><p>"
      ],
      "text/plain": [
       "<IPython.core.display.HTML object>"
      ]
     },
     "metadata": {},
     "output_type": "display_data"
    },
    {
     "name": "stderr",
     "output_type": "stream",
     "text": [
      "Checkpoint destination directory ./results_finetuned/checkpoint-847 already exists and is non-empty.Saving will proceed but saved results may be invalid.\n",
      "Checkpoint destination directory ./results_finetuned/checkpoint-1694 already exists and is non-empty.Saving will proceed but saved results may be invalid.\n",
      "Checkpoint destination directory ./results_finetuned/checkpoint-2541 already exists and is non-empty.Saving will proceed but saved results may be invalid.\n"
     ]
    },
    {
     "data": {
      "text/html": [],
      "text/plain": [
       "<IPython.core.display.HTML object>"
      ]
     },
     "metadata": {},
     "output_type": "display_data"
    },
    {
     "name": "stdout",
     "output_type": "stream",
     "text": [
      "Calculating metrics...\n",
      "Results for Layer: Layer_0_2_4_6_8_10_Skipped\n"
     ]
    },
    {
     "name": "stderr",
     "output_type": "stream",
     "text": [
      "/Users/monu/opt/anaconda3/lib/python3.9/site-packages/sklearn/metrics/_classification.py:1344: UndefinedMetricWarning: Precision is ill-defined and being set to 0.0 in labels with no predicted samples. Use `zero_division` parameter to control this behavior.\n",
      "  _warn_prf(average, modifier, msg_start, len(result))\n"
     ]
    },
    {
     "data": {
      "text/html": [
       "<div>\n",
       "<style scoped>\n",
       "    .dataframe tbody tr th:only-of-type {\n",
       "        vertical-align: middle;\n",
       "    }\n",
       "\n",
       "    .dataframe tbody tr th {\n",
       "        vertical-align: top;\n",
       "    }\n",
       "\n",
       "    .dataframe thead th {\n",
       "        text-align: right;\n",
       "    }\n",
       "</style>\n",
       "<table border=\"1\" class=\"dataframe\">\n",
       "  <thead>\n",
       "    <tr style=\"text-align: right;\">\n",
       "      <th></th>\n",
       "      <th>Layer Name</th>\n",
       "      <th>Accuracy</th>\n",
       "      <th>Precision</th>\n",
       "      <th>Recall</th>\n",
       "      <th>F1</th>\n",
       "      <th>Processing Time</th>\n",
       "    </tr>\n",
       "  </thead>\n",
       "  <tbody>\n",
       "    <tr>\n",
       "      <th>0</th>\n",
       "      <td>Layer_0_2_4_6_8_10_Skipped</td>\n",
       "      <td>0.208973</td>\n",
       "      <td>0.16101</td>\n",
       "      <td>0.208973</td>\n",
       "      <td>0.161536</td>\n",
       "      <td>6672.350841</td>\n",
       "    </tr>\n",
       "  </tbody>\n",
       "</table>\n",
       "</div>"
      ],
      "text/plain": [
       "                   Layer Name  Accuracy  Precision    Recall        F1  \\\n",
       "0  Layer_0_2_4_6_8_10_Skipped  0.208973    0.16101  0.208973  0.161536   \n",
       "\n",
       "   Processing Time  \n",
       "0      6672.350841  "
      ]
     },
     "metadata": {},
     "output_type": "display_data"
    },
    {
     "name": "stdout",
     "output_type": "stream",
     "text": [
      "\n",
      "Running experiment: Full_Pretrained\n",
      "Loading dataset...\n",
      "Splitting data into train and test sets...\n",
      "Encoding labels...\n",
      "Tokenizing data...\n",
      "Converting encodings to PyTorch Dataset format...\n",
      "Loading BERT model...\n"
     ]
    },
    {
     "name": "stderr",
     "output_type": "stream",
     "text": [
      "Some weights of BertForSequenceClassification were not initialized from the model checkpoint at bert-base-uncased and are newly initialized: ['classifier.bias', 'classifier.weight']\n",
      "You should probably TRAIN this model on a down-stream task to be able to use it for predictions and inference.\n"
     ]
    },
    {
     "name": "stdout",
     "output_type": "stream",
     "text": [
      "Not skipping any layers (training with all layers)...\n"
     ]
    },
    {
     "name": "stderr",
     "output_type": "stream",
     "text": [
      "Some weights of BertForSequenceClassification were not initialized from the model checkpoint at bert-base-uncased and are newly initialized: ['classifier.bias', 'classifier.weight']\n",
      "You should probably TRAIN this model on a down-stream task to be able to use it for predictions and inference.\n",
      "/Users/monu/opt/anaconda3/lib/python3.9/site-packages/accelerate/accelerator.py:432: FutureWarning: Passing the following arguments to `Accelerator` is deprecated and will be removed in version 1.0 of Accelerate: dict_keys(['dispatch_batches', 'split_batches']). Please pass an `accelerate.DataLoaderConfiguration` instead: \n",
      "dataloader_config = DataLoaderConfiguration(dispatch_batches=None, split_batches=False)\n",
      "  warnings.warn(\n"
     ]
    },
    {
     "name": "stdout",
     "output_type": "stream",
     "text": [
      "Defining training arguments...\n",
      "Initializing trainer...\n",
      "Training and evaluating model...\n"
     ]
    },
    {
     "data": {
      "text/html": [
       "\n",
       "    <div>\n",
       "      \n",
       "      <progress value='2541' max='2541' style='width:300px; height:20px; vertical-align: middle;'></progress>\n",
       "      [2541/2541 4:28:48, Epoch 3/3]\n",
       "    </div>\n",
       "    <table border=\"1\" class=\"dataframe\">\n",
       "  <thead>\n",
       " <tr style=\"text-align: left;\">\n",
       "      <th>Epoch</th>\n",
       "      <th>Training Loss</th>\n",
       "      <th>Validation Loss</th>\n",
       "    </tr>\n",
       "  </thead>\n",
       "  <tbody>\n",
       "    <tr>\n",
       "      <td>1</td>\n",
       "      <td>1.618600</td>\n",
       "      <td>1.610432</td>\n",
       "    </tr>\n",
       "    <tr>\n",
       "      <td>2</td>\n",
       "      <td>1.611200</td>\n",
       "      <td>1.612422</td>\n",
       "    </tr>\n",
       "    <tr>\n",
       "      <td>3</td>\n",
       "      <td>1.607400</td>\n",
       "      <td>1.610444</td>\n",
       "    </tr>\n",
       "  </tbody>\n",
       "</table><p>"
      ],
      "text/plain": [
       "<IPython.core.display.HTML object>"
      ]
     },
     "metadata": {},
     "output_type": "display_data"
    },
    {
     "name": "stderr",
     "output_type": "stream",
     "text": [
      "Checkpoint destination directory ./results_finetuned/checkpoint-847 already exists and is non-empty.Saving will proceed but saved results may be invalid.\n",
      "Checkpoint destination directory ./results_finetuned/checkpoint-1694 already exists and is non-empty.Saving will proceed but saved results may be invalid.\n",
      "Checkpoint destination directory ./results_finetuned/checkpoint-2541 already exists and is non-empty.Saving will proceed but saved results may be invalid.\n"
     ]
    },
    {
     "data": {
      "text/html": [],
      "text/plain": [
       "<IPython.core.display.HTML object>"
      ]
     },
     "metadata": {},
     "output_type": "display_data"
    },
    {
     "name": "stdout",
     "output_type": "stream",
     "text": [
      "Calculating metrics...\n",
      "Results for Layer: Full_Pretrained\n"
     ]
    },
    {
     "name": "stderr",
     "output_type": "stream",
     "text": [
      "/Users/monu/opt/anaconda3/lib/python3.9/site-packages/sklearn/metrics/_classification.py:1344: UndefinedMetricWarning: Precision is ill-defined and being set to 0.0 in labels with no predicted samples. Use `zero_division` parameter to control this behavior.\n",
      "  _warn_prf(average, modifier, msg_start, len(result))\n"
     ]
    },
    {
     "data": {
      "text/html": [
       "<div>\n",
       "<style scoped>\n",
       "    .dataframe tbody tr th:only-of-type {\n",
       "        vertical-align: middle;\n",
       "    }\n",
       "\n",
       "    .dataframe tbody tr th {\n",
       "        vertical-align: top;\n",
       "    }\n",
       "\n",
       "    .dataframe thead th {\n",
       "        text-align: right;\n",
       "    }\n",
       "</style>\n",
       "<table border=\"1\" class=\"dataframe\">\n",
       "  <thead>\n",
       "    <tr style=\"text-align: right;\">\n",
       "      <th></th>\n",
       "      <th>Layer Name</th>\n",
       "      <th>Accuracy</th>\n",
       "      <th>Precision</th>\n",
       "      <th>Recall</th>\n",
       "      <th>F1</th>\n",
       "      <th>Processing Time</th>\n",
       "    </tr>\n",
       "  </thead>\n",
       "  <tbody>\n",
       "    <tr>\n",
       "      <th>0</th>\n",
       "      <td>Full_Pretrained</td>\n",
       "      <td>0.195986</td>\n",
       "      <td>0.077262</td>\n",
       "      <td>0.195986</td>\n",
       "      <td>0.108527</td>\n",
       "      <td>16646.342353</td>\n",
       "    </tr>\n",
       "  </tbody>\n",
       "</table>\n",
       "</div>"
      ],
      "text/plain": [
       "        Layer Name  Accuracy  Precision    Recall        F1  Processing Time\n",
       "0  Full_Pretrained  0.195986   0.077262  0.195986  0.108527     16646.342353"
      ]
     },
     "metadata": {},
     "output_type": "display_data"
    },
    {
     "name": "stdout",
     "output_type": "stream",
     "text": [
      "\n",
      "Combined Results:\n"
     ]
    },
    {
     "data": {
      "text/html": [
       "<div>\n",
       "<style scoped>\n",
       "    .dataframe tbody tr th:only-of-type {\n",
       "        vertical-align: middle;\n",
       "    }\n",
       "\n",
       "    .dataframe tbody tr th {\n",
       "        vertical-align: top;\n",
       "    }\n",
       "\n",
       "    .dataframe thead th {\n",
       "        text-align: right;\n",
       "    }\n",
       "</style>\n",
       "<table border=\"1\" class=\"dataframe\">\n",
       "  <thead>\n",
       "    <tr style=\"text-align: right;\">\n",
       "      <th></th>\n",
       "      <th>Layer Name</th>\n",
       "      <th>Accuracy</th>\n",
       "      <th>Precision</th>\n",
       "      <th>Recall</th>\n",
       "      <th>F1</th>\n",
       "      <th>Processing Time</th>\n",
       "    </tr>\n",
       "  </thead>\n",
       "  <tbody>\n",
       "    <tr>\n",
       "      <th>0</th>\n",
       "      <td>Layer_0_2_5_8_9_10_Skipped</td>\n",
       "      <td>0.200708</td>\n",
       "      <td>0.187591</td>\n",
       "      <td>0.200708</td>\n",
       "      <td>0.138863</td>\n",
       "      <td>6678.060810</td>\n",
       "    </tr>\n",
       "    <tr>\n",
       "      <th>1</th>\n",
       "      <td>Layer_0_3_6_8_9_10_Skipped</td>\n",
       "      <td>0.201299</td>\n",
       "      <td>0.096439</td>\n",
       "      <td>0.201299</td>\n",
       "      <td>0.117623</td>\n",
       "      <td>6710.654392</td>\n",
       "    </tr>\n",
       "    <tr>\n",
       "      <th>2</th>\n",
       "      <td>Layer_1_3_4_6_7_10_Skipped</td>\n",
       "      <td>0.203660</td>\n",
       "      <td>0.084385</td>\n",
       "      <td>0.203660</td>\n",
       "      <td>0.074252</td>\n",
       "      <td>6697.790006</td>\n",
       "    </tr>\n",
       "    <tr>\n",
       "      <th>3</th>\n",
       "      <td>Layer_1_3_5_7_9_11_Skipped</td>\n",
       "      <td>0.203660</td>\n",
       "      <td>0.041477</td>\n",
       "      <td>0.203660</td>\n",
       "      <td>0.068919</td>\n",
       "      <td>6702.326757</td>\n",
       "    </tr>\n",
       "    <tr>\n",
       "      <th>4</th>\n",
       "      <td>Layer_0_2_4_6_8_10_Skipped</td>\n",
       "      <td>0.208973</td>\n",
       "      <td>0.161010</td>\n",
       "      <td>0.208973</td>\n",
       "      <td>0.161536</td>\n",
       "      <td>6672.350841</td>\n",
       "    </tr>\n",
       "    <tr>\n",
       "      <th>5</th>\n",
       "      <td>Full_Pretrained</td>\n",
       "      <td>0.195986</td>\n",
       "      <td>0.077262</td>\n",
       "      <td>0.195986</td>\n",
       "      <td>0.108527</td>\n",
       "      <td>16646.342353</td>\n",
       "    </tr>\n",
       "  </tbody>\n",
       "</table>\n",
       "</div>"
      ],
      "text/plain": [
       "                   Layer Name  Accuracy  Precision    Recall        F1  \\\n",
       "0  Layer_0_2_5_8_9_10_Skipped  0.200708   0.187591  0.200708  0.138863   \n",
       "1  Layer_0_3_6_8_9_10_Skipped  0.201299   0.096439  0.201299  0.117623   \n",
       "2  Layer_1_3_4_6_7_10_Skipped  0.203660   0.084385  0.203660  0.074252   \n",
       "3  Layer_1_3_5_7_9_11_Skipped  0.203660   0.041477  0.203660  0.068919   \n",
       "4  Layer_0_2_4_6_8_10_Skipped  0.208973   0.161010  0.208973  0.161536   \n",
       "5             Full_Pretrained  0.195986   0.077262  0.195986  0.108527   \n",
       "\n",
       "   Processing Time  \n",
       "0      6678.060810  \n",
       "1      6710.654392  \n",
       "2      6697.790006  \n",
       "3      6702.326757  \n",
       "4      6672.350841  \n",
       "5     16646.342353  "
      ]
     },
     "metadata": {},
     "output_type": "display_data"
    }
   ],
   "source": [
    "# Example usage:\n",
    "layers_to_skip = [\n",
    "    np.random.choice(range(12), 6, replace=False),  # Random skipping\n",
    "    np.random.choice(range(12), 6, replace=False),\n",
    "    np.random.choice(range(12), 6, replace=False),\n",
    "    [i for i in range(1, 12, 2)],  # Skipping odd layers\n",
    "    [i for i in range(0, 12, 2)],  # Skipping even layers\n",
    "    []  # No skipping (full pre-trained)\n",
    "]\n",
    "num_samples = 'full'  # Specify the number of samples, or \"full\" for the full dataset\n",
    "results_dfs = []\n",
    "display(layers_to_skip)\n",
    "sorted_layers_to_skip = [ sorted(layer.tolist()) if isinstance(layer,np.ndarray) else layer for layer in layers_to_skip ]\n",
    "display(sorted_layers_to_skip)\n",
    "# Run experiments for each configuration\n",
    "for layers in sorted_layers_to_skip:\n",
    "    if len(layers) == 0:\n",
    "        name = \"Full_Pretrained\"\n",
    "        layers = 'full'\n",
    "    else:\n",
    "        name = \"Layer_\" + \"_\".join([ str(layer) for layer in layers]) + \"_Skipped\"\n",
    "    results_df = run_experiment(name, layers, num_samples)\n",
    "    results_dfs.append(results_df)\n",
    "\n",
    "# Combine results into a single DataFrame\n",
    "combined_results = pd.concat(results_dfs, ignore_index=True)\n",
    "print(\"\\nCombined Results:\")\n",
    "display(combined_results)"
   ]
  },
  {
   "cell_type": "code",
   "execution_count": 24,
   "id": "5aafc804",
   "metadata": {},
   "outputs": [],
   "source": [
    "# Sort DataFrame based on F1 score\n",
    "combined_results_sorted = combined_results.sort_values(by='F1', ascending=False)\n",
    "\n"
   ]
  },
  {
   "cell_type": "code",
   "execution_count": 25,
   "id": "00dc8d14",
   "metadata": {},
   "outputs": [
    {
     "data": {
      "text/html": [
       "<div>\n",
       "<style scoped>\n",
       "    .dataframe tbody tr th:only-of-type {\n",
       "        vertical-align: middle;\n",
       "    }\n",
       "\n",
       "    .dataframe tbody tr th {\n",
       "        vertical-align: top;\n",
       "    }\n",
       "\n",
       "    .dataframe thead th {\n",
       "        text-align: right;\n",
       "    }\n",
       "</style>\n",
       "<table border=\"1\" class=\"dataframe\">\n",
       "  <thead>\n",
       "    <tr style=\"text-align: right;\">\n",
       "      <th></th>\n",
       "      <th>Layer Name</th>\n",
       "      <th>Accuracy</th>\n",
       "      <th>Precision</th>\n",
       "      <th>Recall</th>\n",
       "      <th>F1</th>\n",
       "      <th>Processing Time</th>\n",
       "    </tr>\n",
       "  </thead>\n",
       "  <tbody>\n",
       "    <tr>\n",
       "      <th>4</th>\n",
       "      <td>Layer_0_2_4_6_8_10_Skipped</td>\n",
       "      <td>0.208973</td>\n",
       "      <td>0.161010</td>\n",
       "      <td>0.208973</td>\n",
       "      <td>0.161536</td>\n",
       "      <td>6672.350841</td>\n",
       "    </tr>\n",
       "    <tr>\n",
       "      <th>0</th>\n",
       "      <td>Layer_0_2_5_8_9_10_Skipped</td>\n",
       "      <td>0.200708</td>\n",
       "      <td>0.187591</td>\n",
       "      <td>0.200708</td>\n",
       "      <td>0.138863</td>\n",
       "      <td>6678.060810</td>\n",
       "    </tr>\n",
       "    <tr>\n",
       "      <th>1</th>\n",
       "      <td>Layer_0_3_6_8_9_10_Skipped</td>\n",
       "      <td>0.201299</td>\n",
       "      <td>0.096439</td>\n",
       "      <td>0.201299</td>\n",
       "      <td>0.117623</td>\n",
       "      <td>6710.654392</td>\n",
       "    </tr>\n",
       "    <tr>\n",
       "      <th>5</th>\n",
       "      <td>Full_Pretrained</td>\n",
       "      <td>0.195986</td>\n",
       "      <td>0.077262</td>\n",
       "      <td>0.195986</td>\n",
       "      <td>0.108527</td>\n",
       "      <td>16646.342353</td>\n",
       "    </tr>\n",
       "    <tr>\n",
       "      <th>2</th>\n",
       "      <td>Layer_1_3_4_6_7_10_Skipped</td>\n",
       "      <td>0.203660</td>\n",
       "      <td>0.084385</td>\n",
       "      <td>0.203660</td>\n",
       "      <td>0.074252</td>\n",
       "      <td>6697.790006</td>\n",
       "    </tr>\n",
       "    <tr>\n",
       "      <th>3</th>\n",
       "      <td>Layer_1_3_5_7_9_11_Skipped</td>\n",
       "      <td>0.203660</td>\n",
       "      <td>0.041477</td>\n",
       "      <td>0.203660</td>\n",
       "      <td>0.068919</td>\n",
       "      <td>6702.326757</td>\n",
       "    </tr>\n",
       "  </tbody>\n",
       "</table>\n",
       "</div>"
      ],
      "text/plain": [
       "                   Layer Name  Accuracy  Precision    Recall        F1  \\\n",
       "4  Layer_0_2_4_6_8_10_Skipped  0.208973   0.161010  0.208973  0.161536   \n",
       "0  Layer_0_2_5_8_9_10_Skipped  0.200708   0.187591  0.200708  0.138863   \n",
       "1  Layer_0_3_6_8_9_10_Skipped  0.201299   0.096439  0.201299  0.117623   \n",
       "5             Full_Pretrained  0.195986   0.077262  0.195986  0.108527   \n",
       "2  Layer_1_3_4_6_7_10_Skipped  0.203660   0.084385  0.203660  0.074252   \n",
       "3  Layer_1_3_5_7_9_11_Skipped  0.203660   0.041477  0.203660  0.068919   \n",
       "\n",
       "   Processing Time  \n",
       "4      6672.350841  \n",
       "0      6678.060810  \n",
       "1      6710.654392  \n",
       "5     16646.342353  \n",
       "2      6697.790006  \n",
       "3      6702.326757  "
      ]
     },
     "execution_count": 25,
     "metadata": {},
     "output_type": "execute_result"
    }
   ],
   "source": [
    "combined_results_sorted"
   ]
  },
  {
   "cell_type": "code",
   "execution_count": 26,
   "id": "47e00653",
   "metadata": {},
   "outputs": [
    {
     "data": {
      "text/html": [
       "<div>\n",
       "<style scoped>\n",
       "    .dataframe tbody tr th:only-of-type {\n",
       "        vertical-align: middle;\n",
       "    }\n",
       "\n",
       "    .dataframe tbody tr th {\n",
       "        vertical-align: top;\n",
       "    }\n",
       "\n",
       "    .dataframe thead th {\n",
       "        text-align: right;\n",
       "    }\n",
       "</style>\n",
       "<table border=\"1\" class=\"dataframe\">\n",
       "  <thead>\n",
       "    <tr style=\"text-align: right;\">\n",
       "      <th></th>\n",
       "      <th>Layer Name</th>\n",
       "      <th>Accuracy</th>\n",
       "      <th>Precision</th>\n",
       "      <th>Recall</th>\n",
       "      <th>F1</th>\n",
       "      <th>Processing Time</th>\n",
       "    </tr>\n",
       "  </thead>\n",
       "  <tbody>\n",
       "    <tr>\n",
       "      <th>5</th>\n",
       "      <td>Full_Pretrained</td>\n",
       "      <td>0.195986</td>\n",
       "      <td>0.077262</td>\n",
       "      <td>0.195986</td>\n",
       "      <td>0.108527</td>\n",
       "      <td>16646.342353</td>\n",
       "    </tr>\n",
       "    <tr>\n",
       "      <th>1</th>\n",
       "      <td>Layer_0_3_6_8_9_10_Skipped</td>\n",
       "      <td>0.201299</td>\n",
       "      <td>0.096439</td>\n",
       "      <td>0.201299</td>\n",
       "      <td>0.117623</td>\n",
       "      <td>6710.654392</td>\n",
       "    </tr>\n",
       "    <tr>\n",
       "      <th>3</th>\n",
       "      <td>Layer_1_3_5_7_9_11_Skipped</td>\n",
       "      <td>0.203660</td>\n",
       "      <td>0.041477</td>\n",
       "      <td>0.203660</td>\n",
       "      <td>0.068919</td>\n",
       "      <td>6702.326757</td>\n",
       "    </tr>\n",
       "    <tr>\n",
       "      <th>2</th>\n",
       "      <td>Layer_1_3_4_6_7_10_Skipped</td>\n",
       "      <td>0.203660</td>\n",
       "      <td>0.084385</td>\n",
       "      <td>0.203660</td>\n",
       "      <td>0.074252</td>\n",
       "      <td>6697.790006</td>\n",
       "    </tr>\n",
       "    <tr>\n",
       "      <th>0</th>\n",
       "      <td>Layer_0_2_5_8_9_10_Skipped</td>\n",
       "      <td>0.200708</td>\n",
       "      <td>0.187591</td>\n",
       "      <td>0.200708</td>\n",
       "      <td>0.138863</td>\n",
       "      <td>6678.060810</td>\n",
       "    </tr>\n",
       "    <tr>\n",
       "      <th>4</th>\n",
       "      <td>Layer_0_2_4_6_8_10_Skipped</td>\n",
       "      <td>0.208973</td>\n",
       "      <td>0.161010</td>\n",
       "      <td>0.208973</td>\n",
       "      <td>0.161536</td>\n",
       "      <td>6672.350841</td>\n",
       "    </tr>\n",
       "  </tbody>\n",
       "</table>\n",
       "</div>"
      ],
      "text/plain": [
       "                   Layer Name  Accuracy  Precision    Recall        F1  \\\n",
       "5             Full_Pretrained  0.195986   0.077262  0.195986  0.108527   \n",
       "1  Layer_0_3_6_8_9_10_Skipped  0.201299   0.096439  0.201299  0.117623   \n",
       "3  Layer_1_3_5_7_9_11_Skipped  0.203660   0.041477  0.203660  0.068919   \n",
       "2  Layer_1_3_4_6_7_10_Skipped  0.203660   0.084385  0.203660  0.074252   \n",
       "0  Layer_0_2_5_8_9_10_Skipped  0.200708   0.187591  0.200708  0.138863   \n",
       "4  Layer_0_2_4_6_8_10_Skipped  0.208973   0.161010  0.208973  0.161536   \n",
       "\n",
       "   Processing Time  \n",
       "5     16646.342353  \n",
       "1      6710.654392  \n",
       "3      6702.326757  \n",
       "2      6697.790006  \n",
       "0      6678.060810  \n",
       "4      6672.350841  "
      ]
     },
     "execution_count": 26,
     "metadata": {},
     "output_type": "execute_result"
    }
   ],
   "source": [
    "# Sort DataFrame based on Processing Time' score\n",
    "combined_results_sorted = combined_results.sort_values(by='Processing Time', ascending=False)\n",
    "combined_results_sorted"
   ]
  },
  {
   "cell_type": "code",
   "execution_count": 27,
   "id": "efc9c2e5",
   "metadata": {},
   "outputs": [
    {
     "data": {
      "text/html": [
       "<div>\n",
       "<style scoped>\n",
       "    .dataframe tbody tr th:only-of-type {\n",
       "        vertical-align: middle;\n",
       "    }\n",
       "\n",
       "    .dataframe tbody tr th {\n",
       "        vertical-align: top;\n",
       "    }\n",
       "\n",
       "    .dataframe thead th {\n",
       "        text-align: right;\n",
       "    }\n",
       "</style>\n",
       "<table border=\"1\" class=\"dataframe\">\n",
       "  <thead>\n",
       "    <tr style=\"text-align: right;\">\n",
       "      <th></th>\n",
       "      <th>Layer Name</th>\n",
       "      <th>Accuracy</th>\n",
       "      <th>Precision</th>\n",
       "      <th>Recall</th>\n",
       "      <th>F1</th>\n",
       "      <th>Processing Time</th>\n",
       "    </tr>\n",
       "  </thead>\n",
       "  <tbody>\n",
       "    <tr>\n",
       "      <th>4</th>\n",
       "      <td>Layer_0_2_4_6_8_10_Skipped</td>\n",
       "      <td>0.208973</td>\n",
       "      <td>0.161010</td>\n",
       "      <td>0.208973</td>\n",
       "      <td>0.161536</td>\n",
       "      <td>6672.350841</td>\n",
       "    </tr>\n",
       "    <tr>\n",
       "      <th>0</th>\n",
       "      <td>Layer_0_2_5_8_9_10_Skipped</td>\n",
       "      <td>0.200708</td>\n",
       "      <td>0.187591</td>\n",
       "      <td>0.200708</td>\n",
       "      <td>0.138863</td>\n",
       "      <td>6678.060810</td>\n",
       "    </tr>\n",
       "    <tr>\n",
       "      <th>2</th>\n",
       "      <td>Layer_1_3_4_6_7_10_Skipped</td>\n",
       "      <td>0.203660</td>\n",
       "      <td>0.084385</td>\n",
       "      <td>0.203660</td>\n",
       "      <td>0.074252</td>\n",
       "      <td>6697.790006</td>\n",
       "    </tr>\n",
       "    <tr>\n",
       "      <th>3</th>\n",
       "      <td>Layer_1_3_5_7_9_11_Skipped</td>\n",
       "      <td>0.203660</td>\n",
       "      <td>0.041477</td>\n",
       "      <td>0.203660</td>\n",
       "      <td>0.068919</td>\n",
       "      <td>6702.326757</td>\n",
       "    </tr>\n",
       "    <tr>\n",
       "      <th>1</th>\n",
       "      <td>Layer_0_3_6_8_9_10_Skipped</td>\n",
       "      <td>0.201299</td>\n",
       "      <td>0.096439</td>\n",
       "      <td>0.201299</td>\n",
       "      <td>0.117623</td>\n",
       "      <td>6710.654392</td>\n",
       "    </tr>\n",
       "    <tr>\n",
       "      <th>5</th>\n",
       "      <td>Full_Pretrained</td>\n",
       "      <td>0.195986</td>\n",
       "      <td>0.077262</td>\n",
       "      <td>0.195986</td>\n",
       "      <td>0.108527</td>\n",
       "      <td>16646.342353</td>\n",
       "    </tr>\n",
       "  </tbody>\n",
       "</table>\n",
       "</div>"
      ],
      "text/plain": [
       "                   Layer Name  Accuracy  Precision    Recall        F1  \\\n",
       "4  Layer_0_2_4_6_8_10_Skipped  0.208973   0.161010  0.208973  0.161536   \n",
       "0  Layer_0_2_5_8_9_10_Skipped  0.200708   0.187591  0.200708  0.138863   \n",
       "2  Layer_1_3_4_6_7_10_Skipped  0.203660   0.084385  0.203660  0.074252   \n",
       "3  Layer_1_3_5_7_9_11_Skipped  0.203660   0.041477  0.203660  0.068919   \n",
       "1  Layer_0_3_6_8_9_10_Skipped  0.201299   0.096439  0.201299  0.117623   \n",
       "5             Full_Pretrained  0.195986   0.077262  0.195986  0.108527   \n",
       "\n",
       "   Processing Time  \n",
       "4      6672.350841  \n",
       "0      6678.060810  \n",
       "2      6697.790006  \n",
       "3      6702.326757  \n",
       "1      6710.654392  \n",
       "5     16646.342353  "
      ]
     },
     "execution_count": 27,
     "metadata": {},
     "output_type": "execute_result"
    }
   ],
   "source": [
    "# Sort DataFrame based on Processing Time' score\n",
    "combined_results_sorted = combined_results.sort_values(by='Processing Time', ascending=True)\n",
    "combined_results_sorted"
   ]
  },
  {
   "cell_type": "code",
   "execution_count": 29,
   "id": "23a6ed86",
   "metadata": {},
   "outputs": [],
   "source": [
    "from datetime import timedelta\n",
    "# Add a column for processing time in days, hours, minutes, and seconds format\n",
    "combined_results_sorted['Processing Time (HOurs)'] = combined_results_sorted['Processing Time'].apply(lambda x: str(timedelta(seconds=x)))\n"
   ]
  },
  {
   "cell_type": "code",
   "execution_count": 30,
   "id": "8654ceae",
   "metadata": {},
   "outputs": [
    {
     "data": {
      "text/html": [
       "<div>\n",
       "<style scoped>\n",
       "    .dataframe tbody tr th:only-of-type {\n",
       "        vertical-align: middle;\n",
       "    }\n",
       "\n",
       "    .dataframe tbody tr th {\n",
       "        vertical-align: top;\n",
       "    }\n",
       "\n",
       "    .dataframe thead th {\n",
       "        text-align: right;\n",
       "    }\n",
       "</style>\n",
       "<table border=\"1\" class=\"dataframe\">\n",
       "  <thead>\n",
       "    <tr style=\"text-align: right;\">\n",
       "      <th></th>\n",
       "      <th>Layer Name</th>\n",
       "      <th>Accuracy</th>\n",
       "      <th>Precision</th>\n",
       "      <th>Recall</th>\n",
       "      <th>F1</th>\n",
       "      <th>Processing Time</th>\n",
       "      <th>Processing Time (HOurs)</th>\n",
       "    </tr>\n",
       "  </thead>\n",
       "  <tbody>\n",
       "    <tr>\n",
       "      <th>4</th>\n",
       "      <td>Layer_0_2_4_6_8_10_Skipped</td>\n",
       "      <td>0.208973</td>\n",
       "      <td>0.161010</td>\n",
       "      <td>0.208973</td>\n",
       "      <td>0.161536</td>\n",
       "      <td>6672.350841</td>\n",
       "      <td>1:51:12.350841</td>\n",
       "    </tr>\n",
       "    <tr>\n",
       "      <th>0</th>\n",
       "      <td>Layer_0_2_5_8_9_10_Skipped</td>\n",
       "      <td>0.200708</td>\n",
       "      <td>0.187591</td>\n",
       "      <td>0.200708</td>\n",
       "      <td>0.138863</td>\n",
       "      <td>6678.060810</td>\n",
       "      <td>1:51:18.060810</td>\n",
       "    </tr>\n",
       "    <tr>\n",
       "      <th>2</th>\n",
       "      <td>Layer_1_3_4_6_7_10_Skipped</td>\n",
       "      <td>0.203660</td>\n",
       "      <td>0.084385</td>\n",
       "      <td>0.203660</td>\n",
       "      <td>0.074252</td>\n",
       "      <td>6697.790006</td>\n",
       "      <td>1:51:37.790006</td>\n",
       "    </tr>\n",
       "    <tr>\n",
       "      <th>3</th>\n",
       "      <td>Layer_1_3_5_7_9_11_Skipped</td>\n",
       "      <td>0.203660</td>\n",
       "      <td>0.041477</td>\n",
       "      <td>0.203660</td>\n",
       "      <td>0.068919</td>\n",
       "      <td>6702.326757</td>\n",
       "      <td>1:51:42.326757</td>\n",
       "    </tr>\n",
       "    <tr>\n",
       "      <th>1</th>\n",
       "      <td>Layer_0_3_6_8_9_10_Skipped</td>\n",
       "      <td>0.201299</td>\n",
       "      <td>0.096439</td>\n",
       "      <td>0.201299</td>\n",
       "      <td>0.117623</td>\n",
       "      <td>6710.654392</td>\n",
       "      <td>1:51:50.654392</td>\n",
       "    </tr>\n",
       "    <tr>\n",
       "      <th>5</th>\n",
       "      <td>Full_Pretrained</td>\n",
       "      <td>0.195986</td>\n",
       "      <td>0.077262</td>\n",
       "      <td>0.195986</td>\n",
       "      <td>0.108527</td>\n",
       "      <td>16646.342353</td>\n",
       "      <td>4:37:26.342353</td>\n",
       "    </tr>\n",
       "  </tbody>\n",
       "</table>\n",
       "</div>"
      ],
      "text/plain": [
       "                   Layer Name  Accuracy  Precision    Recall        F1  \\\n",
       "4  Layer_0_2_4_6_8_10_Skipped  0.208973   0.161010  0.208973  0.161536   \n",
       "0  Layer_0_2_5_8_9_10_Skipped  0.200708   0.187591  0.200708  0.138863   \n",
       "2  Layer_1_3_4_6_7_10_Skipped  0.203660   0.084385  0.203660  0.074252   \n",
       "3  Layer_1_3_5_7_9_11_Skipped  0.203660   0.041477  0.203660  0.068919   \n",
       "1  Layer_0_3_6_8_9_10_Skipped  0.201299   0.096439  0.201299  0.117623   \n",
       "5             Full_Pretrained  0.195986   0.077262  0.195986  0.108527   \n",
       "\n",
       "   Processing Time Processing Time (HOurs)  \n",
       "4      6672.350841          1:51:12.350841  \n",
       "0      6678.060810          1:51:18.060810  \n",
       "2      6697.790006          1:51:37.790006  \n",
       "3      6702.326757          1:51:42.326757  \n",
       "1      6710.654392          1:51:50.654392  \n",
       "5     16646.342353          4:37:26.342353  "
      ]
     },
     "execution_count": 30,
     "metadata": {},
     "output_type": "execute_result"
    }
   ],
   "source": [
    "combined_results_sorted"
   ]
  },
  {
   "cell_type": "code",
   "execution_count": 44,
   "id": "0706bb37",
   "metadata": {},
   "outputs": [
    {
     "data": {
      "image/png": "[encoded data removed]",
      "text/plain": [
       "<Figure size 720x432 with 1 Axes>"
      ]
     },
     "metadata": {
      "needs_background": "light"
     },
     "output_type": "display_data"
    }
   ],
   "source": [
    "import matplotlib.pyplot as plt\n",
    "\n",
    "# Data\n",
    "f1_scores = combined_results_sorted['F1']\n",
    "processing_time_hours = combined_results_sorted['Processing Time'] / 3600  # Convert processing time to hours\n",
    "layer_names = combined_results_sorted['Layer Name']\n",
    "skipped_layers = [layer_name.endswith(\"Skipped\") for layer_name in layer_names]\n",
    "\n",
    "# Plot\n",
    "plt.figure(figsize=(10, 6))\n",
    "plt.scatter(f1_scores, processing_time_hours, c='blue', alpha=0.7)\n",
    "plt.scatter(f1_scores[skipped_layers], processing_time_hours[skipped_layers], c='red', label='Skipped Layers')\n",
    "plt.title('F1 Score vs Processing Time')\n",
    "plt.xlabel('F1 Score')\n",
    "plt.ylabel('Processing Time (hours)')\n",
    "plt.legend()\n",
    "plt.grid(True)\n",
    "plt.show()\n",
    "\n"
   ]
  },
  {
   "cell_type": "code",
   "execution_count": 51,
   "id": "0bda7bda",
   "metadata": {},
   "outputs": [],
   "source": [
    "combined_results_sorted.to_csv('Result_saved.csv',index=False)"
   ]
  },
  {
   "cell_type": "code",
   "execution_count": 52,
   "id": "f2dda7fa",
   "metadata": {},
   "outputs": [],
   "source": [
    "df_loaded = pd.read_csv('Result_saved.csv')"
   ]
  },
  {
   "cell_type": "code",
   "execution_count": 53,
   "id": "e832e051",
   "metadata": {},
   "outputs": [
    {
     "data": {
      "text/html": [
       "<div>\n",
       "<style scoped>\n",
       "    .dataframe tbody tr th:only-of-type {\n",
       "        vertical-align: middle;\n",
       "    }\n",
       "\n",
       "    .dataframe tbody tr th {\n",
       "        vertical-align: top;\n",
       "    }\n",
       "\n",
       "    .dataframe thead th {\n",
       "        text-align: right;\n",
       "    }\n",
       "</style>\n",
       "<table border=\"1\" class=\"dataframe\">\n",
       "  <thead>\n",
       "    <tr style=\"text-align: right;\">\n",
       "      <th></th>\n",
       "      <th>Layer Name</th>\n",
       "      <th>Accuracy</th>\n",
       "      <th>Precision</th>\n",
       "      <th>Recall</th>\n",
       "      <th>F1</th>\n",
       "      <th>Processing Time</th>\n",
       "      <th>Processing Time (HOurs)</th>\n",
       "    </tr>\n",
       "  </thead>\n",
       "  <tbody>\n",
       "    <tr>\n",
       "      <th>0</th>\n",
       "      <td>Layer_0_2_4_6_8_10_Skipped</td>\n",
       "      <td>0.208973</td>\n",
       "      <td>0.161010</td>\n",
       "      <td>0.208973</td>\n",
       "      <td>0.161536</td>\n",
       "      <td>6672.350841</td>\n",
       "      <td>1:51:12.350841</td>\n",
       "    </tr>\n",
       "    <tr>\n",
       "      <th>1</th>\n",
       "      <td>Layer_0_2_5_8_9_10_Skipped</td>\n",
       "      <td>0.200708</td>\n",
       "      <td>0.187591</td>\n",
       "      <td>0.200708</td>\n",
       "      <td>0.138863</td>\n",
       "      <td>6678.060810</td>\n",
       "      <td>1:51:18.060810</td>\n",
       "    </tr>\n",
       "    <tr>\n",
       "      <th>2</th>\n",
       "      <td>Layer_1_3_4_6_7_10_Skipped</td>\n",
       "      <td>0.203660</td>\n",
       "      <td>0.084385</td>\n",
       "      <td>0.203660</td>\n",
       "      <td>0.074252</td>\n",
       "      <td>6697.790006</td>\n",
       "      <td>1:51:37.790006</td>\n",
       "    </tr>\n",
       "    <tr>\n",
       "      <th>3</th>\n",
       "      <td>Layer_1_3_5_7_9_11_Skipped</td>\n",
       "      <td>0.203660</td>\n",
       "      <td>0.041477</td>\n",
       "      <td>0.203660</td>\n",
       "      <td>0.068919</td>\n",
       "      <td>6702.326757</td>\n",
       "      <td>1:51:42.326757</td>\n",
       "    </tr>\n",
       "    <tr>\n",
       "      <th>4</th>\n",
       "      <td>Layer_0_3_6_8_9_10_Skipped</td>\n",
       "      <td>0.201299</td>\n",
       "      <td>0.096439</td>\n",
       "      <td>0.201299</td>\n",
       "      <td>0.117623</td>\n",
       "      <td>6710.654392</td>\n",
       "      <td>1:51:50.654392</td>\n",
       "    </tr>\n",
       "    <tr>\n",
       "      <th>5</th>\n",
       "      <td>Full_Pretrained</td>\n",
       "      <td>0.195986</td>\n",
       "      <td>0.077262</td>\n",
       "      <td>0.195986</td>\n",
       "      <td>0.108527</td>\n",
       "      <td>16646.342353</td>\n",
       "      <td>4:37:26.342353</td>\n",
       "    </tr>\n",
       "  </tbody>\n",
       "</table>\n",
       "</div>"
      ],
      "text/plain": [
       "                   Layer Name  Accuracy  Precision    Recall        F1  \\\n",
       "0  Layer_0_2_4_6_8_10_Skipped  0.208973   0.161010  0.208973  0.161536   \n",
       "1  Layer_0_2_5_8_9_10_Skipped  0.200708   0.187591  0.200708  0.138863   \n",
       "2  Layer_1_3_4_6_7_10_Skipped  0.203660   0.084385  0.203660  0.074252   \n",
       "3  Layer_1_3_5_7_9_11_Skipped  0.203660   0.041477  0.203660  0.068919   \n",
       "4  Layer_0_3_6_8_9_10_Skipped  0.201299   0.096439  0.201299  0.117623   \n",
       "5             Full_Pretrained  0.195986   0.077262  0.195986  0.108527   \n",
       "\n",
       "   Processing Time Processing Time (HOurs)  \n",
       "0      6672.350841          1:51:12.350841  \n",
       "1      6678.060810          1:51:18.060810  \n",
       "2      6697.790006          1:51:37.790006  \n",
       "3      6702.326757          1:51:42.326757  \n",
       "4      6710.654392          1:51:50.654392  \n",
       "5     16646.342353          4:37:26.342353  "
      ]
     },
     "execution_count": 53,
     "metadata": {},
     "output_type": "execute_result"
    }
   ],
   "source": [
    "df_loaded"
   ]
  },
  {
   "cell_type": "code",
   "execution_count": 54,
   "id": "87e6f24b",
   "metadata": {},
   "outputs": [
    {
     "name": "stdout",
     "output_type": "stream",
     "text": [
      "/Users/monu/Thesis_Apr29_2024\r\n"
     ]
    },
    {
     "name": "stderr",
     "output_type": "stream",
     "text": [
      "python(3910) MallocStackLogging: can't turn off malloc stack logging because it was not enabled.\n"
     ]
    }
   ],
   "source": [
    "!pwd"
   ]
  },
  {
   "cell_type": "code",
   "execution_count": null,
   "id": "eb60f458",
   "metadata": {},
   "outputs": [],
   "source": []
  }
 ],
 "metadata": {
  "kernelspec": {
   "display_name": "Python 3 (ipykernel)",
   "language": "python",
   "name": "python3"
  },
  "language_info": {
   "codemirror_mode": {
    "name": "ipython",
    "version": 3
   },
   "file_extension": ".py",
   "mimetype": "text/x-python",
   "name": "python",
   "nbconvert_exporter": "python",
   "pygments_lexer": "ipython3",
   "version": "3.9.7"
  }
 },
 "nbformat": 4,
 "nbformat_minor": 5
}
