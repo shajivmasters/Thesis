{
 "cells": [
  {
   "cell_type": "code",
   "execution_count": 3,
   "id": "b0cef1a6",
   "metadata": {},
   "outputs": [
    {
     "name": "stderr",
     "output_type": "stream",
     "text": [
      "Some weights of BertForSequenceClassification were not initialized from the model checkpoint at bert-base-uncased and are newly initialized: ['classifier.bias', 'classifier.weight']\n",
      "You should probably TRAIN this model on a down-stream task to be able to use it for predictions and inference.\n",
      "Failed to determine 'entailment' label id from the label2id mapping in the model config. Setting to -1. Define a descriptive label2id mapping in the model config to ensure correct outputs.\n",
      "Some weights of RobertaForSequenceClassification were not initialized from the model checkpoint at roberta-base and are newly initialized: ['classifier.dense.bias', 'classifier.dense.weight', 'classifier.out_proj.bias', 'classifier.out_proj.weight']\n",
      "You should probably TRAIN this model on a down-stream task to be able to use it for predictions and inference.\n",
      "Failed to determine 'entailment' label id from the label2id mapping in the model config. Setting to -1. Define a descriptive label2id mapping in the model config to ensure correct outputs.\n"
     ]
    },
    {
     "name": "stdout",
     "output_type": "stream",
     "text": [
      "BERT Predictions:\n",
      "{\n",
      "    \"sequence\": \"I'm having trouble with my internet connection.\",\n",
      "    \"labels\": [\n",
      "        \"General Inquiry\",\n",
      "        \"Billing Inquiry\",\n",
      "        \"Service Complaint\",\n",
      "        \"Technical Support\"\n",
      "    ],\n",
      "    \"scores\": [\n",
      "        0.33063021302223206,\n",
      "        0.23186515271663666,\n",
      "        0.22003042697906494,\n",
      "        0.21747422218322754\n",
      "    ]\n",
      "}\n",
      "\n",
      "RoBERTa Predictions:\n",
      "{\n",
      "    \"sequence\": \"I'm having trouble with my internet connection.\",\n",
      "    \"labels\": [\n",
      "        \"Technical Support\",\n",
      "        \"Service Complaint\",\n",
      "        \"Billing Inquiry\",\n",
      "        \"General Inquiry\"\n",
      "    ],\n",
      "    \"scores\": [\n",
      "        0.2516486644744873,\n",
      "        0.2500995695590973,\n",
      "        0.24931930005550385,\n",
      "        0.24893245100975037\n",
      "    ]\n",
      "}\n",
      "Best BERT Prediction: General Inquiry\n",
      "Best RoBERTa Prediction: Technical Support\n"
     ]
    }
   ],
   "source": [
    "from transformers import pipeline\n",
    "import json\n",
    "\n",
    "# Initialize zero-shot classification pipelines for BERT and RoBERTa\n",
    "bert_classifier = pipeline(\"zero-shot-classification\", model=\"bert-base-uncased\")\n",
    "roberta_classifier = pipeline(\"zero-shot-classification\", model=\"roberta-base\")\n",
    "\n",
    "# Sample text\n",
    "text = \"I'm having trouble with my internet connection.\"\n",
    "\n",
    "# Candidate labels (intents)\n",
    "candidate_labels = [\"Technical Support\", \"Billing Inquiry\", \"Service Complaint\", \"General Inquiry\"]\n",
    "\n",
    "# Perform zero-shot classification with BERT\n",
    "bert_predictions = bert_classifier(text, candidate_labels)\n",
    "\n",
    "# Perform zero-shot classification with RoBERTa\n",
    "roberta_predictions = roberta_classifier(text, candidate_labels)\n",
    "\n",
    "# Print results\n",
    "print(\"BERT Predictions:\")\n",
    "print(json.dumps(bert_predictions,indent=4))\n",
    "\n",
    "print(\"\\nRoBERTa Predictions:\")\n",
    "print(json.dumps(roberta_predictions,indent=4))\n",
    "\n",
    "# Get the best prediction for BERT\n",
    "best_bert_prediction = max(bert_predictions[\"scores\"])\n",
    "best_bert_label = bert_predictions[\"labels\"][bert_predictions[\"scores\"].index(best_bert_prediction)]\n",
    "\n",
    "# Get the best prediction for RoBERTa\n",
    "best_roberta_prediction = max(roberta_predictions[\"scores\"])\n",
    "best_roberta_label = roberta_predictions[\"labels\"][roberta_predictions[\"scores\"].index(best_roberta_prediction)]\n",
    "\n",
    "# Print the best predictions\n",
    "print(\"Best BERT Prediction:\", best_bert_label)\n",
    "print(\"Best RoBERTa Prediction:\", best_roberta_label)\n"
   ]
  },
  {
   "cell_type": "code",
   "execution_count": null,
   "id": "12039745",
   "metadata": {},
   "outputs": [],
   "source": []
  }
 ],
 "metadata": {
  "kernelspec": {
   "display_name": "Python 3 (ipykernel)",
   "language": "python",
   "name": "python3"
  },
  "language_info": {
   "codemirror_mode": {
    "name": "ipython",
    "version": 3
   },
   "file_extension": ".py",
   "mimetype": "text/x-python",
   "name": "python",
   "nbconvert_exporter": "python",
   "pygments_lexer": "ipython3",
   "version": "3.9.7"
  }
 },
 "nbformat": 4,
 "nbformat_minor": 5
}
