{
 "cells": [
  {
   "cell_type": "code",
   "execution_count": 1,
   "id": "fad924a8",
   "metadata": {
    "collapsed": true,
    "scrolled": false
   },
   "outputs": [
    {
     "name": "stderr",
     "output_type": "stream",
     "text": [
      "2024-05-04 14:24:43.508879: I tensorflow/core/platform/cpu_feature_guard.cc:182] This TensorFlow binary is optimized to use available CPU instructions in performance-critical operations.\n",
      "To enable the following instructions: AVX2 FMA, in other operations, rebuild TensorFlow with the appropriate compiler flags.\n"
     ]
    }
   ],
   "source": [
    "import pandas as pd\n",
    "from sklearn.model_selection import train_test_split\n",
    "import time\n",
    "from transformers import BertTokenizer, BertForSequenceClassification, Trainer, TrainingArguments\n",
    "from sklearn.metrics import accuracy_score, precision_score, recall_score, f1_score\n",
    "from sklearn.preprocessing import LabelEncoder\n",
    "import torch\n",
    "import numpy as np\n",
    "\n",
    "\n",
    "import warnings\n",
    "\n",
    "# Suppress specific warnings\n",
    "warnings.filterwarnings(\"ignore\", message=\"Some weights of BertForSequenceClassification were not initialized from the model\")\n",
    "warnings.filterwarnings(\"ignore\", message=\"You should probably TRAIN this model on a down-stream task\")\n",
    "\n",
    "# Your code here\n",
    "# Example:\n",
    "# from transformers import BertForSequenceClassification\n",
    "# model = BertForSequenceClassification.from_pretrained('bert-base-uncased')\n",
    "\n",
    "# Reset the warnings to default behavior after executing the code\n",
    "warnings.resetwarnings()"
   ]
  },
  {
   "cell_type": "code",
   "execution_count": 26,
   "id": "5308e61c",
   "metadata": {
    "collapsed": true,
    "scrolled": false
   },
   "outputs": [],
   "source": [
    "import os \n",
    "def get_model_size(model):\n",
    "    \"\"\"\n",
    "    Get the size of the model in memory.\n",
    "    \"\"\"\n",
    "    torch.save(model.state_dict(), 'temp_model.pth')\n",
    "    model_size = os.path.getsize('temp_model.pth')  # Size of the serialized model in bytes\n",
    "    os.remove('temp_model.pth')  # Remove the temporary file\n",
    "    return model_size\n",
    "\n"
   ]
  },
  {
   "cell_type": "code",
   "execution_count": 27,
   "id": "acf32cdd",
   "metadata": {
    "collapsed": true,
    "scrolled": false
   },
   "outputs": [],
   "source": [
    "def calculate_unable_params(model, optimizer):\n",
    "    \"\"\"\n",
    "    Calculate the number of parameters that are unable to be updated during training.\n",
    "    \"\"\"\n",
    "    trainable_params = set(p for p in model.parameters() if p.requires_grad)\n",
    "    trainable_param_ids = set(id(p) for p in trainable_params)\n",
    "    optimizer_param_ids = set(id(p) for group in optimizer.param_groups for p in group[\"params\"])\n",
    "    unable_params_ids = trainable_param_ids - optimizer_param_ids\n",
    "    unable_params = sum(p.numel() for p in trainable_params if id(p) in unable_params_ids)\n",
    "    return unable_params\n",
    "\n"
   ]
  },
  {
   "cell_type": "code",
   "execution_count": null,
   "id": "8810125c",
   "metadata": {
    "collapsed": true,
    "scrolled": false
   },
   "outputs": [],
   "source": []
  },
  {
   "cell_type": "code",
   "execution_count": 28,
   "id": "894c5fb6",
   "metadata": {
    "collapsed": true,
    "scrolled": false
   },
   "outputs": [],
   "source": [
    "def run_experiment(layer_name, layers_to_skip, num_samples, dataset_path=\"customer_support_tickets.csv\"):\n",
    "    print(f\"\\nRunning experiment: {layer_name}\")\n",
    "    \n",
    "    # Load the dataset\n",
    "    print(\"Loading dataset...\")\n",
    "    data = pd.read_csv(dataset_path)\n",
    "    data = data.dropna(subset=['Ticket Description'])\n",
    "    data = data[['Ticket Description', 'Ticket Type']]\n",
    "    \n",
    "    # Sample data if not using the full dataset\n",
    "    if num_samples == \"full\":\n",
    "        data_subset = data\n",
    "    else:\n",
    "        data_subset = data.sample(n=num_samples, random_state=42)\n",
    "    \n",
    "    # Split the data into train and test sets\n",
    "    print(\"Splitting data into train and test sets...\")\n",
    "    train_texts, test_texts, train_labels, test_labels = train_test_split(data_subset['Ticket Description'], data_subset['Ticket Type'], test_size=0.2, random_state=42)\n",
    "    \n",
    "    # Encode labels\n",
    "    print(\"Encoding labels...\")\n",
    "    label_encoder = LabelEncoder()\n",
    "    train_labels_encoded = label_encoder.fit_transform(train_labels)\n",
    "    test_labels_encoded = label_encoder.transform(test_labels)\n",
    "\n",
    "    # Tokenization\n",
    "    print(\"Tokenizing data...\")\n",
    "    tokenizer = BertTokenizer.from_pretrained('bert-base-uncased')\n",
    "    train_encodings = tokenizer(list(train_texts), truncation=True, padding=True)\n",
    "    test_encodings = tokenizer(list(test_texts), truncation=True, padding=True)\n",
    "\n",
    "    # Convert encodings to a format suitable for the trainer\n",
    "    print(\"Converting encodings to PyTorch Dataset format...\")\n",
    "    class MyDataset(torch.utils.data.Dataset):\n",
    "        def __init__(self, encodings, labels):\n",
    "            self.encodings = encodings\n",
    "            self.labels = labels\n",
    "\n",
    "        def __getitem__(self, idx):\n",
    "            item = {key: torch.tensor(val[idx]) for key, val in self.encodings.items()}\n",
    "            item['labels'] = torch.tensor(self.labels[idx])\n",
    "            return item\n",
    "\n",
    "        def __len__(self):\n",
    "            return len(self.labels)\n",
    "\n",
    "    train_dataset = MyDataset(train_encodings, train_labels_encoded)\n",
    "    eval_dataset = MyDataset(test_encodings, test_labels_encoded)\n",
    "\n",
    "    # Define BERT model\n",
    "    print(\"Loading BERT model...\")\n",
    "    model_finetuned = BertForSequenceClassification.from_pretrained('bert-base-uncased', num_labels=len(label_encoder.classes_))\n",
    "\n",
    "    # Fine-tune by skipping intermediate layers\n",
    "    if layers_to_skip == 'full':\n",
    "        print(\"Not skipping any layers (training with all layers)...\")\n",
    "        model_pretrained = BertForSequenceClassification.from_pretrained('bert-base-uncased', num_labels=len(label_encoder.classes_))\n",
    "    else:    \n",
    "        print(\"Skipping specified layers...\")\n",
    "        encoder_layers = model_finetuned.bert.encoder.layer\n",
    "        model_finetuned.bert.encoder.layer = torch.nn.ModuleList([layer for i, layer in enumerate(encoder_layers) if i in layers_to_skip])\n",
    "\n",
    "        \n",
    "    # Define training arguments\n",
    "    print(\"Defining training arguments...\")\n",
    "    training_args = TrainingArguments(\n",
    "        output_dir='./results_finetuned',\n",
    "        per_device_train_batch_size=8,\n",
    "        per_device_eval_batch_size=8,\n",
    "        evaluation_strategy='epoch',\n",
    "        logging_dir='./logs_finetuned',\n",
    "        num_train_epochs=3,\n",
    "        learning_rate=2e-5,\n",
    "        save_strategy='epoch',\n",
    "        load_best_model_at_end=True\n",
    "    )\n",
    "\n",
    "    # Define trainer\n",
    "    print(\"Initializing trainer...\")\n",
    "    trainer = Trainer(\n",
    "        model=model_finetuned,\n",
    "        args=training_args,\n",
    "        train_dataset=train_dataset,\n",
    "        eval_dataset=eval_dataset\n",
    "    )\n",
    "\n",
    "    # Track initial CPU memory usage\n",
    "    #initial_memory = psutil.virtual_memory().used\n",
    "\n",
    "    # Train and evaluate model\n",
    "    print(\"Training and evaluating model...\")\n",
    "    start_time = time.time()\n",
    "    trainer.train()\n",
    "    training_time = time.time() - start_time\n",
    "\n",
    "    # Predict test data\n",
    "    print(\"Predicting test data...\")\n",
    "    start_time = time.time()\n",
    "    preds = trainer.predict(eval_dataset)\n",
    "    prediction_time = time.time() - start_time\n",
    "\n",
    "    # Track final CPU memory usage\n",
    "    #final_memory = psutil.virtual_memory().used\n",
    "\n",
    "    # Calculate memory consumed during training\n",
    "    #memory_consumed = final_memory - initial_memory\n",
    "\n",
    "    # Calculate metrics\n",
    "    print(\"Calculating metrics...\")\n",
    "    accuracy = accuracy_score(test_labels_encoded, preds.predictions.argmax(axis=1))\n",
    "    precision = precision_score(test_labels_encoded, preds.predictions.argmax(axis=1), average='weighted')\n",
    "    recall = recall_score(test_labels_encoded, preds.predictions.argmax(axis=1), average='weighted')\n",
    "    f1 = f1_score(test_labels_encoded, preds.predictions.argmax(axis=1), average='weighted')\n",
    "\n",
    "    # Additional metrics for resource and efficiency comparison\n",
    "    #model_size = sum(p.numel() for p in model_finetuned.parameters())# Inside the run_experiment function:\n",
    "    model_size = get_model_size(model_finetuned)\n",
    "    num_params = sum(p.numel() for p in model_finetuned.parameters() if p.requires_grad)\n",
    "    #unable_params = sum(p.numel() for p in model_finetuned.parameters() if p.requires_grad and p.grad is None)\n",
    "    # Inside the run_experiment function:\n",
    "    #unable_params = calculate_unable_params(model_finetuned, trainer.optimizer)\n",
    "\n",
    "    # Print results\n",
    "    print(\"Results for Layer:\", layer_name)\n",
    "    results_df = pd.DataFrame({\n",
    "        'Layer Name': [layer_name], \n",
    "        'Accuracy': [accuracy], \n",
    "        'Precision': [precision], \n",
    "        'Recall': [recall], \n",
    "        'F1': [f1], \n",
    "        'Training Time': [training_time],\n",
    "        'Prediction Time': [prediction_time],\n",
    "        'Model Size': [model_size],\n",
    "        'Number of Parameters': [num_params],\n",
    "    })\n",
    "    display(results_df)\n",
    "\n",
    "    return results_df"
   ]
  },
  {
   "cell_type": "code",
   "execution_count": 31,
   "id": "5809f63c",
   "metadata": {
    "scrolled": false
   },
   "outputs": [
    {
     "data": {
      "text/plain": [
       "[array([10,  9,  0,  8,  5,  2]),\n",
       " array([10,  9,  0,  8,  6,  3]),\n",
       " array([ 7,  4, 10,  3,  1,  6]),\n",
       " [1, 3, 5, 7, 9, 11],\n",
       " [0, 2, 4, 6, 8, 10],\n",
       " [1, 2, 3, 4, 5, 6, 7, 8],\n",
       " [5, 6, 7, 8, 9, 10, 11],\n",
       " []]"
      ]
     },
     "metadata": {},
     "output_type": "display_data"
    },
    {
     "data": {
      "text/plain": [
       "[[0, 2, 5, 8, 9, 10],\n",
       " [0, 3, 6, 8, 9, 10],\n",
       " [1, 3, 4, 6, 7, 10],\n",
       " [1, 3, 5, 7, 9, 11],\n",
       " [0, 2, 4, 6, 8, 10],\n",
       " [1, 2, 3, 4, 5, 6, 7, 8],\n",
       " [5, 6, 7, 8, 9, 10, 11],\n",
       " []]"
      ]
     },
     "metadata": {},
     "output_type": "display_data"
    },
    {
     "name": "stdout",
     "output_type": "stream",
     "text": [
      "\n",
      "Running experiment: Layer_0_2_5_8_9_10_Skipped\n",
      "Loading dataset...\n",
      "Splitting data into train and test sets...\n",
      "Encoding labels...\n",
      "Tokenizing data...\n",
      "Converting encodings to PyTorch Dataset format...\n",
      "Loading BERT model...\n"
     ]
    },
    {
     "name": "stderr",
     "output_type": "stream",
     "text": [
      "Some weights of BertForSequenceClassification were not initialized from the model checkpoint at bert-base-uncased and are newly initialized: ['classifier.bias', 'classifier.weight']\n",
      "You should probably TRAIN this model on a down-stream task to be able to use it for predictions and inference.\n",
      "/Users/monu/opt/anaconda3/lib/python3.9/site-packages/accelerate/accelerator.py:432: FutureWarning: Passing the following arguments to `Accelerator` is deprecated and will be removed in version 1.0 of Accelerate: dict_keys(['dispatch_batches', 'split_batches']). Please pass an `accelerate.DataLoaderConfiguration` instead: \n",
      "dataloader_config = DataLoaderConfiguration(dispatch_batches=None, split_batches=False)\n",
      "  warnings.warn(\n"
     ]
    },
    {
     "name": "stdout",
     "output_type": "stream",
     "text": [
      "Skipping specified layers...\n",
      "Defining training arguments...\n",
      "Initializing trainer...\n",
      "Training and evaluating model...\n"
     ]
    },
    {
     "data": {
      "text/html": [
       "\n",
       "    <div>\n",
       "      \n",
       "      <progress value='2541' max='2541' style='width:300px; height:20px; vertical-align: middle;'></progress>\n",
       "      [2541/2541 1:47:16, Epoch 3/3]\n",
       "    </div>\n",
       "    <table border=\"1\" class=\"dataframe\">\n",
       "  <thead>\n",
       " <tr style=\"text-align: left;\">\n",
       "      <th>Epoch</th>\n",
       "      <th>Training Loss</th>\n",
       "      <th>Validation Loss</th>\n",
       "    </tr>\n",
       "  </thead>\n",
       "  <tbody>\n",
       "    <tr>\n",
       "      <td>1</td>\n",
       "      <td>1.627500</td>\n",
       "      <td>1.613622</td>\n",
       "    </tr>\n",
       "    <tr>\n",
       "      <td>2</td>\n",
       "      <td>1.617600</td>\n",
       "      <td>1.610853</td>\n",
       "    </tr>\n",
       "    <tr>\n",
       "      <td>3</td>\n",
       "      <td>1.605200</td>\n",
       "      <td>1.612711</td>\n",
       "    </tr>\n",
       "  </tbody>\n",
       "</table><p>"
      ],
      "text/plain": [
       "<IPython.core.display.HTML object>"
      ]
     },
     "metadata": {},
     "output_type": "display_data"
    },
    {
     "name": "stderr",
     "output_type": "stream",
     "text": [
      "Checkpoint destination directory ./results_finetuned/checkpoint-847 already exists and is non-empty.Saving will proceed but saved results may be invalid.\n",
      "Checkpoint destination directory ./results_finetuned/checkpoint-1694 already exists and is non-empty.Saving will proceed but saved results may be invalid.\n",
      "Checkpoint destination directory ./results_finetuned/checkpoint-2541 already exists and is non-empty.Saving will proceed but saved results may be invalid.\n"
     ]
    },
    {
     "name": "stdout",
     "output_type": "stream",
     "text": [
      "Predicting test data...\n"
     ]
    },
    {
     "data": {
      "text/html": [],
      "text/plain": [
       "<IPython.core.display.HTML object>"
      ]
     },
     "metadata": {},
     "output_type": "display_data"
    },
    {
     "name": "stdout",
     "output_type": "stream",
     "text": [
      "Calculating metrics...\n"
     ]
    },
    {
     "name": "stderr",
     "output_type": "stream",
     "text": [
      "/Users/monu/opt/anaconda3/lib/python3.9/site-packages/sklearn/metrics/_classification.py:1344: UndefinedMetricWarning: Precision is ill-defined and being set to 0.0 in labels with no predicted samples. Use `zero_division` parameter to control this behavior.\n",
      "  _warn_prf(average, modifier, msg_start, len(result))\n"
     ]
    },
    {
     "name": "stdout",
     "output_type": "stream",
     "text": [
      "Results for Layer: Layer_0_2_5_8_9_10_Skipped\n"
     ]
    },
    {
     "data": {
      "text/html": [
       "<div>\n",
       "<style scoped>\n",
       "    .dataframe tbody tr th:only-of-type {\n",
       "        vertical-align: middle;\n",
       "    }\n",
       "\n",
       "    .dataframe tbody tr th {\n",
       "        vertical-align: top;\n",
       "    }\n",
       "\n",
       "    .dataframe thead th {\n",
       "        text-align: right;\n",
       "    }\n",
       "</style>\n",
       "<table border=\"1\" class=\"dataframe\">\n",
       "  <thead>\n",
       "    <tr style=\"text-align: right;\">\n",
       "      <th></th>\n",
       "      <th>Layer Name</th>\n",
       "      <th>Accuracy</th>\n",
       "      <th>Precision</th>\n",
       "      <th>Recall</th>\n",
       "      <th>F1</th>\n",
       "      <th>Training Time</th>\n",
       "      <th>Prediction Time</th>\n",
       "      <th>Model Size</th>\n",
       "      <th>Number of Parameters</th>\n",
       "    </tr>\n",
       "  </thead>\n",
       "  <tbody>\n",
       "    <tr>\n",
       "      <th>0</th>\n",
       "      <td>Layer_0_2_5_8_9_10_Skipped</td>\n",
       "      <td>0.20307</td>\n",
       "      <td>0.201249</td>\n",
       "      <td>0.20307</td>\n",
       "      <td>0.145599</td>\n",
       "      <td>6439.692999</td>\n",
       "      <td>263.75943</td>\n",
       "      <td>267876775</td>\n",
       "      <td>66958853</td>\n",
       "    </tr>\n",
       "  </tbody>\n",
       "</table>\n",
       "</div>"
      ],
      "text/plain": [
       "                   Layer Name  Accuracy  Precision   Recall        F1  \\\n",
       "0  Layer_0_2_5_8_9_10_Skipped   0.20307   0.201249  0.20307  0.145599   \n",
       "\n",
       "   Training Time  Prediction Time  Model Size  Number of Parameters  \n",
       "0    6439.692999        263.75943   267876775              66958853  "
      ]
     },
     "metadata": {},
     "output_type": "display_data"
    },
    {
     "name": "stdout",
     "output_type": "stream",
     "text": [
      "\n",
      "Running experiment: Layer_0_3_6_8_9_10_Skipped\n",
      "Loading dataset...\n",
      "Splitting data into train and test sets...\n",
      "Encoding labels...\n",
      "Tokenizing data...\n",
      "Converting encodings to PyTorch Dataset format...\n",
      "Loading BERT model...\n"
     ]
    },
    {
     "name": "stderr",
     "output_type": "stream",
     "text": [
      "Some weights of BertForSequenceClassification were not initialized from the model checkpoint at bert-base-uncased and are newly initialized: ['classifier.bias', 'classifier.weight']\n",
      "You should probably TRAIN this model on a down-stream task to be able to use it for predictions and inference.\n",
      "/Users/monu/opt/anaconda3/lib/python3.9/site-packages/accelerate/accelerator.py:432: FutureWarning: Passing the following arguments to `Accelerator` is deprecated and will be removed in version 1.0 of Accelerate: dict_keys(['dispatch_batches', 'split_batches']). Please pass an `accelerate.DataLoaderConfiguration` instead: \n",
      "dataloader_config = DataLoaderConfiguration(dispatch_batches=None, split_batches=False)\n",
      "  warnings.warn(\n"
     ]
    },
    {
     "name": "stdout",
     "output_type": "stream",
     "text": [
      "Skipping specified layers...\n",
      "Defining training arguments...\n",
      "Initializing trainer...\n",
      "Training and evaluating model...\n"
     ]
    },
    {
     "data": {
      "text/html": [
       "\n",
       "    <div>\n",
       "      \n",
       "      <progress value='2541' max='2541' style='width:300px; height:20px; vertical-align: middle;'></progress>\n",
       "      [2541/2541 1:47:36, Epoch 3/3]\n",
       "    </div>\n",
       "    <table border=\"1\" class=\"dataframe\">\n",
       "  <thead>\n",
       " <tr style=\"text-align: left;\">\n",
       "      <th>Epoch</th>\n",
       "      <th>Training Loss</th>\n",
       "      <th>Validation Loss</th>\n",
       "    </tr>\n",
       "  </thead>\n",
       "  <tbody>\n",
       "    <tr>\n",
       "      <td>1</td>\n",
       "      <td>1.626800</td>\n",
       "      <td>1.613622</td>\n",
       "    </tr>\n",
       "    <tr>\n",
       "      <td>2</td>\n",
       "      <td>1.618000</td>\n",
       "      <td>1.611240</td>\n",
       "    </tr>\n",
       "    <tr>\n",
       "      <td>3</td>\n",
       "      <td>1.609300</td>\n",
       "      <td>1.612937</td>\n",
       "    </tr>\n",
       "  </tbody>\n",
       "</table><p>"
      ],
      "text/plain": [
       "<IPython.core.display.HTML object>"
      ]
     },
     "metadata": {},
     "output_type": "display_data"
    },
    {
     "name": "stderr",
     "output_type": "stream",
     "text": [
      "Checkpoint destination directory ./results_finetuned/checkpoint-847 already exists and is non-empty.Saving will proceed but saved results may be invalid.\n",
      "Checkpoint destination directory ./results_finetuned/checkpoint-1694 already exists and is non-empty.Saving will proceed but saved results may be invalid.\n",
      "Checkpoint destination directory ./results_finetuned/checkpoint-2541 already exists and is non-empty.Saving will proceed but saved results may be invalid.\n"
     ]
    },
    {
     "name": "stdout",
     "output_type": "stream",
     "text": [
      "Predicting test data...\n"
     ]
    },
    {
     "data": {
      "text/html": [],
      "text/plain": [
       "<IPython.core.display.HTML object>"
      ]
     },
     "metadata": {},
     "output_type": "display_data"
    },
    {
     "name": "stdout",
     "output_type": "stream",
     "text": [
      "Calculating metrics...\n"
     ]
    },
    {
     "name": "stderr",
     "output_type": "stream",
     "text": [
      "/Users/monu/opt/anaconda3/lib/python3.9/site-packages/sklearn/metrics/_classification.py:1344: UndefinedMetricWarning: Precision is ill-defined and being set to 0.0 in labels with no predicted samples. Use `zero_division` parameter to control this behavior.\n",
      "  _warn_prf(average, modifier, msg_start, len(result))\n"
     ]
    },
    {
     "name": "stdout",
     "output_type": "stream",
     "text": [
      "Results for Layer: Layer_0_3_6_8_9_10_Skipped\n"
     ]
    },
    {
     "data": {
      "text/html": [
       "<div>\n",
       "<style scoped>\n",
       "    .dataframe tbody tr th:only-of-type {\n",
       "        vertical-align: middle;\n",
       "    }\n",
       "\n",
       "    .dataframe tbody tr th {\n",
       "        vertical-align: top;\n",
       "    }\n",
       "\n",
       "    .dataframe thead th {\n",
       "        text-align: right;\n",
       "    }\n",
       "</style>\n",
       "<table border=\"1\" class=\"dataframe\">\n",
       "  <thead>\n",
       "    <tr style=\"text-align: right;\">\n",
       "      <th></th>\n",
       "      <th>Layer Name</th>\n",
       "      <th>Accuracy</th>\n",
       "      <th>Precision</th>\n",
       "      <th>Recall</th>\n",
       "      <th>F1</th>\n",
       "      <th>Training Time</th>\n",
       "      <th>Prediction Time</th>\n",
       "      <th>Model Size</th>\n",
       "      <th>Number of Parameters</th>\n",
       "    </tr>\n",
       "  </thead>\n",
       "  <tbody>\n",
       "    <tr>\n",
       "      <th>0</th>\n",
       "      <td>Layer_0_3_6_8_9_10_Skipped</td>\n",
       "      <td>0.201299</td>\n",
       "      <td>0.096439</td>\n",
       "      <td>0.201299</td>\n",
       "      <td>0.117623</td>\n",
       "      <td>6460.54209</td>\n",
       "      <td>258.725424</td>\n",
       "      <td>267876775</td>\n",
       "      <td>66958853</td>\n",
       "    </tr>\n",
       "  </tbody>\n",
       "</table>\n",
       "</div>"
      ],
      "text/plain": [
       "                   Layer Name  Accuracy  Precision    Recall        F1  \\\n",
       "0  Layer_0_3_6_8_9_10_Skipped  0.201299   0.096439  0.201299  0.117623   \n",
       "\n",
       "   Training Time  Prediction Time  Model Size  Number of Parameters  \n",
       "0     6460.54209       258.725424   267876775              66958853  "
      ]
     },
     "metadata": {},
     "output_type": "display_data"
    },
    {
     "name": "stdout",
     "output_type": "stream",
     "text": [
      "\n",
      "Running experiment: Layer_1_3_4_6_7_10_Skipped\n",
      "Loading dataset...\n",
      "Splitting data into train and test sets...\n",
      "Encoding labels...\n",
      "Tokenizing data...\n",
      "Converting encodings to PyTorch Dataset format...\n",
      "Loading BERT model...\n"
     ]
    },
    {
     "name": "stderr",
     "output_type": "stream",
     "text": [
      "Some weights of BertForSequenceClassification were not initialized from the model checkpoint at bert-base-uncased and are newly initialized: ['classifier.bias', 'classifier.weight']\n",
      "You should probably TRAIN this model on a down-stream task to be able to use it for predictions and inference.\n",
      "/Users/monu/opt/anaconda3/lib/python3.9/site-packages/accelerate/accelerator.py:432: FutureWarning: Passing the following arguments to `Accelerator` is deprecated and will be removed in version 1.0 of Accelerate: dict_keys(['dispatch_batches', 'split_batches']). Please pass an `accelerate.DataLoaderConfiguration` instead: \n",
      "dataloader_config = DataLoaderConfiguration(dispatch_batches=None, split_batches=False)\n",
      "  warnings.warn(\n"
     ]
    },
    {
     "name": "stdout",
     "output_type": "stream",
     "text": [
      "Skipping specified layers...\n",
      "Defining training arguments...\n",
      "Initializing trainer...\n",
      "Training and evaluating model...\n"
     ]
    },
    {
     "data": {
      "text/html": [
       "\n",
       "    <div>\n",
       "      \n",
       "      <progress value='2541' max='2541' style='width:300px; height:20px; vertical-align: middle;'></progress>\n",
       "      [2541/2541 1:47:08, Epoch 3/3]\n",
       "    </div>\n",
       "    <table border=\"1\" class=\"dataframe\">\n",
       "  <thead>\n",
       " <tr style=\"text-align: left;\">\n",
       "      <th>Epoch</th>\n",
       "      <th>Training Loss</th>\n",
       "      <th>Validation Loss</th>\n",
       "    </tr>\n",
       "  </thead>\n",
       "  <tbody>\n",
       "    <tr>\n",
       "      <td>1</td>\n",
       "      <td>1.623000</td>\n",
       "      <td>1.610842</td>\n",
       "    </tr>\n",
       "    <tr>\n",
       "      <td>2</td>\n",
       "      <td>1.611800</td>\n",
       "      <td>1.610921</td>\n",
       "    </tr>\n",
       "    <tr>\n",
       "      <td>3</td>\n",
       "      <td>1.608300</td>\n",
       "      <td>1.610199</td>\n",
       "    </tr>\n",
       "  </tbody>\n",
       "</table><p>"
      ],
      "text/plain": [
       "<IPython.core.display.HTML object>"
      ]
     },
     "metadata": {},
     "output_type": "display_data"
    },
    {
     "name": "stderr",
     "output_type": "stream",
     "text": [
      "Checkpoint destination directory ./results_finetuned/checkpoint-847 already exists and is non-empty.Saving will proceed but saved results may be invalid.\n",
      "Checkpoint destination directory ./results_finetuned/checkpoint-1694 already exists and is non-empty.Saving will proceed but saved results may be invalid.\n",
      "Checkpoint destination directory ./results_finetuned/checkpoint-2541 already exists and is non-empty.Saving will proceed but saved results may be invalid.\n"
     ]
    },
    {
     "name": "stdout",
     "output_type": "stream",
     "text": [
      "Predicting test data...\n"
     ]
    },
    {
     "data": {
      "text/html": [],
      "text/plain": [
       "<IPython.core.display.HTML object>"
      ]
     },
     "metadata": {},
     "output_type": "display_data"
    },
    {
     "name": "stdout",
     "output_type": "stream",
     "text": [
      "Calculating metrics...\n"
     ]
    },
    {
     "name": "stderr",
     "output_type": "stream",
     "text": [
      "/Users/monu/opt/anaconda3/lib/python3.9/site-packages/sklearn/metrics/_classification.py:1344: UndefinedMetricWarning: Precision is ill-defined and being set to 0.0 in labels with no predicted samples. Use `zero_division` parameter to control this behavior.\n",
      "  _warn_prf(average, modifier, msg_start, len(result))\n"
     ]
    },
    {
     "name": "stdout",
     "output_type": "stream",
     "text": [
      "Results for Layer: Layer_1_3_4_6_7_10_Skipped\n"
     ]
    },
    {
     "data": {
      "text/html": [
       "<div>\n",
       "<style scoped>\n",
       "    .dataframe tbody tr th:only-of-type {\n",
       "        vertical-align: middle;\n",
       "    }\n",
       "\n",
       "    .dataframe tbody tr th {\n",
       "        vertical-align: top;\n",
       "    }\n",
       "\n",
       "    .dataframe thead th {\n",
       "        text-align: right;\n",
       "    }\n",
       "</style>\n",
       "<table border=\"1\" class=\"dataframe\">\n",
       "  <thead>\n",
       "    <tr style=\"text-align: right;\">\n",
       "      <th></th>\n",
       "      <th>Layer Name</th>\n",
       "      <th>Accuracy</th>\n",
       "      <th>Precision</th>\n",
       "      <th>Recall</th>\n",
       "      <th>F1</th>\n",
       "      <th>Training Time</th>\n",
       "      <th>Prediction Time</th>\n",
       "      <th>Model Size</th>\n",
       "      <th>Number of Parameters</th>\n",
       "    </tr>\n",
       "  </thead>\n",
       "  <tbody>\n",
       "    <tr>\n",
       "      <th>0</th>\n",
       "      <td>Layer_1_3_4_6_7_10_Skipped</td>\n",
       "      <td>0.20366</td>\n",
       "      <td>0.084385</td>\n",
       "      <td>0.20366</td>\n",
       "      <td>0.074252</td>\n",
       "      <td>6432.36228</td>\n",
       "      <td>257.727197</td>\n",
       "      <td>267876775</td>\n",
       "      <td>66958853</td>\n",
       "    </tr>\n",
       "  </tbody>\n",
       "</table>\n",
       "</div>"
      ],
      "text/plain": [
       "                   Layer Name  Accuracy  Precision   Recall        F1  \\\n",
       "0  Layer_1_3_4_6_7_10_Skipped   0.20366   0.084385  0.20366  0.074252   \n",
       "\n",
       "   Training Time  Prediction Time  Model Size  Number of Parameters  \n",
       "0     6432.36228       257.727197   267876775              66958853  "
      ]
     },
     "metadata": {},
     "output_type": "display_data"
    },
    {
     "name": "stdout",
     "output_type": "stream",
     "text": [
      "\n",
      "Running experiment: Layer_1_3_5_7_9_11_Skipped\n",
      "Loading dataset...\n",
      "Splitting data into train and test sets...\n",
      "Encoding labels...\n",
      "Tokenizing data...\n",
      "Converting encodings to PyTorch Dataset format...\n",
      "Loading BERT model...\n"
     ]
    },
    {
     "name": "stderr",
     "output_type": "stream",
     "text": [
      "Some weights of BertForSequenceClassification were not initialized from the model checkpoint at bert-base-uncased and are newly initialized: ['classifier.bias', 'classifier.weight']\n",
      "You should probably TRAIN this model on a down-stream task to be able to use it for predictions and inference.\n",
      "/Users/monu/opt/anaconda3/lib/python3.9/site-packages/accelerate/accelerator.py:432: FutureWarning: Passing the following arguments to `Accelerator` is deprecated and will be removed in version 1.0 of Accelerate: dict_keys(['dispatch_batches', 'split_batches']). Please pass an `accelerate.DataLoaderConfiguration` instead: \n",
      "dataloader_config = DataLoaderConfiguration(dispatch_batches=None, split_batches=False)\n",
      "  warnings.warn(\n"
     ]
    },
    {
     "name": "stdout",
     "output_type": "stream",
     "text": [
      "Skipping specified layers...\n",
      "Defining training arguments...\n",
      "Initializing trainer...\n",
      "Training and evaluating model...\n"
     ]
    },
    {
     "data": {
      "text/html": [
       "\n",
       "    <div>\n",
       "      \n",
       "      <progress value='2541' max='2541' style='width:300px; height:20px; vertical-align: middle;'></progress>\n",
       "      [2541/2541 1:47:12, Epoch 3/3]\n",
       "    </div>\n",
       "    <table border=\"1\" class=\"dataframe\">\n",
       "  <thead>\n",
       " <tr style=\"text-align: left;\">\n",
       "      <th>Epoch</th>\n",
       "      <th>Training Loss</th>\n",
       "      <th>Validation Loss</th>\n",
       "    </tr>\n",
       "  </thead>\n",
       "  <tbody>\n",
       "    <tr>\n",
       "      <td>1</td>\n",
       "      <td>1.620100</td>\n",
       "      <td>1.610638</td>\n",
       "    </tr>\n",
       "    <tr>\n",
       "      <td>2</td>\n",
       "      <td>1.613300</td>\n",
       "      <td>1.611136</td>\n",
       "    </tr>\n",
       "    <tr>\n",
       "      <td>3</td>\n",
       "      <td>1.604800</td>\n",
       "      <td>1.611019</td>\n",
       "    </tr>\n",
       "  </tbody>\n",
       "</table><p>"
      ],
      "text/plain": [
       "<IPython.core.display.HTML object>"
      ]
     },
     "metadata": {},
     "output_type": "display_data"
    },
    {
     "name": "stderr",
     "output_type": "stream",
     "text": [
      "Checkpoint destination directory ./results_finetuned/checkpoint-847 already exists and is non-empty.Saving will proceed but saved results may be invalid.\n",
      "Checkpoint destination directory ./results_finetuned/checkpoint-1694 already exists and is non-empty.Saving will proceed but saved results may be invalid.\n",
      "Checkpoint destination directory ./results_finetuned/checkpoint-2541 already exists and is non-empty.Saving will proceed but saved results may be invalid.\n"
     ]
    },
    {
     "name": "stdout",
     "output_type": "stream",
     "text": [
      "Predicting test data...\n"
     ]
    },
    {
     "data": {
      "text/html": [],
      "text/plain": [
       "<IPython.core.display.HTML object>"
      ]
     },
     "metadata": {},
     "output_type": "display_data"
    },
    {
     "name": "stdout",
     "output_type": "stream",
     "text": [
      "Calculating metrics...\n"
     ]
    },
    {
     "name": "stderr",
     "output_type": "stream",
     "text": [
      "/Users/monu/opt/anaconda3/lib/python3.9/site-packages/sklearn/metrics/_classification.py:1344: UndefinedMetricWarning: Precision is ill-defined and being set to 0.0 in labels with no predicted samples. Use `zero_division` parameter to control this behavior.\n",
      "  _warn_prf(average, modifier, msg_start, len(result))\n"
     ]
    },
    {
     "name": "stdout",
     "output_type": "stream",
     "text": [
      "Results for Layer: Layer_1_3_5_7_9_11_Skipped\n"
     ]
    },
    {
     "data": {
      "text/html": [
       "<div>\n",
       "<style scoped>\n",
       "    .dataframe tbody tr th:only-of-type {\n",
       "        vertical-align: middle;\n",
       "    }\n",
       "\n",
       "    .dataframe tbody tr th {\n",
       "        vertical-align: top;\n",
       "    }\n",
       "\n",
       "    .dataframe thead th {\n",
       "        text-align: right;\n",
       "    }\n",
       "</style>\n",
       "<table border=\"1\" class=\"dataframe\">\n",
       "  <thead>\n",
       "    <tr style=\"text-align: right;\">\n",
       "      <th></th>\n",
       "      <th>Layer Name</th>\n",
       "      <th>Accuracy</th>\n",
       "      <th>Precision</th>\n",
       "      <th>Recall</th>\n",
       "      <th>F1</th>\n",
       "      <th>Training Time</th>\n",
       "      <th>Prediction Time</th>\n",
       "      <th>Model Size</th>\n",
       "      <th>Number of Parameters</th>\n",
       "    </tr>\n",
       "  </thead>\n",
       "  <tbody>\n",
       "    <tr>\n",
       "      <th>0</th>\n",
       "      <td>Layer_1_3_5_7_9_11_Skipped</td>\n",
       "      <td>0.20366</td>\n",
       "      <td>0.041477</td>\n",
       "      <td>0.20366</td>\n",
       "      <td>0.068919</td>\n",
       "      <td>6434.899003</td>\n",
       "      <td>256.654628</td>\n",
       "      <td>267876775</td>\n",
       "      <td>66958853</td>\n",
       "    </tr>\n",
       "  </tbody>\n",
       "</table>\n",
       "</div>"
      ],
      "text/plain": [
       "                   Layer Name  Accuracy  Precision   Recall        F1  \\\n",
       "0  Layer_1_3_5_7_9_11_Skipped   0.20366   0.041477  0.20366  0.068919   \n",
       "\n",
       "   Training Time  Prediction Time  Model Size  Number of Parameters  \n",
       "0    6434.899003       256.654628   267876775              66958853  "
      ]
     },
     "metadata": {},
     "output_type": "display_data"
    },
    {
     "name": "stdout",
     "output_type": "stream",
     "text": [
      "\n",
      "Running experiment: Layer_0_2_4_6_8_10_Skipped\n",
      "Loading dataset...\n",
      "Splitting data into train and test sets...\n",
      "Encoding labels...\n",
      "Tokenizing data...\n",
      "Converting encodings to PyTorch Dataset format...\n",
      "Loading BERT model...\n"
     ]
    },
    {
     "name": "stderr",
     "output_type": "stream",
     "text": [
      "Some weights of BertForSequenceClassification were not initialized from the model checkpoint at bert-base-uncased and are newly initialized: ['classifier.bias', 'classifier.weight']\n",
      "You should probably TRAIN this model on a down-stream task to be able to use it for predictions and inference.\n",
      "/Users/monu/opt/anaconda3/lib/python3.9/site-packages/accelerate/accelerator.py:432: FutureWarning: Passing the following arguments to `Accelerator` is deprecated and will be removed in version 1.0 of Accelerate: dict_keys(['dispatch_batches', 'split_batches']). Please pass an `accelerate.DataLoaderConfiguration` instead: \n",
      "dataloader_config = DataLoaderConfiguration(dispatch_batches=None, split_batches=False)\n",
      "  warnings.warn(\n"
     ]
    },
    {
     "name": "stdout",
     "output_type": "stream",
     "text": [
      "Skipping specified layers...\n",
      "Defining training arguments...\n",
      "Initializing trainer...\n",
      "Training and evaluating model...\n"
     ]
    },
    {
     "data": {
      "text/html": [
       "\n",
       "    <div>\n",
       "      \n",
       "      <progress value='2541' max='2541' style='width:300px; height:20px; vertical-align: middle;'></progress>\n",
       "      [2541/2541 1:47:18, Epoch 3/3]\n",
       "    </div>\n",
       "    <table border=\"1\" class=\"dataframe\">\n",
       "  <thead>\n",
       " <tr style=\"text-align: left;\">\n",
       "      <th>Epoch</th>\n",
       "      <th>Training Loss</th>\n",
       "      <th>Validation Loss</th>\n",
       "    </tr>\n",
       "  </thead>\n",
       "  <tbody>\n",
       "    <tr>\n",
       "      <td>1</td>\n",
       "      <td>1.625800</td>\n",
       "      <td>1.613784</td>\n",
       "    </tr>\n",
       "    <tr>\n",
       "      <td>2</td>\n",
       "      <td>1.617800</td>\n",
       "      <td>1.611195</td>\n",
       "    </tr>\n",
       "    <tr>\n",
       "      <td>3</td>\n",
       "      <td>1.609600</td>\n",
       "      <td>1.613146</td>\n",
       "    </tr>\n",
       "  </tbody>\n",
       "</table><p>"
      ],
      "text/plain": [
       "<IPython.core.display.HTML object>"
      ]
     },
     "metadata": {},
     "output_type": "display_data"
    },
    {
     "name": "stderr",
     "output_type": "stream",
     "text": [
      "Checkpoint destination directory ./results_finetuned/checkpoint-847 already exists and is non-empty.Saving will proceed but saved results may be invalid.\n",
      "Checkpoint destination directory ./results_finetuned/checkpoint-1694 already exists and is non-empty.Saving will proceed but saved results may be invalid.\n",
      "Checkpoint destination directory ./results_finetuned/checkpoint-2541 already exists and is non-empty.Saving will proceed but saved results may be invalid.\n"
     ]
    },
    {
     "name": "stdout",
     "output_type": "stream",
     "text": [
      "Predicting test data...\n"
     ]
    },
    {
     "data": {
      "text/html": [],
      "text/plain": [
       "<IPython.core.display.HTML object>"
      ]
     },
     "metadata": {},
     "output_type": "display_data"
    },
    {
     "name": "stdout",
     "output_type": "stream",
     "text": [
      "Calculating metrics...\n"
     ]
    },
    {
     "name": "stderr",
     "output_type": "stream",
     "text": [
      "/Users/monu/opt/anaconda3/lib/python3.9/site-packages/sklearn/metrics/_classification.py:1344: UndefinedMetricWarning: Precision is ill-defined and being set to 0.0 in labels with no predicted samples. Use `zero_division` parameter to control this behavior.\n",
      "  _warn_prf(average, modifier, msg_start, len(result))\n"
     ]
    },
    {
     "name": "stdout",
     "output_type": "stream",
     "text": [
      "Results for Layer: Layer_0_2_4_6_8_10_Skipped\n"
     ]
    },
    {
     "data": {
      "text/html": [
       "<div>\n",
       "<style scoped>\n",
       "    .dataframe tbody tr th:only-of-type {\n",
       "        vertical-align: middle;\n",
       "    }\n",
       "\n",
       "    .dataframe tbody tr th {\n",
       "        vertical-align: top;\n",
       "    }\n",
       "\n",
       "    .dataframe thead th {\n",
       "        text-align: right;\n",
       "    }\n",
       "</style>\n",
       "<table border=\"1\" class=\"dataframe\">\n",
       "  <thead>\n",
       "    <tr style=\"text-align: right;\">\n",
       "      <th></th>\n",
       "      <th>Layer Name</th>\n",
       "      <th>Accuracy</th>\n",
       "      <th>Precision</th>\n",
       "      <th>Recall</th>\n",
       "      <th>F1</th>\n",
       "      <th>Training Time</th>\n",
       "      <th>Prediction Time</th>\n",
       "      <th>Model Size</th>\n",
       "      <th>Number of Parameters</th>\n",
       "    </tr>\n",
       "  </thead>\n",
       "  <tbody>\n",
       "    <tr>\n",
       "      <th>0</th>\n",
       "      <td>Layer_0_2_4_6_8_10_Skipped</td>\n",
       "      <td>0.207792</td>\n",
       "      <td>0.158397</td>\n",
       "      <td>0.207792</td>\n",
       "      <td>0.158951</td>\n",
       "      <td>6441.745052</td>\n",
       "      <td>258.355101</td>\n",
       "      <td>267876775</td>\n",
       "      <td>66958853</td>\n",
       "    </tr>\n",
       "  </tbody>\n",
       "</table>\n",
       "</div>"
      ],
      "text/plain": [
       "                   Layer Name  Accuracy  Precision    Recall        F1  \\\n",
       "0  Layer_0_2_4_6_8_10_Skipped  0.207792   0.158397  0.207792  0.158951   \n",
       "\n",
       "   Training Time  Prediction Time  Model Size  Number of Parameters  \n",
       "0    6441.745052       258.355101   267876775              66958853  "
      ]
     },
     "metadata": {},
     "output_type": "display_data"
    },
    {
     "name": "stdout",
     "output_type": "stream",
     "text": [
      "\n",
      "Running experiment: Layer_1_2_3_4_5_6_7_8_Skipped\n",
      "Loading dataset...\n",
      "Splitting data into train and test sets...\n",
      "Encoding labels...\n",
      "Tokenizing data...\n",
      "Converting encodings to PyTorch Dataset format...\n",
      "Loading BERT model...\n"
     ]
    },
    {
     "name": "stderr",
     "output_type": "stream",
     "text": [
      "Some weights of BertForSequenceClassification were not initialized from the model checkpoint at bert-base-uncased and are newly initialized: ['classifier.bias', 'classifier.weight']\n",
      "You should probably TRAIN this model on a down-stream task to be able to use it for predictions and inference.\n",
      "/Users/monu/opt/anaconda3/lib/python3.9/site-packages/accelerate/accelerator.py:432: FutureWarning: Passing the following arguments to `Accelerator` is deprecated and will be removed in version 1.0 of Accelerate: dict_keys(['dispatch_batches', 'split_batches']). Please pass an `accelerate.DataLoaderConfiguration` instead: \n",
      "dataloader_config = DataLoaderConfiguration(dispatch_batches=None, split_batches=False)\n",
      "  warnings.warn(\n"
     ]
    },
    {
     "name": "stdout",
     "output_type": "stream",
     "text": [
      "Skipping specified layers...\n",
      "Defining training arguments...\n",
      "Initializing trainer...\n",
      "Training and evaluating model...\n"
     ]
    },
    {
     "data": {
      "text/html": [
       "\n",
       "    <div>\n",
       "      \n",
       "      <progress value='2541' max='2541' style='width:300px; height:20px; vertical-align: middle;'></progress>\n",
       "      [2541/2541 2:30:31, Epoch 3/3]\n",
       "    </div>\n",
       "    <table border=\"1\" class=\"dataframe\">\n",
       "  <thead>\n",
       " <tr style=\"text-align: left;\">\n",
       "      <th>Epoch</th>\n",
       "      <th>Training Loss</th>\n",
       "      <th>Validation Loss</th>\n",
       "    </tr>\n",
       "  </thead>\n",
       "  <tbody>\n",
       "    <tr>\n",
       "      <td>1</td>\n",
       "      <td>1.622200</td>\n",
       "      <td>1.611263</td>\n",
       "    </tr>\n",
       "    <tr>\n",
       "      <td>2</td>\n",
       "      <td>1.612800</td>\n",
       "      <td>1.610571</td>\n",
       "    </tr>\n",
       "    <tr>\n",
       "      <td>3</td>\n",
       "      <td>1.608500</td>\n",
       "      <td>1.609990</td>\n",
       "    </tr>\n",
       "  </tbody>\n",
       "</table><p>"
      ],
      "text/plain": [
       "<IPython.core.display.HTML object>"
      ]
     },
     "metadata": {},
     "output_type": "display_data"
    },
    {
     "name": "stderr",
     "output_type": "stream",
     "text": [
      "Checkpoint destination directory ./results_finetuned/checkpoint-847 already exists and is non-empty.Saving will proceed but saved results may be invalid.\n",
      "Checkpoint destination directory ./results_finetuned/checkpoint-1694 already exists and is non-empty.Saving will proceed but saved results may be invalid.\n",
      "Checkpoint destination directory ./results_finetuned/checkpoint-2541 already exists and is non-empty.Saving will proceed but saved results may be invalid.\n"
     ]
    },
    {
     "name": "stdout",
     "output_type": "stream",
     "text": [
      "Predicting test data...\n"
     ]
    },
    {
     "data": {
      "text/html": [],
      "text/plain": [
       "<IPython.core.display.HTML object>"
      ]
     },
     "metadata": {},
     "output_type": "display_data"
    },
    {
     "name": "stdout",
     "output_type": "stream",
     "text": [
      "Calculating metrics...\n"
     ]
    },
    {
     "name": "stderr",
     "output_type": "stream",
     "text": [
      "/Users/monu/opt/anaconda3/lib/python3.9/site-packages/sklearn/metrics/_classification.py:1344: UndefinedMetricWarning: Precision is ill-defined and being set to 0.0 in labels with no predicted samples. Use `zero_division` parameter to control this behavior.\n",
      "  _warn_prf(average, modifier, msg_start, len(result))\n"
     ]
    },
    {
     "name": "stdout",
     "output_type": "stream",
     "text": [
      "Results for Layer: Layer_1_2_3_4_5_6_7_8_Skipped\n"
     ]
    },
    {
     "data": {
      "text/html": [
       "<div>\n",
       "<style scoped>\n",
       "    .dataframe tbody tr th:only-of-type {\n",
       "        vertical-align: middle;\n",
       "    }\n",
       "\n",
       "    .dataframe tbody tr th {\n",
       "        vertical-align: top;\n",
       "    }\n",
       "\n",
       "    .dataframe thead th {\n",
       "        text-align: right;\n",
       "    }\n",
       "</style>\n",
       "<table border=\"1\" class=\"dataframe\">\n",
       "  <thead>\n",
       "    <tr style=\"text-align: right;\">\n",
       "      <th></th>\n",
       "      <th>Layer Name</th>\n",
       "      <th>Accuracy</th>\n",
       "      <th>Precision</th>\n",
       "      <th>Recall</th>\n",
       "      <th>F1</th>\n",
       "      <th>Training Time</th>\n",
       "      <th>Prediction Time</th>\n",
       "      <th>Model Size</th>\n",
       "      <th>Number of Parameters</th>\n",
       "    </tr>\n",
       "  </thead>\n",
       "  <tbody>\n",
       "    <tr>\n",
       "      <th>0</th>\n",
       "      <td>Layer_1_2_3_4_5_6_7_8_Skipped</td>\n",
       "      <td>0.214286</td>\n",
       "      <td>0.140591</td>\n",
       "      <td>0.214286</td>\n",
       "      <td>0.134741</td>\n",
       "      <td>9035.415472</td>\n",
       "      <td>343.937769</td>\n",
       "      <td>324592455</td>\n",
       "      <td>81134597</td>\n",
       "    </tr>\n",
       "  </tbody>\n",
       "</table>\n",
       "</div>"
      ],
      "text/plain": [
       "                      Layer Name  Accuracy  Precision    Recall        F1  \\\n",
       "0  Layer_1_2_3_4_5_6_7_8_Skipped  0.214286   0.140591  0.214286  0.134741   \n",
       "\n",
       "   Training Time  Prediction Time  Model Size  Number of Parameters  \n",
       "0    9035.415472       343.937769   324592455              81134597  "
      ]
     },
     "metadata": {},
     "output_type": "display_data"
    },
    {
     "name": "stdout",
     "output_type": "stream",
     "text": [
      "\n",
      "Running experiment: Layer_5_6_7_8_9_10_11_Skipped\n",
      "Loading dataset...\n",
      "Splitting data into train and test sets...\n",
      "Encoding labels...\n",
      "Tokenizing data...\n",
      "Converting encodings to PyTorch Dataset format...\n",
      "Loading BERT model...\n"
     ]
    },
    {
     "name": "stderr",
     "output_type": "stream",
     "text": [
      "Some weights of BertForSequenceClassification were not initialized from the model checkpoint at bert-base-uncased and are newly initialized: ['classifier.bias', 'classifier.weight']\n",
      "You should probably TRAIN this model on a down-stream task to be able to use it for predictions and inference.\n",
      "/Users/monu/opt/anaconda3/lib/python3.9/site-packages/accelerate/accelerator.py:432: FutureWarning: Passing the following arguments to `Accelerator` is deprecated and will be removed in version 1.0 of Accelerate: dict_keys(['dispatch_batches', 'split_batches']). Please pass an `accelerate.DataLoaderConfiguration` instead: \n",
      "dataloader_config = DataLoaderConfiguration(dispatch_batches=None, split_batches=False)\n",
      "  warnings.warn(\n"
     ]
    },
    {
     "name": "stdout",
     "output_type": "stream",
     "text": [
      "Skipping specified layers...\n",
      "Defining training arguments...\n",
      "Initializing trainer...\n",
      "Training and evaluating model...\n"
     ]
    },
    {
     "data": {
      "text/html": [
       "\n",
       "    <div>\n",
       "      \n",
       "      <progress value='2541' max='2541' style='width:300px; height:20px; vertical-align: middle;'></progress>\n",
       "      [2541/2541 2:03:59, Epoch 3/3]\n",
       "    </div>\n",
       "    <table border=\"1\" class=\"dataframe\">\n",
       "  <thead>\n",
       " <tr style=\"text-align: left;\">\n",
       "      <th>Epoch</th>\n",
       "      <th>Training Loss</th>\n",
       "      <th>Validation Loss</th>\n",
       "    </tr>\n",
       "  </thead>\n",
       "  <tbody>\n",
       "    <tr>\n",
       "      <td>1</td>\n",
       "      <td>1.626300</td>\n",
       "      <td>1.612049</td>\n",
       "    </tr>\n",
       "    <tr>\n",
       "      <td>2</td>\n",
       "      <td>1.618000</td>\n",
       "      <td>1.611035</td>\n",
       "    </tr>\n",
       "    <tr>\n",
       "      <td>3</td>\n",
       "      <td>1.611400</td>\n",
       "      <td>1.610169</td>\n",
       "    </tr>\n",
       "  </tbody>\n",
       "</table><p>"
      ],
      "text/plain": [
       "<IPython.core.display.HTML object>"
      ]
     },
     "metadata": {},
     "output_type": "display_data"
    },
    {
     "name": "stderr",
     "output_type": "stream",
     "text": [
      "Checkpoint destination directory ./results_finetuned/checkpoint-847 already exists and is non-empty.Saving will proceed but saved results may be invalid.\n",
      "Checkpoint destination directory ./results_finetuned/checkpoint-1694 already exists and is non-empty.Saving will proceed but saved results may be invalid.\n",
      "Checkpoint destination directory ./results_finetuned/checkpoint-2541 already exists and is non-empty.Saving will proceed but saved results may be invalid.\n"
     ]
    },
    {
     "name": "stdout",
     "output_type": "stream",
     "text": [
      "Predicting test data...\n"
     ]
    },
    {
     "data": {
      "text/html": [],
      "text/plain": [
       "<IPython.core.display.HTML object>"
      ]
     },
     "metadata": {},
     "output_type": "display_data"
    },
    {
     "name": "stdout",
     "output_type": "stream",
     "text": [
      "Calculating metrics...\n"
     ]
    },
    {
     "name": "stderr",
     "output_type": "stream",
     "text": [
      "/Users/monu/opt/anaconda3/lib/python3.9/site-packages/sklearn/metrics/_classification.py:1344: UndefinedMetricWarning: Precision is ill-defined and being set to 0.0 in labels with no predicted samples. Use `zero_division` parameter to control this behavior.\n",
      "  _warn_prf(average, modifier, msg_start, len(result))\n"
     ]
    },
    {
     "name": "stdout",
     "output_type": "stream",
     "text": [
      "Results for Layer: Layer_5_6_7_8_9_10_11_Skipped\n"
     ]
    },
    {
     "data": {
      "text/html": [
       "<div>\n",
       "<style scoped>\n",
       "    .dataframe tbody tr th:only-of-type {\n",
       "        vertical-align: middle;\n",
       "    }\n",
       "\n",
       "    .dataframe tbody tr th {\n",
       "        vertical-align: top;\n",
       "    }\n",
       "\n",
       "    .dataframe thead th {\n",
       "        text-align: right;\n",
       "    }\n",
       "</style>\n",
       "<table border=\"1\" class=\"dataframe\">\n",
       "  <thead>\n",
       "    <tr style=\"text-align: right;\">\n",
       "      <th></th>\n",
       "      <th>Layer Name</th>\n",
       "      <th>Accuracy</th>\n",
       "      <th>Precision</th>\n",
       "      <th>Recall</th>\n",
       "      <th>F1</th>\n",
       "      <th>Training Time</th>\n",
       "      <th>Prediction Time</th>\n",
       "      <th>Model Size</th>\n",
       "      <th>Number of Parameters</th>\n",
       "    </tr>\n",
       "  </thead>\n",
       "  <tbody>\n",
       "    <tr>\n",
       "      <th>0</th>\n",
       "      <td>Layer_5_6_7_8_9_10_11_Skipped</td>\n",
       "      <td>0.206021</td>\n",
       "      <td>0.084025</td>\n",
       "      <td>0.206021</td>\n",
       "      <td>0.103972</td>\n",
       "      <td>7446.618386</td>\n",
       "      <td>300.349434</td>\n",
       "      <td>296234615</td>\n",
       "      <td>74046725</td>\n",
       "    </tr>\n",
       "  </tbody>\n",
       "</table>\n",
       "</div>"
      ],
      "text/plain": [
       "                      Layer Name  Accuracy  Precision    Recall        F1  \\\n",
       "0  Layer_5_6_7_8_9_10_11_Skipped  0.206021   0.084025  0.206021  0.103972   \n",
       "\n",
       "   Training Time  Prediction Time  Model Size  Number of Parameters  \n",
       "0    7446.618386       300.349434   296234615              74046725  "
      ]
     },
     "metadata": {},
     "output_type": "display_data"
    },
    {
     "name": "stdout",
     "output_type": "stream",
     "text": [
      "\n",
      "Running experiment: Full_Pretrained\n",
      "Loading dataset...\n",
      "Splitting data into train and test sets...\n",
      "Encoding labels...\n",
      "Tokenizing data...\n",
      "Converting encodings to PyTorch Dataset format...\n",
      "Loading BERT model...\n"
     ]
    },
    {
     "name": "stderr",
     "output_type": "stream",
     "text": [
      "Some weights of BertForSequenceClassification were not initialized from the model checkpoint at bert-base-uncased and are newly initialized: ['classifier.bias', 'classifier.weight']\n",
      "You should probably TRAIN this model on a down-stream task to be able to use it for predictions and inference.\n"
     ]
    },
    {
     "name": "stdout",
     "output_type": "stream",
     "text": [
      "Not skipping any layers (training with all layers)...\n"
     ]
    },
    {
     "name": "stderr",
     "output_type": "stream",
     "text": [
      "Some weights of BertForSequenceClassification were not initialized from the model checkpoint at bert-base-uncased and are newly initialized: ['classifier.bias', 'classifier.weight']\n",
      "You should probably TRAIN this model on a down-stream task to be able to use it for predictions and inference.\n",
      "/Users/monu/opt/anaconda3/lib/python3.9/site-packages/accelerate/accelerator.py:432: FutureWarning: Passing the following arguments to `Accelerator` is deprecated and will be removed in version 1.0 of Accelerate: dict_keys(['dispatch_batches', 'split_batches']). Please pass an `accelerate.DataLoaderConfiguration` instead: \n",
      "dataloader_config = DataLoaderConfiguration(dispatch_batches=None, split_batches=False)\n",
      "  warnings.warn(\n"
     ]
    },
    {
     "name": "stdout",
     "output_type": "stream",
     "text": [
      "Defining training arguments...\n",
      "Initializing trainer...\n",
      "Training and evaluating model...\n"
     ]
    },
    {
     "data": {
      "text/html": [
       "\n",
       "    <div>\n",
       "      \n",
       "      <progress value='2541' max='2541' style='width:300px; height:20px; vertical-align: middle;'></progress>\n",
       "      [2541/2541 4:05:38, Epoch 3/3]\n",
       "    </div>\n",
       "    <table border=\"1\" class=\"dataframe\">\n",
       "  <thead>\n",
       " <tr style=\"text-align: left;\">\n",
       "      <th>Epoch</th>\n",
       "      <th>Training Loss</th>\n",
       "      <th>Validation Loss</th>\n",
       "    </tr>\n",
       "  </thead>\n",
       "  <tbody>\n",
       "    <tr>\n",
       "      <td>1</td>\n",
       "      <td>1.619500</td>\n",
       "      <td>1.611432</td>\n",
       "    </tr>\n",
       "    <tr>\n",
       "      <td>2</td>\n",
       "      <td>1.610600</td>\n",
       "      <td>1.612773</td>\n",
       "    </tr>\n",
       "    <tr>\n",
       "      <td>3</td>\n",
       "      <td>1.607300</td>\n",
       "      <td>1.610887</td>\n",
       "    </tr>\n",
       "  </tbody>\n",
       "</table><p>"
      ],
      "text/plain": [
       "<IPython.core.display.HTML object>"
      ]
     },
     "metadata": {},
     "output_type": "display_data"
    },
    {
     "name": "stderr",
     "output_type": "stream",
     "text": [
      "Checkpoint destination directory ./results_finetuned/checkpoint-847 already exists and is non-empty.Saving will proceed but saved results may be invalid.\n",
      "Checkpoint destination directory ./results_finetuned/checkpoint-1694 already exists and is non-empty.Saving will proceed but saved results may be invalid.\n",
      "Checkpoint destination directory ./results_finetuned/checkpoint-2541 already exists and is non-empty.Saving will proceed but saved results may be invalid.\n"
     ]
    },
    {
     "name": "stdout",
     "output_type": "stream",
     "text": [
      "Predicting test data...\n"
     ]
    },
    {
     "data": {
      "text/html": [],
      "text/plain": [
       "<IPython.core.display.HTML object>"
      ]
     },
     "metadata": {},
     "output_type": "display_data"
    },
    {
     "name": "stdout",
     "output_type": "stream",
     "text": [
      "Calculating metrics...\n"
     ]
    },
    {
     "name": "stderr",
     "output_type": "stream",
     "text": [
      "/Users/monu/opt/anaconda3/lib/python3.9/site-packages/sklearn/metrics/_classification.py:1344: UndefinedMetricWarning: Precision is ill-defined and being set to 0.0 in labels with no predicted samples. Use `zero_division` parameter to control this behavior.\n",
      "  _warn_prf(average, modifier, msg_start, len(result))\n"
     ]
    },
    {
     "name": "stdout",
     "output_type": "stream",
     "text": [
      "Results for Layer: Full_Pretrained\n"
     ]
    },
    {
     "data": {
      "text/html": [
       "<div>\n",
       "<style scoped>\n",
       "    .dataframe tbody tr th:only-of-type {\n",
       "        vertical-align: middle;\n",
       "    }\n",
       "\n",
       "    .dataframe tbody tr th {\n",
       "        vertical-align: top;\n",
       "    }\n",
       "\n",
       "    .dataframe thead th {\n",
       "        text-align: right;\n",
       "    }\n",
       "</style>\n",
       "<table border=\"1\" class=\"dataframe\">\n",
       "  <thead>\n",
       "    <tr style=\"text-align: right;\">\n",
       "      <th></th>\n",
       "      <th>Layer Name</th>\n",
       "      <th>Accuracy</th>\n",
       "      <th>Precision</th>\n",
       "      <th>Recall</th>\n",
       "      <th>F1</th>\n",
       "      <th>Training Time</th>\n",
       "      <th>Prediction Time</th>\n",
       "      <th>Model Size</th>\n",
       "      <th>Number of Parameters</th>\n",
       "    </tr>\n",
       "  </thead>\n",
       "  <tbody>\n",
       "    <tr>\n",
       "      <th>0</th>\n",
       "      <td>Full_Pretrained</td>\n",
       "      <td>0.210153</td>\n",
       "      <td>0.168557</td>\n",
       "      <td>0.210153</td>\n",
       "      <td>0.161918</td>\n",
       "      <td>14743.339755</td>\n",
       "      <td>512.270853</td>\n",
       "      <td>438023751</td>\n",
       "      <td>109486085</td>\n",
       "    </tr>\n",
       "  </tbody>\n",
       "</table>\n",
       "</div>"
      ],
      "text/plain": [
       "        Layer Name  Accuracy  Precision    Recall        F1  Training Time  \\\n",
       "0  Full_Pretrained  0.210153   0.168557  0.210153  0.161918   14743.339755   \n",
       "\n",
       "   Prediction Time  Model Size  Number of Parameters  \n",
       "0       512.270853   438023751             109486085  "
      ]
     },
     "metadata": {},
     "output_type": "display_data"
    },
    {
     "name": "stdout",
     "output_type": "stream",
     "text": [
      "\n",
      "Combined Results:\n"
     ]
    },
    {
     "data": {
      "text/html": [
       "<div>\n",
       "<style scoped>\n",
       "    .dataframe tbody tr th:only-of-type {\n",
       "        vertical-align: middle;\n",
       "    }\n",
       "\n",
       "    .dataframe tbody tr th {\n",
       "        vertical-align: top;\n",
       "    }\n",
       "\n",
       "    .dataframe thead th {\n",
       "        text-align: right;\n",
       "    }\n",
       "</style>\n",
       "<table border=\"1\" class=\"dataframe\">\n",
       "  <thead>\n",
       "    <tr style=\"text-align: right;\">\n",
       "      <th></th>\n",
       "      <th>Layer Name</th>\n",
       "      <th>Accuracy</th>\n",
       "      <th>Precision</th>\n",
       "      <th>Recall</th>\n",
       "      <th>F1</th>\n",
       "      <th>Training Time</th>\n",
       "      <th>Prediction Time</th>\n",
       "      <th>Model Size</th>\n",
       "      <th>Number of Parameters</th>\n",
       "    </tr>\n",
       "  </thead>\n",
       "  <tbody>\n",
       "    <tr>\n",
       "      <th>0</th>\n",
       "      <td>Layer_0_2_5_8_9_10_Skipped</td>\n",
       "      <td>0.203070</td>\n",
       "      <td>0.201249</td>\n",
       "      <td>0.203070</td>\n",
       "      <td>0.145599</td>\n",
       "      <td>6439.692999</td>\n",
       "      <td>263.759430</td>\n",
       "      <td>267876775</td>\n",
       "      <td>66958853</td>\n",
       "    </tr>\n",
       "    <tr>\n",
       "      <th>1</th>\n",
       "      <td>Layer_0_3_6_8_9_10_Skipped</td>\n",
       "      <td>0.201299</td>\n",
       "      <td>0.096439</td>\n",
       "      <td>0.201299</td>\n",
       "      <td>0.117623</td>\n",
       "      <td>6460.542090</td>\n",
       "      <td>258.725424</td>\n",
       "      <td>267876775</td>\n",
       "      <td>66958853</td>\n",
       "    </tr>\n",
       "    <tr>\n",
       "      <th>2</th>\n",
       "      <td>Layer_1_3_4_6_7_10_Skipped</td>\n",
       "      <td>0.203660</td>\n",
       "      <td>0.084385</td>\n",
       "      <td>0.203660</td>\n",
       "      <td>0.074252</td>\n",
       "      <td>6432.362280</td>\n",
       "      <td>257.727197</td>\n",
       "      <td>267876775</td>\n",
       "      <td>66958853</td>\n",
       "    </tr>\n",
       "    <tr>\n",
       "      <th>3</th>\n",
       "      <td>Layer_1_3_5_7_9_11_Skipped</td>\n",
       "      <td>0.203660</td>\n",
       "      <td>0.041477</td>\n",
       "      <td>0.203660</td>\n",
       "      <td>0.068919</td>\n",
       "      <td>6434.899003</td>\n",
       "      <td>256.654628</td>\n",
       "      <td>267876775</td>\n",
       "      <td>66958853</td>\n",
       "    </tr>\n",
       "    <tr>\n",
       "      <th>4</th>\n",
       "      <td>Layer_0_2_4_6_8_10_Skipped</td>\n",
       "      <td>0.207792</td>\n",
       "      <td>0.158397</td>\n",
       "      <td>0.207792</td>\n",
       "      <td>0.158951</td>\n",
       "      <td>6441.745052</td>\n",
       "      <td>258.355101</td>\n",
       "      <td>267876775</td>\n",
       "      <td>66958853</td>\n",
       "    </tr>\n",
       "    <tr>\n",
       "      <th>5</th>\n",
       "      <td>Layer_1_2_3_4_5_6_7_8_Skipped</td>\n",
       "      <td>0.214286</td>\n",
       "      <td>0.140591</td>\n",
       "      <td>0.214286</td>\n",
       "      <td>0.134741</td>\n",
       "      <td>9035.415472</td>\n",
       "      <td>343.937769</td>\n",
       "      <td>324592455</td>\n",
       "      <td>81134597</td>\n",
       "    </tr>\n",
       "    <tr>\n",
       "      <th>6</th>\n",
       "      <td>Layer_5_6_7_8_9_10_11_Skipped</td>\n",
       "      <td>0.206021</td>\n",
       "      <td>0.084025</td>\n",
       "      <td>0.206021</td>\n",
       "      <td>0.103972</td>\n",
       "      <td>7446.618386</td>\n",
       "      <td>300.349434</td>\n",
       "      <td>296234615</td>\n",
       "      <td>74046725</td>\n",
       "    </tr>\n",
       "    <tr>\n",
       "      <th>7</th>\n",
       "      <td>Full_Pretrained</td>\n",
       "      <td>0.210153</td>\n",
       "      <td>0.168557</td>\n",
       "      <td>0.210153</td>\n",
       "      <td>0.161918</td>\n",
       "      <td>14743.339755</td>\n",
       "      <td>512.270853</td>\n",
       "      <td>438023751</td>\n",
       "      <td>109486085</td>\n",
       "    </tr>\n",
       "  </tbody>\n",
       "</table>\n",
       "</div>"
      ],
      "text/plain": [
       "                      Layer Name  Accuracy  Precision    Recall        F1  \\\n",
       "0     Layer_0_2_5_8_9_10_Skipped  0.203070   0.201249  0.203070  0.145599   \n",
       "1     Layer_0_3_6_8_9_10_Skipped  0.201299   0.096439  0.201299  0.117623   \n",
       "2     Layer_1_3_4_6_7_10_Skipped  0.203660   0.084385  0.203660  0.074252   \n",
       "3     Layer_1_3_5_7_9_11_Skipped  0.203660   0.041477  0.203660  0.068919   \n",
       "4     Layer_0_2_4_6_8_10_Skipped  0.207792   0.158397  0.207792  0.158951   \n",
       "5  Layer_1_2_3_4_5_6_7_8_Skipped  0.214286   0.140591  0.214286  0.134741   \n",
       "6  Layer_5_6_7_8_9_10_11_Skipped  0.206021   0.084025  0.206021  0.103972   \n",
       "7                Full_Pretrained  0.210153   0.168557  0.210153  0.161918   \n",
       "\n",
       "   Training Time  Prediction Time  Model Size  Number of Parameters  \n",
       "0    6439.692999       263.759430   267876775              66958853  \n",
       "1    6460.542090       258.725424   267876775              66958853  \n",
       "2    6432.362280       257.727197   267876775              66958853  \n",
       "3    6434.899003       256.654628   267876775              66958853  \n",
       "4    6441.745052       258.355101   267876775              66958853  \n",
       "5    9035.415472       343.937769   324592455              81134597  \n",
       "6    7446.618386       300.349434   296234615              74046725  \n",
       "7   14743.339755       512.270853   438023751             109486085  "
      ]
     },
     "metadata": {},
     "output_type": "display_data"
    }
   ],
   "source": [
    "# Example usage:\n",
    "layers_to_skip = [\n",
    "    np.random.choice(range(12), 6, replace=False),  # Random skipping\n",
    "    np.random.choice(range(12), 6, replace=False),\n",
    "    np.random.choice(range(12), 6, replace=False),\n",
    "    [i for i in range(1, 12, 2)],  # Skipping odd layers\n",
    "    [i for i in range(0, 12, 2)],  # Skipping even layers\n",
    "    [1,2,3,4,5,6,7,8],\n",
    "    [5,6,7,8,9,10,11],\n",
    "    []  # No skipping (full pre-trained)\n",
    "]\n",
    "#num_samples = 'full'  # Specify the number of samples, or \"full\" for the full dataset\n",
    "num_samples = 'full'\n",
    "results_dfs = []\n",
    "display(layers_to_skip)\n",
    "sorted_layers_to_skip = [ sorted(layer.tolist()) if isinstance(layer,np.ndarray) else layer for layer in layers_to_skip ]\n",
    "display(sorted_layers_to_skip)\n",
    "# Run experiments for each configuration\n",
    "for layers in sorted_layers_to_skip:\n",
    "    if len(layers) == 0:\n",
    "        name = \"Full_Pretrained\"\n",
    "        layers = 'full'\n",
    "    else:\n",
    "        name = \"Layer_\" + \"_\".join([ str(layer) for layer in layers]) + \"_Skipped\"\n",
    "    results_df = run_experiment(name, layers, num_samples)\n",
    "    results_dfs.append(results_df)\n",
    "\n",
    "# Combine results into a single DataFrame\n",
    "combined_results = pd.concat(results_dfs, ignore_index=True)\n",
    "print(\"\\nCombined Results:\")\n",
    "display(combined_results)"
   ]
  },
  {
   "cell_type": "code",
   "execution_count": 32,
   "id": "cb525bd2",
   "metadata": {
    "scrolled": true
   },
   "outputs": [],
   "source": [
    "# Sort DataFrame based on F1 score\n",
    "combined_results_sorted = combined_results.sort_values(by='F1', ascending=False)"
   ]
  },
  {
   "cell_type": "code",
   "execution_count": 33,
   "id": "046733b8",
   "metadata": {
    "scrolled": true
   },
   "outputs": [
    {
     "data": {
      "text/html": [
       "<div>\n",
       "<style scoped>\n",
       "    .dataframe tbody tr th:only-of-type {\n",
       "        vertical-align: middle;\n",
       "    }\n",
       "\n",
       "    .dataframe tbody tr th {\n",
       "        vertical-align: top;\n",
       "    }\n",
       "\n",
       "    .dataframe thead th {\n",
       "        text-align: right;\n",
       "    }\n",
       "</style>\n",
       "<table border=\"1\" class=\"dataframe\">\n",
       "  <thead>\n",
       "    <tr style=\"text-align: right;\">\n",
       "      <th></th>\n",
       "      <th>Layer Name</th>\n",
       "      <th>Accuracy</th>\n",
       "      <th>Precision</th>\n",
       "      <th>Recall</th>\n",
       "      <th>F1</th>\n",
       "      <th>Training Time</th>\n",
       "      <th>Prediction Time</th>\n",
       "      <th>Model Size</th>\n",
       "      <th>Number of Parameters</th>\n",
       "    </tr>\n",
       "  </thead>\n",
       "  <tbody>\n",
       "    <tr>\n",
       "      <th>7</th>\n",
       "      <td>Full_Pretrained</td>\n",
       "      <td>0.210153</td>\n",
       "      <td>0.168557</td>\n",
       "      <td>0.210153</td>\n",
       "      <td>0.161918</td>\n",
       "      <td>14743.339755</td>\n",
       "      <td>512.270853</td>\n",
       "      <td>438023751</td>\n",
       "      <td>109486085</td>\n",
       "    </tr>\n",
       "    <tr>\n",
       "      <th>4</th>\n",
       "      <td>Layer_0_2_4_6_8_10_Skipped</td>\n",
       "      <td>0.207792</td>\n",
       "      <td>0.158397</td>\n",
       "      <td>0.207792</td>\n",
       "      <td>0.158951</td>\n",
       "      <td>6441.745052</td>\n",
       "      <td>258.355101</td>\n",
       "      <td>267876775</td>\n",
       "      <td>66958853</td>\n",
       "    </tr>\n",
       "    <tr>\n",
       "      <th>0</th>\n",
       "      <td>Layer_0_2_5_8_9_10_Skipped</td>\n",
       "      <td>0.203070</td>\n",
       "      <td>0.201249</td>\n",
       "      <td>0.203070</td>\n",
       "      <td>0.145599</td>\n",
       "      <td>6439.692999</td>\n",
       "      <td>263.759430</td>\n",
       "      <td>267876775</td>\n",
       "      <td>66958853</td>\n",
       "    </tr>\n",
       "    <tr>\n",
       "      <th>5</th>\n",
       "      <td>Layer_1_2_3_4_5_6_7_8_Skipped</td>\n",
       "      <td>0.214286</td>\n",
       "      <td>0.140591</td>\n",
       "      <td>0.214286</td>\n",
       "      <td>0.134741</td>\n",
       "      <td>9035.415472</td>\n",
       "      <td>343.937769</td>\n",
       "      <td>324592455</td>\n",
       "      <td>81134597</td>\n",
       "    </tr>\n",
       "    <tr>\n",
       "      <th>1</th>\n",
       "      <td>Layer_0_3_6_8_9_10_Skipped</td>\n",
       "      <td>0.201299</td>\n",
       "      <td>0.096439</td>\n",
       "      <td>0.201299</td>\n",
       "      <td>0.117623</td>\n",
       "      <td>6460.542090</td>\n",
       "      <td>258.725424</td>\n",
       "      <td>267876775</td>\n",
       "      <td>66958853</td>\n",
       "    </tr>\n",
       "    <tr>\n",
       "      <th>6</th>\n",
       "      <td>Layer_5_6_7_8_9_10_11_Skipped</td>\n",
       "      <td>0.206021</td>\n",
       "      <td>0.084025</td>\n",
       "      <td>0.206021</td>\n",
       "      <td>0.103972</td>\n",
       "      <td>7446.618386</td>\n",
       "      <td>300.349434</td>\n",
       "      <td>296234615</td>\n",
       "      <td>74046725</td>\n",
       "    </tr>\n",
       "    <tr>\n",
       "      <th>2</th>\n",
       "      <td>Layer_1_3_4_6_7_10_Skipped</td>\n",
       "      <td>0.203660</td>\n",
       "      <td>0.084385</td>\n",
       "      <td>0.203660</td>\n",
       "      <td>0.074252</td>\n",
       "      <td>6432.362280</td>\n",
       "      <td>257.727197</td>\n",
       "      <td>267876775</td>\n",
       "      <td>66958853</td>\n",
       "    </tr>\n",
       "    <tr>\n",
       "      <th>3</th>\n",
       "      <td>Layer_1_3_5_7_9_11_Skipped</td>\n",
       "      <td>0.203660</td>\n",
       "      <td>0.041477</td>\n",
       "      <td>0.203660</td>\n",
       "      <td>0.068919</td>\n",
       "      <td>6434.899003</td>\n",
       "      <td>256.654628</td>\n",
       "      <td>267876775</td>\n",
       "      <td>66958853</td>\n",
       "    </tr>\n",
       "  </tbody>\n",
       "</table>\n",
       "</div>"
      ],
      "text/plain": [
       "                      Layer Name  Accuracy  Precision    Recall        F1  \\\n",
       "7                Full_Pretrained  0.210153   0.168557  0.210153  0.161918   \n",
       "4     Layer_0_2_4_6_8_10_Skipped  0.207792   0.158397  0.207792  0.158951   \n",
       "0     Layer_0_2_5_8_9_10_Skipped  0.203070   0.201249  0.203070  0.145599   \n",
       "5  Layer_1_2_3_4_5_6_7_8_Skipped  0.214286   0.140591  0.214286  0.134741   \n",
       "1     Layer_0_3_6_8_9_10_Skipped  0.201299   0.096439  0.201299  0.117623   \n",
       "6  Layer_5_6_7_8_9_10_11_Skipped  0.206021   0.084025  0.206021  0.103972   \n",
       "2     Layer_1_3_4_6_7_10_Skipped  0.203660   0.084385  0.203660  0.074252   \n",
       "3     Layer_1_3_5_7_9_11_Skipped  0.203660   0.041477  0.203660  0.068919   \n",
       "\n",
       "   Training Time  Prediction Time  Model Size  Number of Parameters  \n",
       "7   14743.339755       512.270853   438023751             109486085  \n",
       "4    6441.745052       258.355101   267876775              66958853  \n",
       "0    6439.692999       263.759430   267876775              66958853  \n",
       "5    9035.415472       343.937769   324592455              81134597  \n",
       "1    6460.542090       258.725424   267876775              66958853  \n",
       "6    7446.618386       300.349434   296234615              74046725  \n",
       "2    6432.362280       257.727197   267876775              66958853  \n",
       "3    6434.899003       256.654628   267876775              66958853  "
      ]
     },
     "execution_count": 33,
     "metadata": {},
     "output_type": "execute_result"
    }
   ],
   "source": [
    "combined_results_sorted"
   ]
  },
  {
   "cell_type": "code",
   "execution_count": 34,
   "id": "b87ea594",
   "metadata": {
    "scrolled": true
   },
   "outputs": [],
   "source": [
    "# Sort DataFrame based on Accuracy score\n",
    "combined_results_sorted = combined_results.sort_values(by='Accuracy', ascending=False)"
   ]
  },
  {
   "cell_type": "code",
   "execution_count": 35,
   "id": "e88f159a",
   "metadata": {
    "scrolled": true
   },
   "outputs": [
    {
     "data": {
      "text/html": [
       "<div>\n",
       "<style scoped>\n",
       "    .dataframe tbody tr th:only-of-type {\n",
       "        vertical-align: middle;\n",
       "    }\n",
       "\n",
       "    .dataframe tbody tr th {\n",
       "        vertical-align: top;\n",
       "    }\n",
       "\n",
       "    .dataframe thead th {\n",
       "        text-align: right;\n",
       "    }\n",
       "</style>\n",
       "<table border=\"1\" class=\"dataframe\">\n",
       "  <thead>\n",
       "    <tr style=\"text-align: right;\">\n",
       "      <th></th>\n",
       "      <th>Layer Name</th>\n",
       "      <th>Accuracy</th>\n",
       "      <th>Precision</th>\n",
       "      <th>Recall</th>\n",
       "      <th>F1</th>\n",
       "      <th>Training Time</th>\n",
       "      <th>Prediction Time</th>\n",
       "      <th>Model Size</th>\n",
       "      <th>Number of Parameters</th>\n",
       "    </tr>\n",
       "  </thead>\n",
       "  <tbody>\n",
       "    <tr>\n",
       "      <th>5</th>\n",
       "      <td>Layer_1_2_3_4_5_6_7_8_Skipped</td>\n",
       "      <td>0.214286</td>\n",
       "      <td>0.140591</td>\n",
       "      <td>0.214286</td>\n",
       "      <td>0.134741</td>\n",
       "      <td>9035.415472</td>\n",
       "      <td>343.937769</td>\n",
       "      <td>324592455</td>\n",
       "      <td>81134597</td>\n",
       "    </tr>\n",
       "    <tr>\n",
       "      <th>7</th>\n",
       "      <td>Full_Pretrained</td>\n",
       "      <td>0.210153</td>\n",
       "      <td>0.168557</td>\n",
       "      <td>0.210153</td>\n",
       "      <td>0.161918</td>\n",
       "      <td>14743.339755</td>\n",
       "      <td>512.270853</td>\n",
       "      <td>438023751</td>\n",
       "      <td>109486085</td>\n",
       "    </tr>\n",
       "    <tr>\n",
       "      <th>4</th>\n",
       "      <td>Layer_0_2_4_6_8_10_Skipped</td>\n",
       "      <td>0.207792</td>\n",
       "      <td>0.158397</td>\n",
       "      <td>0.207792</td>\n",
       "      <td>0.158951</td>\n",
       "      <td>6441.745052</td>\n",
       "      <td>258.355101</td>\n",
       "      <td>267876775</td>\n",
       "      <td>66958853</td>\n",
       "    </tr>\n",
       "    <tr>\n",
       "      <th>6</th>\n",
       "      <td>Layer_5_6_7_8_9_10_11_Skipped</td>\n",
       "      <td>0.206021</td>\n",
       "      <td>0.084025</td>\n",
       "      <td>0.206021</td>\n",
       "      <td>0.103972</td>\n",
       "      <td>7446.618386</td>\n",
       "      <td>300.349434</td>\n",
       "      <td>296234615</td>\n",
       "      <td>74046725</td>\n",
       "    </tr>\n",
       "    <tr>\n",
       "      <th>2</th>\n",
       "      <td>Layer_1_3_4_6_7_10_Skipped</td>\n",
       "      <td>0.203660</td>\n",
       "      <td>0.084385</td>\n",
       "      <td>0.203660</td>\n",
       "      <td>0.074252</td>\n",
       "      <td>6432.362280</td>\n",
       "      <td>257.727197</td>\n",
       "      <td>267876775</td>\n",
       "      <td>66958853</td>\n",
       "    </tr>\n",
       "    <tr>\n",
       "      <th>3</th>\n",
       "      <td>Layer_1_3_5_7_9_11_Skipped</td>\n",
       "      <td>0.203660</td>\n",
       "      <td>0.041477</td>\n",
       "      <td>0.203660</td>\n",
       "      <td>0.068919</td>\n",
       "      <td>6434.899003</td>\n",
       "      <td>256.654628</td>\n",
       "      <td>267876775</td>\n",
       "      <td>66958853</td>\n",
       "    </tr>\n",
       "    <tr>\n",
       "      <th>0</th>\n",
       "      <td>Layer_0_2_5_8_9_10_Skipped</td>\n",
       "      <td>0.203070</td>\n",
       "      <td>0.201249</td>\n",
       "      <td>0.203070</td>\n",
       "      <td>0.145599</td>\n",
       "      <td>6439.692999</td>\n",
       "      <td>263.759430</td>\n",
       "      <td>267876775</td>\n",
       "      <td>66958853</td>\n",
       "    </tr>\n",
       "    <tr>\n",
       "      <th>1</th>\n",
       "      <td>Layer_0_3_6_8_9_10_Skipped</td>\n",
       "      <td>0.201299</td>\n",
       "      <td>0.096439</td>\n",
       "      <td>0.201299</td>\n",
       "      <td>0.117623</td>\n",
       "      <td>6460.542090</td>\n",
       "      <td>258.725424</td>\n",
       "      <td>267876775</td>\n",
       "      <td>66958853</td>\n",
       "    </tr>\n",
       "  </tbody>\n",
       "</table>\n",
       "</div>"
      ],
      "text/plain": [
       "                      Layer Name  Accuracy  Precision    Recall        F1  \\\n",
       "5  Layer_1_2_3_4_5_6_7_8_Skipped  0.214286   0.140591  0.214286  0.134741   \n",
       "7                Full_Pretrained  0.210153   0.168557  0.210153  0.161918   \n",
       "4     Layer_0_2_4_6_8_10_Skipped  0.207792   0.158397  0.207792  0.158951   \n",
       "6  Layer_5_6_7_8_9_10_11_Skipped  0.206021   0.084025  0.206021  0.103972   \n",
       "2     Layer_1_3_4_6_7_10_Skipped  0.203660   0.084385  0.203660  0.074252   \n",
       "3     Layer_1_3_5_7_9_11_Skipped  0.203660   0.041477  0.203660  0.068919   \n",
       "0     Layer_0_2_5_8_9_10_Skipped  0.203070   0.201249  0.203070  0.145599   \n",
       "1     Layer_0_3_6_8_9_10_Skipped  0.201299   0.096439  0.201299  0.117623   \n",
       "\n",
       "   Training Time  Prediction Time  Model Size  Number of Parameters  \n",
       "5    9035.415472       343.937769   324592455              81134597  \n",
       "7   14743.339755       512.270853   438023751             109486085  \n",
       "4    6441.745052       258.355101   267876775              66958853  \n",
       "6    7446.618386       300.349434   296234615              74046725  \n",
       "2    6432.362280       257.727197   267876775              66958853  \n",
       "3    6434.899003       256.654628   267876775              66958853  \n",
       "0    6439.692999       263.759430   267876775              66958853  \n",
       "1    6460.542090       258.725424   267876775              66958853  "
      ]
     },
     "execution_count": 35,
     "metadata": {},
     "output_type": "execute_result"
    }
   ],
   "source": [
    "combined_results_sorted"
   ]
  },
  {
   "cell_type": "code",
   "execution_count": 37,
   "id": "623b9fe8",
   "metadata": {
    "scrolled": true
   },
   "outputs": [
    {
     "data": {
      "text/html": [
       "<div>\n",
       "<style scoped>\n",
       "    .dataframe tbody tr th:only-of-type {\n",
       "        vertical-align: middle;\n",
       "    }\n",
       "\n",
       "    .dataframe tbody tr th {\n",
       "        vertical-align: top;\n",
       "    }\n",
       "\n",
       "    .dataframe thead th {\n",
       "        text-align: right;\n",
       "    }\n",
       "</style>\n",
       "<table border=\"1\" class=\"dataframe\">\n",
       "  <thead>\n",
       "    <tr style=\"text-align: right;\">\n",
       "      <th></th>\n",
       "      <th>Layer Name</th>\n",
       "      <th>Accuracy</th>\n",
       "      <th>Precision</th>\n",
       "      <th>Recall</th>\n",
       "      <th>F1</th>\n",
       "      <th>Training Time</th>\n",
       "      <th>Prediction Time</th>\n",
       "      <th>Model Size</th>\n",
       "      <th>Number of Parameters</th>\n",
       "    </tr>\n",
       "  </thead>\n",
       "  <tbody>\n",
       "    <tr>\n",
       "      <th>7</th>\n",
       "      <td>Full_Pretrained</td>\n",
       "      <td>0.210153</td>\n",
       "      <td>0.168557</td>\n",
       "      <td>0.210153</td>\n",
       "      <td>0.161918</td>\n",
       "      <td>14743.339755</td>\n",
       "      <td>512.270853</td>\n",
       "      <td>438023751</td>\n",
       "      <td>109486085</td>\n",
       "    </tr>\n",
       "    <tr>\n",
       "      <th>5</th>\n",
       "      <td>Layer_1_2_3_4_5_6_7_8_Skipped</td>\n",
       "      <td>0.214286</td>\n",
       "      <td>0.140591</td>\n",
       "      <td>0.214286</td>\n",
       "      <td>0.134741</td>\n",
       "      <td>9035.415472</td>\n",
       "      <td>343.937769</td>\n",
       "      <td>324592455</td>\n",
       "      <td>81134597</td>\n",
       "    </tr>\n",
       "    <tr>\n",
       "      <th>6</th>\n",
       "      <td>Layer_5_6_7_8_9_10_11_Skipped</td>\n",
       "      <td>0.206021</td>\n",
       "      <td>0.084025</td>\n",
       "      <td>0.206021</td>\n",
       "      <td>0.103972</td>\n",
       "      <td>7446.618386</td>\n",
       "      <td>300.349434</td>\n",
       "      <td>296234615</td>\n",
       "      <td>74046725</td>\n",
       "    </tr>\n",
       "    <tr>\n",
       "      <th>1</th>\n",
       "      <td>Layer_0_3_6_8_9_10_Skipped</td>\n",
       "      <td>0.201299</td>\n",
       "      <td>0.096439</td>\n",
       "      <td>0.201299</td>\n",
       "      <td>0.117623</td>\n",
       "      <td>6460.542090</td>\n",
       "      <td>258.725424</td>\n",
       "      <td>267876775</td>\n",
       "      <td>66958853</td>\n",
       "    </tr>\n",
       "    <tr>\n",
       "      <th>4</th>\n",
       "      <td>Layer_0_2_4_6_8_10_Skipped</td>\n",
       "      <td>0.207792</td>\n",
       "      <td>0.158397</td>\n",
       "      <td>0.207792</td>\n",
       "      <td>0.158951</td>\n",
       "      <td>6441.745052</td>\n",
       "      <td>258.355101</td>\n",
       "      <td>267876775</td>\n",
       "      <td>66958853</td>\n",
       "    </tr>\n",
       "    <tr>\n",
       "      <th>0</th>\n",
       "      <td>Layer_0_2_5_8_9_10_Skipped</td>\n",
       "      <td>0.203070</td>\n",
       "      <td>0.201249</td>\n",
       "      <td>0.203070</td>\n",
       "      <td>0.145599</td>\n",
       "      <td>6439.692999</td>\n",
       "      <td>263.759430</td>\n",
       "      <td>267876775</td>\n",
       "      <td>66958853</td>\n",
       "    </tr>\n",
       "    <tr>\n",
       "      <th>3</th>\n",
       "      <td>Layer_1_3_5_7_9_11_Skipped</td>\n",
       "      <td>0.203660</td>\n",
       "      <td>0.041477</td>\n",
       "      <td>0.203660</td>\n",
       "      <td>0.068919</td>\n",
       "      <td>6434.899003</td>\n",
       "      <td>256.654628</td>\n",
       "      <td>267876775</td>\n",
       "      <td>66958853</td>\n",
       "    </tr>\n",
       "    <tr>\n",
       "      <th>2</th>\n",
       "      <td>Layer_1_3_4_6_7_10_Skipped</td>\n",
       "      <td>0.203660</td>\n",
       "      <td>0.084385</td>\n",
       "      <td>0.203660</td>\n",
       "      <td>0.074252</td>\n",
       "      <td>6432.362280</td>\n",
       "      <td>257.727197</td>\n",
       "      <td>267876775</td>\n",
       "      <td>66958853</td>\n",
       "    </tr>\n",
       "  </tbody>\n",
       "</table>\n",
       "</div>"
      ],
      "text/plain": [
       "                      Layer Name  Accuracy  Precision    Recall        F1  \\\n",
       "7                Full_Pretrained  0.210153   0.168557  0.210153  0.161918   \n",
       "5  Layer_1_2_3_4_5_6_7_8_Skipped  0.214286   0.140591  0.214286  0.134741   \n",
       "6  Layer_5_6_7_8_9_10_11_Skipped  0.206021   0.084025  0.206021  0.103972   \n",
       "1     Layer_0_3_6_8_9_10_Skipped  0.201299   0.096439  0.201299  0.117623   \n",
       "4     Layer_0_2_4_6_8_10_Skipped  0.207792   0.158397  0.207792  0.158951   \n",
       "0     Layer_0_2_5_8_9_10_Skipped  0.203070   0.201249  0.203070  0.145599   \n",
       "3     Layer_1_3_5_7_9_11_Skipped  0.203660   0.041477  0.203660  0.068919   \n",
       "2     Layer_1_3_4_6_7_10_Skipped  0.203660   0.084385  0.203660  0.074252   \n",
       "\n",
       "   Training Time  Prediction Time  Model Size  Number of Parameters  \n",
       "7   14743.339755       512.270853   438023751             109486085  \n",
       "5    9035.415472       343.937769   324592455              81134597  \n",
       "6    7446.618386       300.349434   296234615              74046725  \n",
       "1    6460.542090       258.725424   267876775              66958853  \n",
       "4    6441.745052       258.355101   267876775              66958853  \n",
       "0    6439.692999       263.759430   267876775              66958853  \n",
       "3    6434.899003       256.654628   267876775              66958853  \n",
       "2    6432.362280       257.727197   267876775              66958853  "
      ]
     },
     "execution_count": 37,
     "metadata": {},
     "output_type": "execute_result"
    }
   ],
   "source": [
    "# Sort DataFrame based on Processing Time' score\n",
    "combined_results_sorted = combined_results.sort_values(by='Training Time', ascending=False)\n",
    "combined_results_sorted"
   ]
  },
  {
   "cell_type": "code",
   "execution_count": 38,
   "id": "09cd2f07",
   "metadata": {
    "scrolled": true
   },
   "outputs": [
    {
     "data": {
      "text/html": [
       "<div>\n",
       "<style scoped>\n",
       "    .dataframe tbody tr th:only-of-type {\n",
       "        vertical-align: middle;\n",
       "    }\n",
       "\n",
       "    .dataframe tbody tr th {\n",
       "        vertical-align: top;\n",
       "    }\n",
       "\n",
       "    .dataframe thead th {\n",
       "        text-align: right;\n",
       "    }\n",
       "</style>\n",
       "<table border=\"1\" class=\"dataframe\">\n",
       "  <thead>\n",
       "    <tr style=\"text-align: right;\">\n",
       "      <th></th>\n",
       "      <th>Layer Name</th>\n",
       "      <th>Accuracy</th>\n",
       "      <th>Precision</th>\n",
       "      <th>Recall</th>\n",
       "      <th>F1</th>\n",
       "      <th>Training Time</th>\n",
       "      <th>Prediction Time</th>\n",
       "      <th>Model Size</th>\n",
       "      <th>Number of Parameters</th>\n",
       "    </tr>\n",
       "  </thead>\n",
       "  <tbody>\n",
       "    <tr>\n",
       "      <th>7</th>\n",
       "      <td>Full_Pretrained</td>\n",
       "      <td>0.210153</td>\n",
       "      <td>0.168557</td>\n",
       "      <td>0.210153</td>\n",
       "      <td>0.161918</td>\n",
       "      <td>14743.339755</td>\n",
       "      <td>512.270853</td>\n",
       "      <td>438023751</td>\n",
       "      <td>109486085</td>\n",
       "    </tr>\n",
       "    <tr>\n",
       "      <th>5</th>\n",
       "      <td>Layer_1_2_3_4_5_6_7_8_Skipped</td>\n",
       "      <td>0.214286</td>\n",
       "      <td>0.140591</td>\n",
       "      <td>0.214286</td>\n",
       "      <td>0.134741</td>\n",
       "      <td>9035.415472</td>\n",
       "      <td>343.937769</td>\n",
       "      <td>324592455</td>\n",
       "      <td>81134597</td>\n",
       "    </tr>\n",
       "    <tr>\n",
       "      <th>6</th>\n",
       "      <td>Layer_5_6_7_8_9_10_11_Skipped</td>\n",
       "      <td>0.206021</td>\n",
       "      <td>0.084025</td>\n",
       "      <td>0.206021</td>\n",
       "      <td>0.103972</td>\n",
       "      <td>7446.618386</td>\n",
       "      <td>300.349434</td>\n",
       "      <td>296234615</td>\n",
       "      <td>74046725</td>\n",
       "    </tr>\n",
       "    <tr>\n",
       "      <th>0</th>\n",
       "      <td>Layer_0_2_5_8_9_10_Skipped</td>\n",
       "      <td>0.203070</td>\n",
       "      <td>0.201249</td>\n",
       "      <td>0.203070</td>\n",
       "      <td>0.145599</td>\n",
       "      <td>6439.692999</td>\n",
       "      <td>263.759430</td>\n",
       "      <td>267876775</td>\n",
       "      <td>66958853</td>\n",
       "    </tr>\n",
       "    <tr>\n",
       "      <th>1</th>\n",
       "      <td>Layer_0_3_6_8_9_10_Skipped</td>\n",
       "      <td>0.201299</td>\n",
       "      <td>0.096439</td>\n",
       "      <td>0.201299</td>\n",
       "      <td>0.117623</td>\n",
       "      <td>6460.542090</td>\n",
       "      <td>258.725424</td>\n",
       "      <td>267876775</td>\n",
       "      <td>66958853</td>\n",
       "    </tr>\n",
       "    <tr>\n",
       "      <th>4</th>\n",
       "      <td>Layer_0_2_4_6_8_10_Skipped</td>\n",
       "      <td>0.207792</td>\n",
       "      <td>0.158397</td>\n",
       "      <td>0.207792</td>\n",
       "      <td>0.158951</td>\n",
       "      <td>6441.745052</td>\n",
       "      <td>258.355101</td>\n",
       "      <td>267876775</td>\n",
       "      <td>66958853</td>\n",
       "    </tr>\n",
       "    <tr>\n",
       "      <th>2</th>\n",
       "      <td>Layer_1_3_4_6_7_10_Skipped</td>\n",
       "      <td>0.203660</td>\n",
       "      <td>0.084385</td>\n",
       "      <td>0.203660</td>\n",
       "      <td>0.074252</td>\n",
       "      <td>6432.362280</td>\n",
       "      <td>257.727197</td>\n",
       "      <td>267876775</td>\n",
       "      <td>66958853</td>\n",
       "    </tr>\n",
       "    <tr>\n",
       "      <th>3</th>\n",
       "      <td>Layer_1_3_5_7_9_11_Skipped</td>\n",
       "      <td>0.203660</td>\n",
       "      <td>0.041477</td>\n",
       "      <td>0.203660</td>\n",
       "      <td>0.068919</td>\n",
       "      <td>6434.899003</td>\n",
       "      <td>256.654628</td>\n",
       "      <td>267876775</td>\n",
       "      <td>66958853</td>\n",
       "    </tr>\n",
       "  </tbody>\n",
       "</table>\n",
       "</div>"
      ],
      "text/plain": [
       "                      Layer Name  Accuracy  Precision    Recall        F1  \\\n",
       "7                Full_Pretrained  0.210153   0.168557  0.210153  0.161918   \n",
       "5  Layer_1_2_3_4_5_6_7_8_Skipped  0.214286   0.140591  0.214286  0.134741   \n",
       "6  Layer_5_6_7_8_9_10_11_Skipped  0.206021   0.084025  0.206021  0.103972   \n",
       "0     Layer_0_2_5_8_9_10_Skipped  0.203070   0.201249  0.203070  0.145599   \n",
       "1     Layer_0_3_6_8_9_10_Skipped  0.201299   0.096439  0.201299  0.117623   \n",
       "4     Layer_0_2_4_6_8_10_Skipped  0.207792   0.158397  0.207792  0.158951   \n",
       "2     Layer_1_3_4_6_7_10_Skipped  0.203660   0.084385  0.203660  0.074252   \n",
       "3     Layer_1_3_5_7_9_11_Skipped  0.203660   0.041477  0.203660  0.068919   \n",
       "\n",
       "   Training Time  Prediction Time  Model Size  Number of Parameters  \n",
       "7   14743.339755       512.270853   438023751             109486085  \n",
       "5    9035.415472       343.937769   324592455              81134597  \n",
       "6    7446.618386       300.349434   296234615              74046725  \n",
       "0    6439.692999       263.759430   267876775              66958853  \n",
       "1    6460.542090       258.725424   267876775              66958853  \n",
       "4    6441.745052       258.355101   267876775              66958853  \n",
       "2    6432.362280       257.727197   267876775              66958853  \n",
       "3    6434.899003       256.654628   267876775              66958853  "
      ]
     },
     "execution_count": 38,
     "metadata": {},
     "output_type": "execute_result"
    }
   ],
   "source": [
    "combined_results_sorted = combined_results.sort_values(by='Prediction Time', ascending=False)\n",
    "combined_results_sorted"
   ]
  },
  {
   "cell_type": "code",
   "execution_count": 40,
   "id": "c5d52308",
   "metadata": {
    "scrolled": true
   },
   "outputs": [],
   "source": [
    "from datetime import timedelta\n",
    "# Add a column for processing time in days, hours, minutes, and seconds format\n",
    "combined_results_sorted['Training Time (Hours)'] = combined_results_sorted['Training Time'].apply(lambda x: str(timedelta(seconds=x)))"
   ]
  },
  {
   "cell_type": "code",
   "execution_count": 42,
   "id": "4c2704e6",
   "metadata": {
    "scrolled": false
   },
   "outputs": [
    {
     "data": {
      "text/html": [
       "<div>\n",
       "<style scoped>\n",
       "    .dataframe tbody tr th:only-of-type {\n",
       "        vertical-align: middle;\n",
       "    }\n",
       "\n",
       "    .dataframe tbody tr th {\n",
       "        vertical-align: top;\n",
       "    }\n",
       "\n",
       "    .dataframe thead th {\n",
       "        text-align: right;\n",
       "    }\n",
       "</style>\n",
       "<table border=\"1\" class=\"dataframe\">\n",
       "  <thead>\n",
       "    <tr style=\"text-align: right;\">\n",
       "      <th></th>\n",
       "      <th>Layer Name</th>\n",
       "      <th>Accuracy</th>\n",
       "      <th>Precision</th>\n",
       "      <th>Recall</th>\n",
       "      <th>F1</th>\n",
       "      <th>Training Time</th>\n",
       "      <th>Prediction Time</th>\n",
       "      <th>Model Size</th>\n",
       "      <th>Number of Parameters</th>\n",
       "      <th>Training Time (Hours)</th>\n",
       "    </tr>\n",
       "  </thead>\n",
       "  <tbody>\n",
       "    <tr>\n",
       "      <th>7</th>\n",
       "      <td>Full_Pretrained</td>\n",
       "      <td>0.210153</td>\n",
       "      <td>0.168557</td>\n",
       "      <td>0.210153</td>\n",
       "      <td>0.161918</td>\n",
       "      <td>14743.339755</td>\n",
       "      <td>512.270853</td>\n",
       "      <td>438023751</td>\n",
       "      <td>109486085</td>\n",
       "      <td>4:05:43.339755</td>\n",
       "    </tr>\n",
       "    <tr>\n",
       "      <th>5</th>\n",
       "      <td>Layer_1_2_3_4_5_6_7_8_Skipped</td>\n",
       "      <td>0.214286</td>\n",
       "      <td>0.140591</td>\n",
       "      <td>0.214286</td>\n",
       "      <td>0.134741</td>\n",
       "      <td>9035.415472</td>\n",
       "      <td>343.937769</td>\n",
       "      <td>324592455</td>\n",
       "      <td>81134597</td>\n",
       "      <td>2:30:35.415472</td>\n",
       "    </tr>\n",
       "    <tr>\n",
       "      <th>6</th>\n",
       "      <td>Layer_5_6_7_8_9_10_11_Skipped</td>\n",
       "      <td>0.206021</td>\n",
       "      <td>0.084025</td>\n",
       "      <td>0.206021</td>\n",
       "      <td>0.103972</td>\n",
       "      <td>7446.618386</td>\n",
       "      <td>300.349434</td>\n",
       "      <td>296234615</td>\n",
       "      <td>74046725</td>\n",
       "      <td>2:04:06.618386</td>\n",
       "    </tr>\n",
       "    <tr>\n",
       "      <th>0</th>\n",
       "      <td>Layer_0_2_5_8_9_10_Skipped</td>\n",
       "      <td>0.203070</td>\n",
       "      <td>0.201249</td>\n",
       "      <td>0.203070</td>\n",
       "      <td>0.145599</td>\n",
       "      <td>6439.692999</td>\n",
       "      <td>263.759430</td>\n",
       "      <td>267876775</td>\n",
       "      <td>66958853</td>\n",
       "      <td>1:47:19.692999</td>\n",
       "    </tr>\n",
       "    <tr>\n",
       "      <th>1</th>\n",
       "      <td>Layer_0_3_6_8_9_10_Skipped</td>\n",
       "      <td>0.201299</td>\n",
       "      <td>0.096439</td>\n",
       "      <td>0.201299</td>\n",
       "      <td>0.117623</td>\n",
       "      <td>6460.542090</td>\n",
       "      <td>258.725424</td>\n",
       "      <td>267876775</td>\n",
       "      <td>66958853</td>\n",
       "      <td>1:47:40.542090</td>\n",
       "    </tr>\n",
       "    <tr>\n",
       "      <th>4</th>\n",
       "      <td>Layer_0_2_4_6_8_10_Skipped</td>\n",
       "      <td>0.207792</td>\n",
       "      <td>0.158397</td>\n",
       "      <td>0.207792</td>\n",
       "      <td>0.158951</td>\n",
       "      <td>6441.745052</td>\n",
       "      <td>258.355101</td>\n",
       "      <td>267876775</td>\n",
       "      <td>66958853</td>\n",
       "      <td>1:47:21.745052</td>\n",
       "    </tr>\n",
       "    <tr>\n",
       "      <th>2</th>\n",
       "      <td>Layer_1_3_4_6_7_10_Skipped</td>\n",
       "      <td>0.203660</td>\n",
       "      <td>0.084385</td>\n",
       "      <td>0.203660</td>\n",
       "      <td>0.074252</td>\n",
       "      <td>6432.362280</td>\n",
       "      <td>257.727197</td>\n",
       "      <td>267876775</td>\n",
       "      <td>66958853</td>\n",
       "      <td>1:47:12.362280</td>\n",
       "    </tr>\n",
       "    <tr>\n",
       "      <th>3</th>\n",
       "      <td>Layer_1_3_5_7_9_11_Skipped</td>\n",
       "      <td>0.203660</td>\n",
       "      <td>0.041477</td>\n",
       "      <td>0.203660</td>\n",
       "      <td>0.068919</td>\n",
       "      <td>6434.899003</td>\n",
       "      <td>256.654628</td>\n",
       "      <td>267876775</td>\n",
       "      <td>66958853</td>\n",
       "      <td>1:47:14.899003</td>\n",
       "    </tr>\n",
       "  </tbody>\n",
       "</table>\n",
       "</div>"
      ],
      "text/plain": [
       "                      Layer Name  Accuracy  Precision    Recall        F1  \\\n",
       "7                Full_Pretrained  0.210153   0.168557  0.210153  0.161918   \n",
       "5  Layer_1_2_3_4_5_6_7_8_Skipped  0.214286   0.140591  0.214286  0.134741   \n",
       "6  Layer_5_6_7_8_9_10_11_Skipped  0.206021   0.084025  0.206021  0.103972   \n",
       "0     Layer_0_2_5_8_9_10_Skipped  0.203070   0.201249  0.203070  0.145599   \n",
       "1     Layer_0_3_6_8_9_10_Skipped  0.201299   0.096439  0.201299  0.117623   \n",
       "4     Layer_0_2_4_6_8_10_Skipped  0.207792   0.158397  0.207792  0.158951   \n",
       "2     Layer_1_3_4_6_7_10_Skipped  0.203660   0.084385  0.203660  0.074252   \n",
       "3     Layer_1_3_5_7_9_11_Skipped  0.203660   0.041477  0.203660  0.068919   \n",
       "\n",
       "   Training Time  Prediction Time  Model Size  Number of Parameters  \\\n",
       "7   14743.339755       512.270853   438023751             109486085   \n",
       "5    9035.415472       343.937769   324592455              81134597   \n",
       "6    7446.618386       300.349434   296234615              74046725   \n",
       "0    6439.692999       263.759430   267876775              66958853   \n",
       "1    6460.542090       258.725424   267876775              66958853   \n",
       "4    6441.745052       258.355101   267876775              66958853   \n",
       "2    6432.362280       257.727197   267876775              66958853   \n",
       "3    6434.899003       256.654628   267876775              66958853   \n",
       "\n",
       "  Training Time (Hours)  \n",
       "7        4:05:43.339755  \n",
       "5        2:30:35.415472  \n",
       "6        2:04:06.618386  \n",
       "0        1:47:19.692999  \n",
       "1        1:47:40.542090  \n",
       "4        1:47:21.745052  \n",
       "2        1:47:12.362280  \n",
       "3        1:47:14.899003  "
      ]
     },
     "execution_count": 42,
     "metadata": {},
     "output_type": "execute_result"
    }
   ],
   "source": [
    "combined_results_sorted"
   ]
  },
  {
   "cell_type": "code",
   "execution_count": 46,
   "id": "983f0f94",
   "metadata": {
    "scrolled": false
   },
   "outputs": [],
   "source": [
    "combined_results_sorted.to_csv('Result_saved_May_5_2024_results.csv',index=False)"
   ]
  },
  {
   "cell_type": "code",
   "execution_count": 47,
   "id": "74df0a68",
   "metadata": {
    "scrolled": false
   },
   "outputs": [],
   "source": [
    "df_loaded = pd.read_csv('Result_saved_May_5_2024_results.csv')"
   ]
  },
  {
   "cell_type": "code",
   "execution_count": 48,
   "id": "ce901849",
   "metadata": {
    "scrolled": false
   },
   "outputs": [
    {
     "data": {
      "text/html": [
       "<div>\n",
       "<style scoped>\n",
       "    .dataframe tbody tr th:only-of-type {\n",
       "        vertical-align: middle;\n",
       "    }\n",
       "\n",
       "    .dataframe tbody tr th {\n",
       "        vertical-align: top;\n",
       "    }\n",
       "\n",
       "    .dataframe thead th {\n",
       "        text-align: right;\n",
       "    }\n",
       "</style>\n",
       "<table border=\"1\" class=\"dataframe\">\n",
       "  <thead>\n",
       "    <tr style=\"text-align: right;\">\n",
       "      <th></th>\n",
       "      <th>Layer Name</th>\n",
       "      <th>Accuracy</th>\n",
       "      <th>Precision</th>\n",
       "      <th>Recall</th>\n",
       "      <th>F1</th>\n",
       "      <th>Training Time</th>\n",
       "      <th>Prediction Time</th>\n",
       "      <th>Model Size</th>\n",
       "      <th>Number of Parameters</th>\n",
       "      <th>Training Time (Hours)</th>\n",
       "    </tr>\n",
       "  </thead>\n",
       "  <tbody>\n",
       "    <tr>\n",
       "      <th>0</th>\n",
       "      <td>Full_Pretrained</td>\n",
       "      <td>0.210153</td>\n",
       "      <td>0.168557</td>\n",
       "      <td>0.210153</td>\n",
       "      <td>0.161918</td>\n",
       "      <td>14743.339755</td>\n",
       "      <td>512.270853</td>\n",
       "      <td>438023751</td>\n",
       "      <td>109486085</td>\n",
       "      <td>4:05:43.339755</td>\n",
       "    </tr>\n",
       "    <tr>\n",
       "      <th>1</th>\n",
       "      <td>Layer_1_2_3_4_5_6_7_8_Skipped</td>\n",
       "      <td>0.214286</td>\n",
       "      <td>0.140591</td>\n",
       "      <td>0.214286</td>\n",
       "      <td>0.134741</td>\n",
       "      <td>9035.415472</td>\n",
       "      <td>343.937769</td>\n",
       "      <td>324592455</td>\n",
       "      <td>81134597</td>\n",
       "      <td>2:30:35.415472</td>\n",
       "    </tr>\n",
       "    <tr>\n",
       "      <th>2</th>\n",
       "      <td>Layer_5_6_7_8_9_10_11_Skipped</td>\n",
       "      <td>0.206021</td>\n",
       "      <td>0.084025</td>\n",
       "      <td>0.206021</td>\n",
       "      <td>0.103972</td>\n",
       "      <td>7446.618386</td>\n",
       "      <td>300.349434</td>\n",
       "      <td>296234615</td>\n",
       "      <td>74046725</td>\n",
       "      <td>2:04:06.618386</td>\n",
       "    </tr>\n",
       "    <tr>\n",
       "      <th>3</th>\n",
       "      <td>Layer_0_2_5_8_9_10_Skipped</td>\n",
       "      <td>0.203070</td>\n",
       "      <td>0.201249</td>\n",
       "      <td>0.203070</td>\n",
       "      <td>0.145599</td>\n",
       "      <td>6439.692999</td>\n",
       "      <td>263.759430</td>\n",
       "      <td>267876775</td>\n",
       "      <td>66958853</td>\n",
       "      <td>1:47:19.692999</td>\n",
       "    </tr>\n",
       "    <tr>\n",
       "      <th>4</th>\n",
       "      <td>Layer_0_3_6_8_9_10_Skipped</td>\n",
       "      <td>0.201299</td>\n",
       "      <td>0.096439</td>\n",
       "      <td>0.201299</td>\n",
       "      <td>0.117623</td>\n",
       "      <td>6460.542090</td>\n",
       "      <td>258.725424</td>\n",
       "      <td>267876775</td>\n",
       "      <td>66958853</td>\n",
       "      <td>1:47:40.542090</td>\n",
       "    </tr>\n",
       "    <tr>\n",
       "      <th>5</th>\n",
       "      <td>Layer_0_2_4_6_8_10_Skipped</td>\n",
       "      <td>0.207792</td>\n",
       "      <td>0.158397</td>\n",
       "      <td>0.207792</td>\n",
       "      <td>0.158951</td>\n",
       "      <td>6441.745052</td>\n",
       "      <td>258.355101</td>\n",
       "      <td>267876775</td>\n",
       "      <td>66958853</td>\n",
       "      <td>1:47:21.745052</td>\n",
       "    </tr>\n",
       "    <tr>\n",
       "      <th>6</th>\n",
       "      <td>Layer_1_3_4_6_7_10_Skipped</td>\n",
       "      <td>0.203660</td>\n",
       "      <td>0.084385</td>\n",
       "      <td>0.203660</td>\n",
       "      <td>0.074252</td>\n",
       "      <td>6432.362280</td>\n",
       "      <td>257.727197</td>\n",
       "      <td>267876775</td>\n",
       "      <td>66958853</td>\n",
       "      <td>1:47:12.362280</td>\n",
       "    </tr>\n",
       "    <tr>\n",
       "      <th>7</th>\n",
       "      <td>Layer_1_3_5_7_9_11_Skipped</td>\n",
       "      <td>0.203660</td>\n",
       "      <td>0.041477</td>\n",
       "      <td>0.203660</td>\n",
       "      <td>0.068919</td>\n",
       "      <td>6434.899003</td>\n",
       "      <td>256.654628</td>\n",
       "      <td>267876775</td>\n",
       "      <td>66958853</td>\n",
       "      <td>1:47:14.899003</td>\n",
       "    </tr>\n",
       "  </tbody>\n",
       "</table>\n",
       "</div>"
      ],
      "text/plain": [
       "                      Layer Name  Accuracy  Precision    Recall        F1  \\\n",
       "0                Full_Pretrained  0.210153   0.168557  0.210153  0.161918   \n",
       "1  Layer_1_2_3_4_5_6_7_8_Skipped  0.214286   0.140591  0.214286  0.134741   \n",
       "2  Layer_5_6_7_8_9_10_11_Skipped  0.206021   0.084025  0.206021  0.103972   \n",
       "3     Layer_0_2_5_8_9_10_Skipped  0.203070   0.201249  0.203070  0.145599   \n",
       "4     Layer_0_3_6_8_9_10_Skipped  0.201299   0.096439  0.201299  0.117623   \n",
       "5     Layer_0_2_4_6_8_10_Skipped  0.207792   0.158397  0.207792  0.158951   \n",
       "6     Layer_1_3_4_6_7_10_Skipped  0.203660   0.084385  0.203660  0.074252   \n",
       "7     Layer_1_3_5_7_9_11_Skipped  0.203660   0.041477  0.203660  0.068919   \n",
       "\n",
       "   Training Time  Prediction Time  Model Size  Number of Parameters  \\\n",
       "0   14743.339755       512.270853   438023751             109486085   \n",
       "1    9035.415472       343.937769   324592455              81134597   \n",
       "2    7446.618386       300.349434   296234615              74046725   \n",
       "3    6439.692999       263.759430   267876775              66958853   \n",
       "4    6460.542090       258.725424   267876775              66958853   \n",
       "5    6441.745052       258.355101   267876775              66958853   \n",
       "6    6432.362280       257.727197   267876775              66958853   \n",
       "7    6434.899003       256.654628   267876775              66958853   \n",
       "\n",
       "  Training Time (Hours)  \n",
       "0        4:05:43.339755  \n",
       "1        2:30:35.415472  \n",
       "2        2:04:06.618386  \n",
       "3        1:47:19.692999  \n",
       "4        1:47:40.542090  \n",
       "5        1:47:21.745052  \n",
       "6        1:47:12.362280  \n",
       "7        1:47:14.899003  "
      ]
     },
     "execution_count": 48,
     "metadata": {},
     "output_type": "execute_result"
    }
   ],
   "source": [
    "df_loaded"
   ]
  },
  {
   "cell_type": "code",
   "execution_count": null,
   "id": "f5ea213c",
   "metadata": {
    "collapsed": true,
    "scrolled": false
   },
   "outputs": [],
   "source": []
  },
  {
   "cell_type": "code",
   "execution_count": null,
   "id": "8d4268d2",
   "metadata": {
    "collapsed": true,
    "scrolled": false
   },
   "outputs": [],
   "source": []
  },
  {
   "cell_type": "code",
   "execution_count": 50,
   "id": "045419a6",
   "metadata": {
    "scrolled": false
   },
   "outputs": [
    {
     "data": {
      "image/png": "[encoded data removed]",
      "text/plain": [
       "<Figure size 864x576 with 1 Axes>"
      ]
     },
     "metadata": {
      "needs_background": "light"
     },
     "output_type": "display_data"
    }
   ],
   "source": [
    "import numpy as np\n",
    "import matplotlib.pyplot as plt\n",
    "\n",
    "# Extract the relevant data from the combined results DataFrame\n",
    "experiment_names = combined_results['Layer Name']\n",
    "accuracy = combined_results['Accuracy']\n",
    "f1_score = combined_results['F1']\n",
    "processing_time = combined_results['Training Time']\n",
    "\n",
    "# Set the width of the bars\n",
    "bar_width = 0.25\n",
    "\n",
    "# Set the positions of the bars on the x-axis\n",
    "r1 = np.arange(len(experiment_names))\n",
    "r2 = [x + bar_width for x in r1]\n",
    "r3 = [x + bar_width for x in r2]\n",
    "\n",
    "# Plot the results\n",
    "plt.figure(figsize=(12, 8))\n",
    "\n",
    "plt.barh(r1, accuracy, color='skyblue', height=bar_width, edgecolor='grey', label='Accuracy')\n",
    "plt.barh(r2, f1_score, color='lightgreen', height=bar_width, edgecolor='grey', label='F1 Score')\n",
    "plt.barh(r3, processing_time, color='salmon', height=bar_width, edgecolor='grey', label='Processing Time')\n",
    "\n",
    "# Add labels, tick labels, and title\n",
    "plt.xlabel('Metrics', fontweight='bold')\n",
    "plt.ylabel('Experiment', fontweight='bold')\n",
    "plt.yticks([r + bar_width for r in range(len(experiment_names))], experiment_names)\n",
    "plt.title('Performance Metrics of Experiments', fontweight='bold')\n",
    "plt.legend()\n",
    "\n",
    "plt.show()\n"
   ]
  },
  {
   "cell_type": "code",
   "execution_count": null,
   "id": "0bda7bda",
   "metadata": {
    "collapsed": true,
    "scrolled": false
   },
   "outputs": [],
   "source": []
  }
 ],
 "metadata": {
  "kernelspec": {
   "display_name": "Python 3 (ipykernel)",
   "language": "python",
   "name": "python3"
  },
  "language_info": {
   "codemirror_mode": {
    "name": "ipython",
    "version": 3
   },
   "file_extension": ".py",
   "mimetype": "text/x-python",
   "name": "python",
   "nbconvert_exporter": "python",
   "pygments_lexer": "ipython3",
   "version": "3.9.7"
  }
 },
 "nbformat": 4,
 "nbformat_minor": 5
}
